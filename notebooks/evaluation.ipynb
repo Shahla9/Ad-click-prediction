{
 "cells": [
  {
   "cell_type": "markdown",
   "id": "97bed70e-3951-4055-9e33-a1a0bad43bad",
   "metadata": {},
   "source": [
    "# init"
   ]
  },
  {
   "cell_type": "markdown",
   "id": "d20e3a72-8ce2-40b6-afd3-02768bc4f97c",
   "metadata": {},
   "source": [
    "## imports"
   ]
  },
  {
   "cell_type": "code",
   "execution_count": 4,
   "id": "fd5f0fd3-b37f-409f-89ac-1daf1a82b60c",
   "metadata": {},
   "outputs": [],
   "source": [
    "import matplotlib.pyplot as plt\n",
    "import os\n",
    "import pandas as pd\n",
    "from sklearn.metrics import roc_auc_score, roc_curve\n",
    "import warnings\n",
    "\n",
    "warnings.filterwarnings('ignore')"
   ]
  },
  {
   "cell_type": "markdown",
   "id": "011aee86-cd99-4468-808d-3e6598e7a730",
   "metadata": {},
   "source": [
    "## configs"
   ]
  },
  {
   "cell_type": "code",
   "execution_count": 5,
   "id": "68d9c080-e1c7-41fe-9803-e35e3a97ac3d",
   "metadata": {},
   "outputs": [],
   "source": [
    "PREDICTION_DATA_PATH = os.path.expanduser('~/class/ad_click/data/test.csv')"
   ]
  },
  {
   "cell_type": "markdown",
   "id": "2e050424-07ee-4feb-b3da-090e08abad10",
   "metadata": {},
   "source": [
    "# load data"
   ]
  },
  {
   "cell_type": "code",
   "execution_count": 6,
   "id": "de93a7a9-dd29-4f9d-b8f5-7c36575c74bf",
   "metadata": {
    "scrolled": true
   },
   "outputs": [
    {
     "data": {
      "text/html": [
       "<div>\n",
       "<style scoped>\n",
       "    .dataframe tbody tr th:only-of-type {\n",
       "        vertical-align: middle;\n",
       "    }\n",
       "\n",
       "    .dataframe tbody tr th {\n",
       "        vertical-align: top;\n",
       "    }\n",
       "\n",
       "    .dataframe thead th {\n",
       "        text-align: right;\n",
       "    }\n",
       "</style>\n",
       "<table border=\"1\" class=\"dataframe\">\n",
       "  <thead>\n",
       "    <tr style=\"text-align: right;\">\n",
       "      <th></th>\n",
       "      <th>adgroup_id</th>\n",
       "      <th>userid</th>\n",
       "      <th>time_stamp</th>\n",
       "      <th>pid</th>\n",
       "      <th>nonclk</th>\n",
       "      <th>clk</th>\n",
       "      <th>cms_segid</th>\n",
       "      <th>cms_group_id</th>\n",
       "      <th>pvalue_level</th>\n",
       "      <th>shopping_level</th>\n",
       "      <th>...</th>\n",
       "      <th>cate_clk_count</th>\n",
       "      <th>cat_gender_ad_count</th>\n",
       "      <th>cat_gender_ad_clk_count</th>\n",
       "      <th>cat_age_ad_count</th>\n",
       "      <th>cat_age_ad_clk_count</th>\n",
       "      <th>gender_age_ad_count</th>\n",
       "      <th>gender_age_ad_clk_count</th>\n",
       "      <th>Pred_xg1</th>\n",
       "      <th>Pred_xg2</th>\n",
       "      <th>Pred_xg3</th>\n",
       "    </tr>\n",
       "  </thead>\n",
       "  <tbody>\n",
       "    <tr>\n",
       "      <th>0</th>\n",
       "      <td>102</td>\n",
       "      <td>1122493</td>\n",
       "      <td>1494544665</td>\n",
       "      <td>430539_1007</td>\n",
       "      <td>1</td>\n",
       "      <td>0</td>\n",
       "      <td>0</td>\n",
       "      <td>10</td>\n",
       "      <td>NaN</td>\n",
       "      <td>3</td>\n",
       "      <td>...</td>\n",
       "      <td>120.0</td>\n",
       "      <td>437</td>\n",
       "      <td>17.0</td>\n",
       "      <td>972</td>\n",
       "      <td>49.0</td>\n",
       "      <td>31</td>\n",
       "      <td>1.0</td>\n",
       "      <td>0.425842</td>\n",
       "      <td>0.425445</td>\n",
       "      <td>0.361358</td>\n",
       "    </tr>\n",
       "    <tr>\n",
       "      <th>1</th>\n",
       "      <td>102</td>\n",
       "      <td>1030522</td>\n",
       "      <td>1494561308</td>\n",
       "      <td>430539_1007</td>\n",
       "      <td>1</td>\n",
       "      <td>0</td>\n",
       "      <td>82</td>\n",
       "      <td>10</td>\n",
       "      <td>3.0</td>\n",
       "      <td>3</td>\n",
       "      <td>...</td>\n",
       "      <td>128.0</td>\n",
       "      <td>452</td>\n",
       "      <td>18.0</td>\n",
       "      <td>1031</td>\n",
       "      <td>53.0</td>\n",
       "      <td>32</td>\n",
       "      <td>1.0</td>\n",
       "      <td>0.413324</td>\n",
       "      <td>0.557408</td>\n",
       "      <td>0.347493</td>\n",
       "    </tr>\n",
       "    <tr>\n",
       "      <th>2</th>\n",
       "      <td>102</td>\n",
       "      <td>686384</td>\n",
       "      <td>1494575099</td>\n",
       "      <td>430539_1007</td>\n",
       "      <td>1</td>\n",
       "      <td>0</td>\n",
       "      <td>0</td>\n",
       "      <td>10</td>\n",
       "      <td>NaN</td>\n",
       "      <td>3</td>\n",
       "      <td>...</td>\n",
       "      <td>132.0</td>\n",
       "      <td>464</td>\n",
       "      <td>18.0</td>\n",
       "      <td>1067</td>\n",
       "      <td>53.0</td>\n",
       "      <td>33</td>\n",
       "      <td>1.0</td>\n",
       "      <td>0.395283</td>\n",
       "      <td>0.429266</td>\n",
       "      <td>0.356536</td>\n",
       "    </tr>\n",
       "    <tr>\n",
       "      <th>3</th>\n",
       "      <td>102</td>\n",
       "      <td>769032</td>\n",
       "      <td>1494577595</td>\n",
       "      <td>430548_1007</td>\n",
       "      <td>1</td>\n",
       "      <td>0</td>\n",
       "      <td>80</td>\n",
       "      <td>10</td>\n",
       "      <td>2.0</td>\n",
       "      <td>3</td>\n",
       "      <td>...</td>\n",
       "      <td>134.0</td>\n",
       "      <td>466</td>\n",
       "      <td>18.0</td>\n",
       "      <td>1077</td>\n",
       "      <td>54.0</td>\n",
       "      <td>34</td>\n",
       "      <td>1.0</td>\n",
       "      <td>0.395283</td>\n",
       "      <td>0.314430</td>\n",
       "      <td>0.282013</td>\n",
       "    </tr>\n",
       "    <tr>\n",
       "      <th>4</th>\n",
       "      <td>102</td>\n",
       "      <td>83112</td>\n",
       "      <td>1494579892</td>\n",
       "      <td>430539_1007</td>\n",
       "      <td>1</td>\n",
       "      <td>0</td>\n",
       "      <td>80</td>\n",
       "      <td>10</td>\n",
       "      <td>2.0</td>\n",
       "      <td>3</td>\n",
       "      <td>...</td>\n",
       "      <td>134.0</td>\n",
       "      <td>469</td>\n",
       "      <td>18.0</td>\n",
       "      <td>1086</td>\n",
       "      <td>54.0</td>\n",
       "      <td>35</td>\n",
       "      <td>1.0</td>\n",
       "      <td>0.395283</td>\n",
       "      <td>0.471036</td>\n",
       "      <td>0.398434</td>\n",
       "    </tr>\n",
       "  </tbody>\n",
       "</table>\n",
       "<p>5 rows × 37 columns</p>\n",
       "</div>"
      ],
      "text/plain": [
       "   adgroup_id   userid  time_stamp          pid  nonclk  clk  cms_segid  \\\n",
       "0         102  1122493  1494544665  430539_1007       1    0          0   \n",
       "1         102  1030522  1494561308  430539_1007       1    0         82   \n",
       "2         102   686384  1494575099  430539_1007       1    0          0   \n",
       "3         102   769032  1494577595  430548_1007       1    0         80   \n",
       "4         102    83112  1494579892  430539_1007       1    0         80   \n",
       "\n",
       "   cms_group_id  pvalue_level  shopping_level  ...  cate_clk_count  \\\n",
       "0            10           NaN               3  ...           120.0   \n",
       "1            10           3.0               3  ...           128.0   \n",
       "2            10           NaN               3  ...           132.0   \n",
       "3            10           2.0               3  ...           134.0   \n",
       "4            10           2.0               3  ...           134.0   \n",
       "\n",
       "   cat_gender_ad_count  cat_gender_ad_clk_count  cat_age_ad_count  \\\n",
       "0                  437                     17.0               972   \n",
       "1                  452                     18.0              1031   \n",
       "2                  464                     18.0              1067   \n",
       "3                  466                     18.0              1077   \n",
       "4                  469                     18.0              1086   \n",
       "\n",
       "   cat_age_ad_clk_count  gender_age_ad_count  gender_age_ad_clk_count  \\\n",
       "0                  49.0                   31                      1.0   \n",
       "1                  53.0                   32                      1.0   \n",
       "2                  53.0                   33                      1.0   \n",
       "3                  54.0                   34                      1.0   \n",
       "4                  54.0                   35                      1.0   \n",
       "\n",
       "   Pred_xg1  Pred_xg2  Pred_xg3  \n",
       "0  0.425842  0.425445  0.361358  \n",
       "1  0.413324  0.557408  0.347493  \n",
       "2  0.395283  0.429266  0.356536  \n",
       "3  0.395283  0.314430  0.282013  \n",
       "4  0.395283  0.471036  0.398434  \n",
       "\n",
       "[5 rows x 37 columns]"
      ]
     },
     "execution_count": 6,
     "metadata": {},
     "output_type": "execute_result"
    }
   ],
   "source": [
    "pred_df = pd.read_csv(PREDICTION_DATA_PATH)\n",
    "pred_df.head()"
   ]
  },
  {
   "cell_type": "markdown",
   "id": "92186a55-22ed-465a-aba9-6e297f560bff",
   "metadata": {},
   "source": [
    "# evaluation"
   ]
  },
  {
   "cell_type": "markdown",
   "id": "265207ed-ab70-4b69-820e-057005aa1d78",
   "metadata": {},
   "source": [
    "### auc curve"
   ]
  },
  {
   "cell_type": "code",
   "execution_count": 5,
   "id": "4d022314-0619-49ff-957f-cee5cd1ce38c",
   "metadata": {},
   "outputs": [],
   "source": [
    "results_dict = {}\n",
    "auc_scores = {}\n",
    "table_data = []"
   ]
  },
  {
   "cell_type": "code",
   "execution_count": 6,
   "id": "ea838d2e-9cac-4545-9200-9e34eb238838",
   "metadata": {},
   "outputs": [
    {
     "data": {
      "image/png": "[encoded data removed]",
      "text/plain": [
       "<Figure size 400x300 with 1 Axes>"
      ]
     },
     "metadata": {},
     "output_type": "display_data"
    }
   ],
   "source": [
    "true_labels = pred_df['clk']\n",
    "xgs = 4\n",
    "\n",
    "plt.figure(figsize=(4, 3))  # Adjust the figure size if needed\n",
    "\n",
    "for xg in range(1, xgs):\n",
    "    key = f'predicted_probabilities_{xg}'\n",
    "    results_dict[key] = pred_df[f'Pred_xg{xg}']\n",
    "    auc_score = roc_auc_score(true_labels, results_dict[key])\n",
    "    auc_scores[xg] = auc_score\n",
    "    table_data.append([f'Model {xg}', auc_score])\n",
    "    fpr, tpr, _ = roc_curve(true_labels, results_dict[key])\n",
    "    plt.plot(fpr, tpr, lw=2, label=f'Model {xg} (AUC = {auc_score:.1f})')\n",
    "\n",
    "plt.plot([0, 1], [0, 1], color='navy', lw=2, linestyle='--')\n",
    "plt.xlabel('False Positive Rate')\n",
    "plt.ylabel('True Positive Rate')\n",
    "plt.title('ROC Curve')\n",
    "plt.legend(loc='lower right')\n",
    "plt.show()"
   ]
  }
 ],
 "metadata": {
  "kernelspec": {
   "display_name": "Python 3 (ipykernel)",
   "language": "python",
   "name": "python3"
  },
  "language_info": {
   "codemirror_mode": {
    "name": "ipython",
    "version": 3
   },
   "file_extension": ".py",
   "mimetype": "text/x-python",
   "name": "python",
   "nbconvert_exporter": "python",
   "pygments_lexer": "ipython3",
   "version": "3.10.12"
  }
 },
 "nbformat": 4,
 "nbformat_minor": 5
}
