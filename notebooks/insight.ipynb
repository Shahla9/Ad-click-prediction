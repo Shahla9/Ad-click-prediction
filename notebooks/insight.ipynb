{
 "cells": [
  {
   "cell_type": "markdown",
   "id": "97bed70e-3951-4055-9e33-a1a0bad43bad",
   "metadata": {},
   "source": [
    "# init"
   ]
  },
  {
   "cell_type": "markdown",
   "id": "bb75388f-4320-4f89-97a3-5bda43f138ee",
   "metadata": {},
   "source": [
    "## imports"
   ]
  },
  {
   "cell_type": "code",
   "execution_count": 2,
   "id": "98f5668e-4962-4c54-96b7-79325b1e95b0",
   "metadata": {},
   "outputs": [],
   "source": [
    "import matplotlib.pyplot as plt\n",
    "import os\n",
    "import pandas as pd\n",
    "import warnings\n",
    "\n",
    "from pyspark.sql import functions as F\n",
    "from pyspark.sql import SparkSession\n",
    "from pyspark import SparkContext\n",
    "from pyspark.sql import types as T\n",
    "from pyspark.sql import Window as W\n",
    "\n",
    "warnings.filterwarnings('ignore')\n",
    "os.environ[\"SPARK_LOCAL_IP\"] = \"127.0.0.1\"\n",
    "sc.setLogLevel(\"ERROR\")"
   ]
  },
  {
   "cell_type": "markdown",
   "id": "3603e1b4-7127-4a1a-823a-55604286675b",
   "metadata": {},
   "source": [
    "## configs"
   ]
  },
  {
   "cell_type": "code",
   "execution_count": 3,
   "id": "767c8c76-eb97-4ba7-a98b-77531ca3a94a",
   "metadata": {},
   "outputs": [],
   "source": [
    "SPARK_THREADS = 16\n",
    "SPARK_MEMORY = 16\n",
    "SPARK_TIMEZONE = 'America/Vancouver'"
   ]
  },
  {
   "cell_type": "code",
   "execution_count": 4,
   "id": "b53e2760-16f0-4c2f-932d-6d5361ac577f",
   "metadata": {},
   "outputs": [],
   "source": [
    "BASE_PATH = os.path.expanduser('~/class/ad_click/data/raw_data/')\n",
    "USER_DATA_PATH = BASE_PATH + 'user_profile.csv'\n",
    "AD_CLICK_DATA_PATH = BASE_PATH + 'raw_sample.csv'\n",
    "AD_INFO_DATA_PATH = BASE_PATH + 'ad_feature.csv'"
   ]
  },
  {
   "cell_type": "markdown",
   "id": "3b5cee49-85c7-43dd-9b51-c0c1bac3afa3",
   "metadata": {},
   "source": [
    "## spark instantiation"
   ]
  },
  {
   "cell_type": "code",
   "execution_count": 5,
   "id": "319ea4d0-6758-4603-8d40-b3b17299e1e0",
   "metadata": {},
   "outputs": [],
   "source": [
    "spark = (\n",
    "    SparkSession \n",
    "    .builder \n",
    "    .master('local[{}]'.format(SPARK_THREADS)) \n",
    "    .config('spark.driver.memory', '{}g'.format(SPARK_MEMORY)) \n",
    "    .config('spark.sql.session.timeZone', SPARK_TIMEZONE) \n",
    "    .getOrCreate()\n",
    ")"
   ]
  },
  {
   "cell_type": "markdown",
   "id": "b7f7c8f9-2167-403c-8fb8-c48d0072fbf1",
   "metadata": {},
   "source": [
    "## util"
   ]
  },
  {
   "cell_type": "code",
   "execution_count": 6,
   "id": "3e80140c-24ca-45d6-b0a7-0c0a2f59e1b6",
   "metadata": {},
   "outputs": [],
   "source": [
    "def summerize_df(df):\n",
    "    print(df.count())\n",
    "    df.show(3)"
   ]
  },
  {
   "cell_type": "markdown",
   "id": "2e050424-07ee-4feb-b3da-090e08abad10",
   "metadata": {},
   "source": [
    "# load data"
   ]
  },
  {
   "cell_type": "code",
   "execution_count": 7,
   "id": "2ed14114-57b6-4f19-b249-d2253cb553f3",
   "metadata": {},
   "outputs": [
    {
     "name": "stderr",
     "output_type": "stream",
     "text": [
      "                                                                                \r"
     ]
    },
    {
     "name": "stdout",
     "output_type": "stream",
     "text": [
      "1061768\n",
      "+------+---------+------------+-----------------+---------+------------+--------------+----------+---------------------+\n",
      "|userid|cms_segid|cms_group_id|final_gender_code|age_level|pvalue_level|shopping_level|occupation|new_user_class_level |\n",
      "+------+---------+------------+-----------------+---------+------------+--------------+----------+---------------------+\n",
      "|   234|        0|           5|                2|        5|        NULL|             3|         0|                    3|\n",
      "|   523|        5|           2|                2|        2|           1|             3|         1|                    2|\n",
      "|   612|        0|           8|                1|        2|           2|             3|         0|                 NULL|\n",
      "+------+---------+------------+-----------------+---------+------------+--------------+----------+---------------------+\n",
      "only showing top 3 rows\n",
      "\n"
     ]
    }
   ],
   "source": [
    "user_df = spark.read.csv(USER_DATA_PATH, header = True, inferSchema=True)\n",
    "summerize_df(user_df)"
   ]
  },
  {
   "cell_type": "code",
   "execution_count": 8,
   "id": "70cb8248-9b19-493e-b9b7-182d4c802683",
   "metadata": {},
   "outputs": [
    {
     "name": "stderr",
     "output_type": "stream",
     "text": [
      "                                                                                \r"
     ]
    },
    {
     "name": "stdout",
     "output_type": "stream",
     "text": [
      "846811\n",
      "+----------+-------+-----------+--------+-----+-----+\n",
      "|adgroup_id|cate_id|campaign_id|customer|brand|price|\n",
      "+----------+-------+-----------+--------+-----+-----+\n",
      "|     63133|   6406|      83237|       1|95471|170.0|\n",
      "|    313401|   6406|      83237|       1|87331|199.0|\n",
      "|    248909|    392|      83237|       1|32233| 38.0|\n",
      "+----------+-------+-----------+--------+-----+-----+\n",
      "only showing top 3 rows\n",
      "\n"
     ]
    }
   ],
   "source": [
    "ad_info_df = spark.read.csv(AD_INFO_DATA_PATH, header = True, inferSchema=True)\n",
    "summerize_df(ad_info_df)"
   ]
  },
  {
   "cell_type": "code",
   "execution_count": 9,
   "id": "1020e7a5-4064-4ae9-9ed5-4ef29c1fd495",
   "metadata": {},
   "outputs": [
    {
     "name": "stderr",
     "output_type": "stream",
     "text": [
      "[Stage 14:=============================================>            (7 + 1) / 9]\r"
     ]
    },
    {
     "name": "stdout",
     "output_type": "stream",
     "text": [
      "26557961\n",
      "+------+----------+----------+-----------+------+---+\n",
      "|  user|time_stamp|adgroup_id|        pid|nonclk|clk|\n",
      "+------+----------+----------+-----------+------+---+\n",
      "|581738|1494137644|         1|430548_1007|     1|  0|\n",
      "|449818|1494638778|         3|430548_1007|     1|  0|\n",
      "|914836|1494650879|         4|430548_1007|     1|  0|\n",
      "+------+----------+----------+-----------+------+---+\n",
      "only showing top 3 rows\n",
      "\n"
     ]
    },
    {
     "name": "stderr",
     "output_type": "stream",
     "text": [
      "                                                                                \r"
     ]
    }
   ],
   "source": [
    "ad_click_df = spark.read.csv(AD_CLICK_DATA_PATH, header = True, inferSchema=True)\n",
    "summerize_df(ad_click_df)"
   ]
  },
  {
   "cell_type": "markdown",
   "id": "6a59254f-455e-4c4b-9cb5-349f9d6040c9",
   "metadata": {},
   "source": [
    "# join"
   ]
  },
  {
   "cell_type": "code",
   "execution_count": 10,
   "id": "adcbec65-3af0-4959-bf29-b8170453bf72",
   "metadata": {},
   "outputs": [
    {
     "name": "stderr",
     "output_type": "stream",
     "text": [
      "[Stage 33:==============================================>       (174 + 1) / 200]\r"
     ]
    },
    {
     "name": "stdout",
     "output_type": "stream",
     "text": [
      "25029435\n",
      "+----------+-------+----------+-----------+------+---+---------+------------+-----------------+---------+------------+--------------+----------+---------------------+-------+-----------+--------+------+-----+\n",
      "|adgroup_id| userid|time_stamp|        pid|nonclk|clk|cms_segid|cms_group_id|final_gender_code|age_level|pvalue_level|shopping_level|occupation|new_user_class_level |cate_id|campaign_id|customer| brand|price|\n",
      "+----------+-------+----------+-----------+------+---+---------+------------+-----------------+---------+------------+--------------+----------+---------------------+-------+-----------+--------+------+-----+\n",
      "|       148| 715390|1494233581|430539_1007|     0|  1|        0|          10|                1|        4|        NULL|             3|         0|                    2|  11005|     395681|   50113|390701| 26.0|\n",
      "|       148| 715390|1494487910|430539_1007|     1|  0|        0|          10|                1|        4|        NULL|             3|         0|                    2|  11005|     395681|   50113|390701| 26.0|\n",
      "|       148|1040395|1494306282|430539_1007|     0|  1|       56|           8|                1|        2|           1|             3|         0|                    2|  11005|     395681|   50113|390701| 26.0|\n",
      "+----------+-------+----------+-----------+------+---+---------+------------+-----------------+---------+------------+--------------+----------+---------------------+-------+-----------+--------+------+-----+\n",
      "only showing top 3 rows\n",
      "\n"
     ]
    },
    {
     "name": "stderr",
     "output_type": "stream",
     "text": [
      "                                                                                \r"
     ]
    }
   ],
   "source": [
    "ad_click_df = ad_click_df.withColumnRenamed('user', 'userid')\n",
    "\n",
    "ad_click_user_df = ad_click_df.join(user_df, on='userid')\n",
    "merged_df = ad_click_user_df.join(ad_info_df, on='adgroup_id')\n",
    "\n",
    "merged_df.persist()\n",
    "summerize_df(merged_df)"
   ]
  },
  {
   "cell_type": "markdown",
   "id": "44d08c5f-83ff-4761-8795-3b95582990c0",
   "metadata": {},
   "source": [
    "# questions"
   ]
  },
  {
   "cell_type": "markdown",
   "id": "445452ce-7d6a-446c-b612-1e931b817af0",
   "metadata": {},
   "source": [
    "## ad click distribution"
   ]
  },
  {
   "cell_type": "code",
   "execution_count": 10,
   "id": "433ca170-403b-494a-8f6d-27f2cedd5820",
   "metadata": {},
   "outputs": [
    {
     "name": "stderr",
     "output_type": "stream",
     "text": [
      "[Stage 45:>                                                       (0 + 16) / 16]\r"
     ]
    },
    {
     "name": "stdout",
     "output_type": "stream",
     "text": [
      "+---+--------+\n",
      "|clk|   count|\n",
      "+---+--------+\n",
      "|  1| 1366056|\n",
      "|  0|25191905|\n",
      "+---+--------+\n",
      "\n"
     ]
    },
    {
     "name": "stderr",
     "output_type": "stream",
     "text": [
      "                                                                                \r"
     ]
    }
   ],
   "source": [
    "(\n",
    "    ad_click_df\n",
    "    .groupby('clk')\n",
    "    .count()\n",
    "    .show()\n",
    ")"
   ]
  },
  {
   "cell_type": "markdown",
   "id": "f97f7bb3-c637-4954-a2bf-614d09a80841",
   "metadata": {},
   "source": [
    "## time interval"
   ]
  },
  {
   "cell_type": "code",
   "execution_count": 11,
   "id": "fa1f2df3-ce28-4613-a71b-be000ac4dd12",
   "metadata": {},
   "outputs": [
    {
     "name": "stderr",
     "output_type": "stream",
     "text": [
      "[Stage 48:>                                                       (0 + 16) / 16]\r"
     ]
    },
    {
     "name": "stdout",
     "output_type": "stream",
     "text": [
      "+-------------------+-------------------+\n",
      "|          min(time)|          max(time)|\n",
      "+-------------------+-------------------+\n",
      "|2017-05-05 09:00:00|2017-05-13 08:59:46|\n",
      "+-------------------+-------------------+\n",
      "\n"
     ]
    },
    {
     "name": "stderr",
     "output_type": "stream",
     "text": [
      "                                                                                \r"
     ]
    }
   ],
   "source": [
    "(\n",
    "    ad_click_df\n",
    "    .withColumn('time', F.from_unixtime(F.col('time_stamp')))\n",
    "    .groupby()\n",
    "    .agg(\n",
    "        F.min('time'),\n",
    "        F.max('time')) \n",
    "    .show()\n",
    ")"
   ]
  },
  {
   "cell_type": "markdown",
   "id": "7bbf5dec-2aef-4c60-b66c-f6494c485d03",
   "metadata": {},
   "source": [
    "## ad group count"
   ]
  },
  {
   "cell_type": "code",
   "execution_count": 12,
   "id": "dfb105aa-647f-478c-b189-878211bebdb1",
   "metadata": {},
   "outputs": [
    {
     "name": "stdout",
     "output_type": "stream",
     "text": [
      "+--------------------------+\n",
      "|count(DISTINCT adgroup_id)|\n",
      "+--------------------------+\n",
      "|                    846811|\n",
      "+--------------------------+\n",
      "\n"
     ]
    }
   ],
   "source": [
    "(\n",
    "    ad_info_df\n",
    "    .groupby()\n",
    "    .agg(\n",
    "        F.count_distinct('adgroup_id'))\n",
    "    .show()\n",
    ")"
   ]
  },
  {
   "cell_type": "markdown",
   "id": "26ae11d7-ee59-4c64-ab14-7e21ad5c42b0",
   "metadata": {},
   "source": [
    "## campaign id count"
   ]
  },
  {
   "cell_type": "code",
   "execution_count": 13,
   "id": "1476d149-cdcc-4d72-809b-a665ba16efb7",
   "metadata": {},
   "outputs": [
    {
     "name": "stdout",
     "output_type": "stream",
     "text": [
      "+---------------------------+\n",
      "|count(DISTINCT campaign_id)|\n",
      "+---------------------------+\n",
      "|                     423436|\n",
      "+---------------------------+\n",
      "\n"
     ]
    }
   ],
   "source": [
    "(\n",
    "    ad_info_df\n",
    "    .groupby()\n",
    "    .agg(\n",
    "        F.count_distinct('campaign_id'))\n",
    "    .show()\n",
    ")"
   ]
  },
  {
   "cell_type": "markdown",
   "id": "b69e1222-305d-4dc4-b3f9-b3db12f2bca4",
   "metadata": {},
   "source": [
    "## ad category id count"
   ]
  },
  {
   "cell_type": "code",
   "execution_count": 14,
   "id": "7886a6f3-6b5f-4a4f-886d-000ba570ca02",
   "metadata": {},
   "outputs": [
    {
     "name": "stdout",
     "output_type": "stream",
     "text": [
      "+-----------------------+\n",
      "|count(DISTINCT cate_id)|\n",
      "+-----------------------+\n",
      "|                   6769|\n",
      "+-----------------------+\n",
      "\n"
     ]
    }
   ],
   "source": [
    "(\n",
    "    ad_info_df\n",
    "    .groupby()\n",
    "    .agg(\n",
    "        F.count_distinct('cate_id'))\n",
    "    .show()\n",
    ")"
   ]
  },
  {
   "cell_type": "markdown",
   "id": "f7bca689-b42b-4876-96b3-7eaaa1765dc6",
   "metadata": {},
   "source": [
    "## ad brand count"
   ]
  },
  {
   "cell_type": "code",
   "execution_count": 15,
   "id": "dcd5e5e2-8ed3-4cb6-8520-7d793d206cfd",
   "metadata": {},
   "outputs": [
    {
     "name": "stdout",
     "output_type": "stream",
     "text": [
      "+---------------------+\n",
      "|count(DISTINCT brand)|\n",
      "+---------------------+\n",
      "|                99815|\n",
      "+---------------------+\n",
      "\n"
     ]
    }
   ],
   "source": [
    "(\n",
    "    ad_info_df\n",
    "    .groupby()\n",
    "    .agg(\n",
    "        F.count_distinct('brand'))\n",
    "    .show()\n",
    ")"
   ]
  },
  {
   "cell_type": "markdown",
   "id": "8b11f974-d170-47de-8c3f-c5b25ae59743",
   "metadata": {},
   "source": [
    "## ad max price"
   ]
  },
  {
   "cell_type": "code",
   "execution_count": 16,
   "id": "827cb583-1257-4ab4-9e5b-ef6cc5d5abda",
   "metadata": {},
   "outputs": [
    {
     "data": {
      "text/html": [
       "<div>\n",
       "<style scoped>\n",
       "    .dataframe tbody tr th:only-of-type {\n",
       "        vertical-align: middle;\n",
       "    }\n",
       "\n",
       "    .dataframe tbody tr th {\n",
       "        vertical-align: top;\n",
       "    }\n",
       "\n",
       "    .dataframe thead th {\n",
       "        text-align: right;\n",
       "    }\n",
       "</style>\n",
       "<table border=\"1\" class=\"dataframe\">\n",
       "  <thead>\n",
       "    <tr style=\"text-align: right;\">\n",
       "      <th></th>\n",
       "      <th>max(price)</th>\n",
       "    </tr>\n",
       "  </thead>\n",
       "  <tbody>\n",
       "    <tr>\n",
       "      <th>0</th>\n",
       "      <td>99999999.0</td>\n",
       "    </tr>\n",
       "  </tbody>\n",
       "</table>\n",
       "</div>"
      ],
      "text/plain": [
       "   max(price)\n",
       "0  99999999.0"
      ]
     },
     "execution_count": 16,
     "metadata": {},
     "output_type": "execute_result"
    }
   ],
   "source": [
    "(\n",
    "    ad_info_df\n",
    "    .groupby()\n",
    "    .agg(\n",
    "        F.max('price'))\n",
    "    .toPandas()\n",
    ")"
   ]
  },
  {
   "cell_type": "markdown",
   "id": "a8d054c1-94d8-45c1-920b-f331b6490aca",
   "metadata": {},
   "source": [
    "## ad user clicks"
   ]
  },
  {
   "cell_type": "code",
   "execution_count": 15,
   "id": "23f8e12c-731b-4e47-a976-72ffc9780317",
   "metadata": {
    "scrolled": true
   },
   "outputs": [
    {
     "name": "stderr",
     "output_type": "stream",
     "text": [
      "[Stage 75:>                                                         (0 + 1) / 1]\r"
     ]
    },
    {
     "name": "stdout",
     "output_type": "stream",
     "text": [
      "+-------+-----------+\n",
      "| userid|user_clicks|\n",
      "+-------+-----------+\n",
      "| 928284|        170|\n",
      "| 569318|        165|\n",
      "|1060021|        152|\n",
      "+-------+-----------+\n",
      "only showing top 3 rows\n",
      "\n"
     ]
    },
    {
     "name": "stderr",
     "output_type": "stream",
     "text": [
      "                                                                                \r"
     ]
    }
   ],
   "source": [
    "(\n",
    "    ad_click_df\n",
    "    .groupby('userid')\n",
    "    .agg(\n",
    "        F.sum('clk').alias('user_clicks'))\n",
    "    .sort(F.desc('user_clicks'))\n",
    "    .show(3)\n",
    ")"
   ]
  },
  {
   "cell_type": "code",
   "execution_count": 18,
   "id": "fc442a67-7d5f-414e-b61a-ab2ff40ccbde",
   "metadata": {},
   "outputs": [
    {
     "name": "stderr",
     "output_type": "stream",
     "text": [
      "[Stage 81:===>                                                    (1 + 15) / 16]\r"
     ]
    },
    {
     "name": "stdout",
     "output_type": "stream",
     "text": [
      "+----------------+\n",
      "|max(user_clicks)|\n",
      "+----------------+\n",
      "|             170|\n",
      "+----------------+\n",
      "\n"
     ]
    },
    {
     "name": "stderr",
     "output_type": "stream",
     "text": [
      "                                                                                \r"
     ]
    }
   ],
   "source": [
    "(\n",
    "    ad_click_df\n",
    "    .groupby('userid')\n",
    "    .agg(\n",
    "        F.sum('clk').alias('user_clicks'))\n",
    "    .groupby()\n",
    "    .agg(\n",
    "        F.max('user_clicks'))\n",
    "    .show()\n",
    ")"
   ]
  },
  {
   "cell_type": "markdown",
   "id": "58271118-fbb6-46f6-b086-849f3879b6dd",
   "metadata": {},
   "source": [
    "## ad user avg clicks"
   ]
  },
  {
   "cell_type": "code",
   "execution_count": 19,
   "id": "46baa9a4-efea-49b5-8bb0-7727f5855064",
   "metadata": {
    "scrolled": true
   },
   "outputs": [
    {
     "name": "stderr",
     "output_type": "stream",
     "text": [
      "[Stage 87:=============================================>          (13 + 3) / 16]\r"
     ]
    },
    {
     "name": "stdout",
     "output_type": "stream",
     "text": [
      "+--------------------+\n",
      "|avg(user_avg_clicks)|\n",
      "+--------------------+\n",
      "|  1.1964800753944238|\n",
      "+--------------------+\n",
      "\n"
     ]
    },
    {
     "name": "stderr",
     "output_type": "stream",
     "text": [
      "                                                                                \r"
     ]
    }
   ],
   "source": [
    "(\n",
    "    ad_click_df\n",
    "    .groupby('userid')\n",
    "    .agg(\n",
    "        F.sum('clk').alias('user_avg_clicks'))\n",
    "    .groupby()\n",
    "    .agg(\n",
    "        F.avg('user_avg_clicks'))\n",
    "    .show()\n",
    ")"
   ]
  },
  {
   "cell_type": "markdown",
   "id": "29b72e43-d1b0-4fb7-b1ff-20350ab84f5c",
   "metadata": {},
   "source": [
    "## user age level"
   ]
  },
  {
   "cell_type": "code",
   "execution_count": 13,
   "id": "7d46b29b-451a-439f-a05f-08cef9beba96",
   "metadata": {},
   "outputs": [
    {
     "name": "stdout",
     "output_type": "stream",
     "text": [
      "+---------+\n",
      "|age_level|\n",
      "+---------+\n",
      "|        1|\n",
      "|        6|\n",
      "|        3|\n",
      "+---------+\n",
      "only showing top 3 rows\n",
      "\n"
     ]
    },
    {
     "name": "stderr",
     "output_type": "stream",
     "text": [
      "                                                                                \r"
     ]
    }
   ],
   "source": [
    "(\n",
    "    user_df\n",
    "    .select('age_level')\n",
    "    .distinct()\n",
    "    .show(3)\n",
    ")"
   ]
  },
  {
   "cell_type": "markdown",
   "id": "85f28133-f048-4cb4-9902-1b36bc9864f6",
   "metadata": {},
   "source": [
    "## ad clks per day"
   ]
  },
  {
   "cell_type": "code",
   "execution_count": 12,
   "id": "83b0349c-74ce-47d6-96b4-94b88b766677",
   "metadata": {},
   "outputs": [
    {
     "name": "stderr",
     "output_type": "stream",
     "text": [
      "[Stage 56:===================================================>      (8 + 1) / 9]\r"
     ]
    },
    {
     "name": "stdout",
     "output_type": "stream",
     "text": [
      "+----------+-----------+\n",
      "|      date|user_clicks|\n",
      "+----------+-----------+\n",
      "|2017-05-05|      83260|\n",
      "|2017-05-06|     173271|\n",
      "|2017-05-07|     173406|\n",
      "+----------+-----------+\n",
      "only showing top 3 rows\n",
      "\n"
     ]
    },
    {
     "name": "stderr",
     "output_type": "stream",
     "text": [
      "                                                                                \r"
     ]
    }
   ],
   "source": [
    "(\n",
    "    ad_click_df\n",
    "    .withColumn('time', F.from_unixtime(F.col('time_stamp')))\n",
    "    .withColumn('date', F.to_date(F.col('time')))\n",
    "    .groupby('date')\n",
    "    .agg(F.sum('clk').alias('user_clicks'))\n",
    "    .orderBy('date')\n",
    "    .show(3)\n",
    ")"
   ]
  },
  {
   "cell_type": "markdown",
   "id": "2bdf9299-2f3f-4c98-bfe4-9255f99f14d3",
   "metadata": {},
   "source": [
    "## time gap between ads per userid"
   ]
  },
  {
   "cell_type": "code",
   "execution_count": 14,
   "id": "4b21fc25-a6b0-42e6-8d4c-45ed592df601",
   "metadata": {
    "scrolled": true
   },
   "outputs": [
    {
     "name": "stderr",
     "output_type": "stream",
     "text": [
      "[Stage 72:>                                                         (0 + 1) / 1]\r"
     ]
    },
    {
     "name": "stdout",
     "output_type": "stream",
     "text": [
      "+----------+------+----------+-----------+------+---+---------+------------+-----------------+---------+------------+--------------+----------+---------------------+-------+-----------+--------+------+------+-------------------+----------+\n",
      "|adgroup_id|userid|time_stamp|pid        |nonclk|clk|cms_segid|cms_group_id|final_gender_code|age_level|pvalue_level|shopping_level|occupation|new_user_class_level |cate_id|campaign_id|customer|brand |price |time               |ad_gap_sec|\n",
      "+----------+------+----------+-----------+------+---+---------+------------+-----------------+---------+------------+--------------+----------+---------------------+-------+-----------+--------+------+------+-------------------+----------+\n",
      "|691878    |31    |1494033821|430548_1007|1     |0  |6        |2           |2                |2        |1           |1             |0         |NULL                 |6426   |288940     |34125   |395343|398.0 |2017-05-05 18:23:41|NULL      |\n",
      "|619242    |31    |1494033821|430548_1007|1     |0  |6        |2           |2                |2        |1           |1             |0         |NULL                 |6426   |112525     |61530   |354133|273.0 |2017-05-05 18:23:41|0         |\n",
      "|591961    |31    |1494033821|430548_1007|0     |1  |6        |2           |2                |2        |1           |1             |0         |NULL                 |6426   |195470     |152234  |NULL  |389.0 |2017-05-05 18:23:41|0         |\n",
      "|255912    |53    |1494477129|430539_1007|1     |0  |0        |8           |1                |2        |NULL        |3             |0         |4                    |5989   |132046     |10361   |224985|128.0 |2017-05-10 21:32:09|NULL      |\n",
      "|285656    |53    |1494477129|430539_1007|1     |0  |0        |8           |1                |2        |NULL        |3             |0         |4                    |7228   |129308     |149457  |77137 |599.0 |2017-05-10 21:32:09|0         |\n",
      "|525275    |53    |1494477129|430539_1007|0     |1  |0        |8           |1                |2        |NULL        |3             |0         |4                    |10876  |192724     |156129  |168776|98.0  |2017-05-10 21:32:09|0         |\n",
      "|189881    |53    |1494667734|430539_1007|1     |0  |0        |8           |1                |2        |NULL        |3             |0         |4                    |6963   |204175     |176815  |84559 |3760.0|2017-05-13 02:28:54|190605    |\n",
      "|581869    |53    |1494667734|430539_1007|1     |0  |0        |8           |1                |2        |NULL        |3             |0         |4                    |6428   |82445      |36112   |100802|299.0 |2017-05-13 02:28:54|0         |\n",
      "|694362    |53    |1494667734|430539_1007|1     |0  |0        |8           |1                |2        |NULL        |3             |0         |4                    |6960   |368965     |231780  |109137|368.0 |2017-05-13 02:28:54|0         |\n",
      "|297402    |65    |1494021621|430548_1007|1     |0  |0        |3           |2                |3        |NULL        |2             |0         |NULL                 |8199   |149447     |69679   |42261 |546.0 |2017-05-05 15:00:21|NULL      |\n",
      "|613903    |65    |1494021621|430548_1007|1     |0  |0        |3           |2                |3        |NULL        |2             |0         |NULL                 |6416   |369740     |108793  |NULL  |188.0 |2017-05-05 15:00:21|0         |\n",
      "|464616    |65    |1494021621|430548_1007|0     |1  |0        |3           |2                |3        |NULL        |2             |0         |NULL                 |8199   |23885      |92460   |428104|736.0 |2017-05-05 15:00:21|0         |\n",
      "|22354     |65    |1494044769|430548_1007|1     |0  |0        |3           |2                |3        |NULL        |2             |0         |NULL                 |8199   |404836     |59669   |326435|286.0 |2017-05-05 21:26:09|23148     |\n",
      "|134567    |65    |1494044769|430548_1007|1     |0  |0        |3           |2                |3        |NULL        |2             |0         |NULL                 |9517   |193860     |74009   |346111|99.0  |2017-05-05 21:26:09|0         |\n",
      "|313810    |65    |1494044769|430548_1007|1     |0  |0        |3           |2                |3        |NULL        |2             |0         |NULL                 |8215   |163023     |126843  |82001 |799.0 |2017-05-05 21:26:09|0         |\n",
      "|306199    |65    |1494506735|430548_1007|1     |0  |0        |3           |2                |3        |NULL        |2             |0         |NULL                 |8199   |13096      |92460   |428104|736.0 |2017-05-11 05:45:35|461966    |\n",
      "|696585    |65    |1494506735|430548_1007|1     |0  |0        |3           |2                |3        |NULL        |2             |0         |NULL                 |6183   |401692     |56209   |188080|98.0  |2017-05-11 05:45:35|0         |\n",
      "|541818    |65    |1494506735|430548_1007|1     |0  |0        |3           |2                |3        |NULL        |2             |0         |NULL                 |6183   |107291     |29465   |432592|298.0 |2017-05-11 05:45:35|0         |\n",
      "|297402    |65    |1494596931|430548_1007|1     |0  |0        |3           |2                |3        |NULL        |2             |0         |NULL                 |8199   |149447     |69679   |42261 |546.0 |2017-05-12 06:48:51|90196     |\n",
      "|484205    |65    |1494596931|430548_1007|1     |0  |0        |3           |2                |3        |NULL        |2             |0         |NULL                 |6183   |345524     |94324   |399534|172.0 |2017-05-12 06:48:51|0         |\n",
      "+----------+------+----------+-----------+------+---+---------+------------+-----------------+---------+------------+--------------+----------+---------------------+-------+-----------+--------+------+------+-------------------+----------+\n",
      "only showing top 20 rows\n",
      "\n"
     ]
    },
    {
     "name": "stderr",
     "output_type": "stream",
     "text": [
      "                                                                                \r"
     ]
    },
    {
     "ename": "AttributeError",
     "evalue": "'NoneType' object has no attribute 'show'",
     "output_type": "error",
     "traceback": [
      "\u001b[0;31m---------------------------------------------------------------------------\u001b[0m",
      "\u001b[0;31mAttributeError\u001b[0m                            Traceback (most recent call last)",
      "Cell \u001b[0;32mIn[14], line 28\u001b[0m\n\u001b[1;32m     16\u001b[0m window_df \u001b[38;5;241m=\u001b[39m window_functions(merged_df)\n\u001b[1;32m     18\u001b[0m window_df \u001b[38;5;241m=\u001b[39m (\n\u001b[1;32m     19\u001b[0m     window_df\n\u001b[1;32m     20\u001b[0m     \u001b[38;5;241m.\u001b[39mwithColumn(\n\u001b[0;32m   (...)\u001b[0m\n\u001b[1;32m     26\u001b[0m     )\n\u001b[1;32m     27\u001b[0m )\n\u001b[0;32m---> 28\u001b[0m \u001b[43mwindow_df\u001b[49m\u001b[38;5;241;43m.\u001b[39;49m\u001b[43mdrop\u001b[49m\u001b[43m(\u001b[49m\u001b[38;5;124;43m'\u001b[39;49m\u001b[38;5;124;43mlast_row\u001b[39;49m\u001b[38;5;124;43m'\u001b[39;49m\u001b[43m)\u001b[49m\u001b[38;5;241;43m.\u001b[39;49m\u001b[43mshow\u001b[49m\u001b[43m(\u001b[49m\u001b[43mtruncate\u001b[49m\u001b[38;5;241;43m=\u001b[39;49m\u001b[38;5;28;43;01mFalse\u001b[39;49;00m\u001b[43m)\u001b[49m\u001b[38;5;241;43m.\u001b[39;49m\u001b[43mshow\u001b[49m(\u001b[38;5;241m3\u001b[39m)\n",
      "\u001b[0;31mAttributeError\u001b[0m: 'NoneType' object has no attribute 'show'"
     ]
    }
   ],
   "source": [
    "merged_df =(\n",
    "    merged_df\n",
    "    .withColumn('time', F.to_timestamp(F.col('time_stamp')))\n",
    ")\n",
    "\n",
    "def window_functions(df):\n",
    "    window = W.partitionBy('userid').orderBy('time')\n",
    "    \n",
    "    window_df = (\n",
    "        df\n",
    "        .withColumn('last_row', F.lag('time').over(window))\n",
    "    )\n",
    "    \n",
    "    return window_df\n",
    "    \n",
    "window_df = window_functions(merged_df)\n",
    "\n",
    "window_df = (\n",
    "    window_df\n",
    "    .withColumn(\n",
    "        'ad_gap_sec',\n",
    "        (F.round\n",
    "        (F.col('time').cast(\"long\") - \n",
    "        F.col('last_row').cast(\"long\")))\n",
    "        .cast('int')\n",
    "    )\n",
    ")\n",
    "window_df.drop('last_row').show(truncate=False)"
   ]
  },
  {
   "cell_type": "markdown",
   "id": "f0407ec9-171a-4d64-b96b-1930a3c750dd",
   "metadata": {},
   "source": [
    "# potential features"
   ]
  },
  {
   "cell_type": "markdown",
   "id": "dcbccff0-1df3-4c3e-b435-e0d2e2c24c54",
   "metadata": {},
   "source": [
    "## most clked brand"
   ]
  },
  {
   "cell_type": "code",
   "execution_count": 16,
   "id": "85ec4167-f519-4af3-be01-56639f114ed8",
   "metadata": {
    "scrolled": true
   },
   "outputs": [
    {
     "name": "stderr",
     "output_type": "stream",
     "text": [
      "[Stage 80:====================================================> (193 + 1) / 200]\r"
     ]
    },
    {
     "name": "stdout",
     "output_type": "stream",
     "text": [
      "+------+-----------+\n",
      "| brand|user_clicks|\n",
      "+------+-----------+\n",
      "|  NULL|     429375|\n",
      "| 82527|      15007|\n",
      "|146115|      13126|\n",
      "+------+-----------+\n",
      "only showing top 3 rows\n",
      "\n"
     ]
    },
    {
     "name": "stderr",
     "output_type": "stream",
     "text": [
      "                                                                                \r"
     ]
    }
   ],
   "source": [
    "(\n",
    "    merged_df\n",
    "    .groupby('brand')\n",
    "    .agg(F.sum('clk').alias('user_clicks'))\n",
    "    .sort(F.desc('user_clicks'))\n",
    "    .show(3)\n",
    ")"
   ]
  },
  {
   "cell_type": "markdown",
   "id": "b621a61a-6c9c-48e9-acb0-d51f1c626840",
   "metadata": {},
   "source": [
    "## age group ad clks"
   ]
  },
  {
   "cell_type": "code",
   "execution_count": 17,
   "id": "0aadbe41-e854-460d-ae90-2dcdc7ffa311",
   "metadata": {
    "scrolled": true
   },
   "outputs": [
    {
     "name": "stderr",
     "output_type": "stream",
     "text": [
      "[Stage 91:==============================================>       (173 + 1) / 200]\r"
     ]
    },
    {
     "name": "stdout",
     "output_type": "stream",
     "text": [
      "+---------+-----------+\n",
      "|age_level|user_clicks|\n",
      "+---------+-----------+\n",
      "|        3|     386683|\n",
      "|        4|     317358|\n",
      "|        5|     242691|\n",
      "+---------+-----------+\n",
      "only showing top 3 rows\n",
      "\n"
     ]
    },
    {
     "name": "stderr",
     "output_type": "stream",
     "text": [
      "                                                                                \r"
     ]
    }
   ],
   "source": [
    "(\n",
    "    merged_df\n",
    "    .groupby('age_level')\n",
    "    .agg(F.sum('clk').alias('user_clicks'))\n",
    "    .sort(F.desc('user_clicks'))\n",
    "    .show(3)\n",
    ")"
   ]
  },
  {
   "cell_type": "markdown",
   "id": "58d1fc1a-a041-44d1-bd42-8c83f151ea51",
   "metadata": {},
   "source": [
    "## age group total of ad shown "
   ]
  },
  {
   "cell_type": "code",
   "execution_count": 25,
   "id": "9e0f4cfa-4950-470e-88b6-25bc117f932b",
   "metadata": {
    "scrolled": true
   },
   "outputs": [
    {
     "name": "stdout",
     "output_type": "stream",
     "text": [
      "+---------+-----------+\n",
      "|age_level|user_clicks|\n",
      "+---------+-----------+\n",
      "|        3|    7573614|\n",
      "|        4|    6406045|\n",
      "|        5|    4652618|\n",
      "|        2|    4567837|\n",
      "|        1|    1379703|\n",
      "|        6|     440429|\n",
      "|        0|       9189|\n",
      "+---------+-----------+\n",
      "\n"
     ]
    }
   ],
   "source": [
    "(\n",
    "    merged_df\n",
    "    .groupby('age_level')\n",
    "    .agg(F.count('clk').alias('user_clicks'))\n",
    "    .sort(F.desc('user_clicks'))\n",
    "    .show()\n",
    ")"
   ]
  },
  {
   "cell_type": "markdown",
   "id": "716745b1-1f56-4aba-ba73-36ce53f084f6",
   "metadata": {},
   "source": [
    "## age group ad clks avg percentage  "
   ]
  },
  {
   "cell_type": "code",
   "execution_count": 26,
   "id": "8f37e91e-30c5-49e1-a197-63fc3b622276",
   "metadata": {},
   "outputs": [
    {
     "name": "stdout",
     "output_type": "stream",
     "text": [
      "+---------+----------------+\n",
      "|age_level|mean_user_clicks|\n",
      "+---------+----------------+\n",
      "|        6|            5.62|\n",
      "|        1|            5.52|\n",
      "|        0|            5.25|\n",
      "|        5|            5.22|\n",
      "|        2|            5.17|\n",
      "|        3|            5.11|\n",
      "|        4|            4.95|\n",
      "+---------+----------------+\n",
      "\n"
     ]
    }
   ],
   "source": [
    "(\n",
    "    merged_df\n",
    "    .groupby('age_level')\n",
    "    .agg((F.round(F.mean('clk')*100, 2)).alias('mean_user_clicks'))\n",
    "    .sort(F.desc('mean_user_clicks'))\n",
    "    .show()\n",
    ")"
   ]
  },
  {
   "cell_type": "markdown",
   "id": "8f68194d-e1f0-4d7f-af74-434a78b8622f",
   "metadata": {},
   "source": [
    "## age_level 1 avg price "
   ]
  },
  {
   "cell_type": "code",
   "execution_count": 27,
   "id": "7d5d6550-cbca-49f8-a2c3-a64e47b2e71a",
   "metadata": {
    "scrolled": true
   },
   "outputs": [
    {
     "name": "stdout",
     "output_type": "stream",
     "text": [
      "+-----------------+\n",
      "|       avg(price)|\n",
      "+-----------------+\n",
      "|452.9304258017841|\n",
      "+-----------------+\n",
      "\n"
     ]
    }
   ],
   "source": [
    "(\n",
    "    merged_df\n",
    "    .filter(F.col('age_level') == 1)\n",
    "    .agg((F.mean('price')))\n",
    "    .show()\n",
    ")"
   ]
  },
  {
   "cell_type": "markdown",
   "id": "998c23b7-2d89-4e2b-9892-7bcc7f9c8c10",
   "metadata": {},
   "source": [
    "## age_level avg price"
   ]
  },
  {
   "cell_type": "code",
   "execution_count": 28,
   "id": "8ba724db-ef9c-4203-8025-50d2f0e5d4f0",
   "metadata": {},
   "outputs": [
    {
     "name": "stdout",
     "output_type": "stream",
     "text": [
      "+---------+------------------+\n",
      "|age_level|        avg(price)|\n",
      "+---------+------------------+\n",
      "|        1| 452.9304258017841|\n",
      "|        2| 456.7676189671449|\n",
      "|        0| 577.4065175753616|\n",
      "|        3| 648.3438410843272|\n",
      "|        4| 796.1136883677926|\n",
      "|        5|1146.5841540160816|\n",
      "|        6|1595.1099037983417|\n",
      "+---------+------------------+\n",
      "\n"
     ]
    }
   ],
   "source": [
    "price_age_df = (\n",
    "    merged_df\n",
    "    .groupby('age_level')\n",
    "    .agg((F.mean('price')))\n",
    "    .orderBy('avg(price)')\n",
    "    .show()\n",
    ")"
   ]
  },
  {
   "cell_type": "code",
   "execution_count": 29,
   "id": "30b1d274-ab65-49af-b3b8-76369fbe853d",
   "metadata": {},
   "outputs": [
    {
     "name": "stdout",
     "output_type": "stream",
     "text": [
      "+---------+------------------+\n",
      "|age_level|        avg(price)|\n",
      "+---------+------------------+\n",
      "|        1| 350.6007624883544|\n",
      "|        0| 630.0704771784233|\n",
      "|        2|  785.717774618327|\n",
      "|        3| 819.5196298777036|\n",
      "|        4| 922.8729005413444|\n",
      "|        6|1171.0726837641357|\n",
      "|        5|1610.9624209385613|\n",
      "+---------+------------------+\n",
      "\n"
     ]
    }
   ],
   "source": [
    "price_age_df = (\n",
    "    merged_df\n",
    "    .filter(F.col('clk') == 1)\n",
    "    .groupby('age_level')\n",
    "    .agg((F.mean('price')))\n",
    "    .orderBy('avg(price)')\n",
    "    .show()\n",
    ")"
   ]
  },
  {
   "cell_type": "markdown",
   "id": "d46c006d-5038-4a0d-a9e0-5cf6c31254a0",
   "metadata": {},
   "source": [
    "## avg price/ age level plot"
   ]
  },
  {
   "cell_type": "code",
   "execution_count": 30,
   "id": "8542870b-30a7-4dc6-8216-24e16c54ad41",
   "metadata": {},
   "outputs": [],
   "source": [
    "price_age_pandas_df = (\n",
    "    merged_df\n",
    "    .groupby('age_level')\n",
    "    .agg((F.mean('price')))\n",
    "    .toPandas()\n",
    ")"
   ]
  },
  {
   "cell_type": "code",
   "execution_count": 31,
   "id": "399e7558-6f84-4531-8a79-4a6966faeb82",
   "metadata": {},
   "outputs": [
    {
     "data": {
      "image/png": "[encoded data removed]",
      "text/plain": [
       "<Figure size 500x300 with 1 Axes>"
      ]
     },
     "metadata": {},
     "output_type": "display_data"
    }
   ],
   "source": [
    "price_age_pandas_df.sort_values('age_level', inplace=True)\n",
    "\n",
    "plt.figure(figsize=(5, 3))\n",
    "plt.bar(price_age_pandas_df['age_level'], price_age_pandas_df['avg(price)'], color='skyblue')\n",
    "plt.xlabel('Age Level')\n",
    "plt.ylabel('Mean Price')\n",
    "plt.title('Mean Price by Age Level')\n",
    "plt.show()"
   ]
  },
  {
   "cell_type": "markdown",
   "id": "203c62cc-4c3e-45a2-b08a-14c6b09cc79b",
   "metadata": {},
   "source": [
    "## new user class level"
   ]
  },
  {
   "cell_type": "code",
   "execution_count": 32,
   "id": "937e3201-ef3b-4c0d-8075-746a089ec9ab",
   "metadata": {},
   "outputs": [
    {
     "name": "stdout",
     "output_type": "stream",
     "text": [
      "+---------------------+-------+\n",
      "|new_user_class_level |  count|\n",
      "+---------------------+-------+\n",
      "|                 NULL|6696303|\n",
      "|                    1|1881278|\n",
      "|                    3|4620080|\n",
      "|                    4|3706349|\n",
      "|                    2|8125425|\n",
      "+---------------------+-------+\n",
      "\n"
     ]
    }
   ],
   "source": [
    "(\n",
    "    merged_df\n",
    "    .groupby('new_user_class_level ')\n",
    "    .count()\n",
    "    .show()\n",
    ")"
   ]
  },
  {
   "cell_type": "markdown",
   "id": "008659b0-a49a-444a-b499-00cdb4bce54b",
   "metadata": {},
   "source": [
    "## females ad clk mean price  "
   ]
  },
  {
   "cell_type": "code",
   "execution_count": 33,
   "id": "b3fcfd41-0958-4b8b-8ce3-af844272f7a4",
   "metadata": {
    "scrolled": true
   },
   "outputs": [
    {
     "name": "stdout",
     "output_type": "stream",
     "text": [
      "+----------------+\n",
      "|      avg(price)|\n",
      "+----------------+\n",
      "|555.540261045253|\n",
      "+----------------+\n",
      "\n"
     ]
    }
   ],
   "source": [
    "(\n",
    "    merged_df\n",
    "    .filter(F.col('final_gender_code') == 2)\n",
    "    .filter(F.col('clk') == 1)\n",
    "    .agg((F.mean('price')))\n",
    "    .show()\n",
    ")"
   ]
  },
  {
   "cell_type": "markdown",
   "id": "ed9d3f08-bf66-4dee-b5d2-489255cbf8e8",
   "metadata": {},
   "source": [
    "## females & male ad clk mean price  "
   ]
  },
  {
   "cell_type": "code",
   "execution_count": 34,
   "id": "7979f4c0-7d0b-4103-bf0d-f50b35e262b6",
   "metadata": {
    "scrolled": true
   },
   "outputs": [
    {
     "name": "stdout",
     "output_type": "stream",
     "text": [
      "+-----------------+------------------+\n",
      "|final_gender_code|        avg(price)|\n",
      "+-----------------+------------------+\n",
      "|                1|2144.9927776775953|\n",
      "|                2|  555.540261045253|\n",
      "+-----------------+------------------+\n",
      "\n"
     ]
    }
   ],
   "source": [
    "(\n",
    "    merged_df\n",
    "    .filter(F.col('clk') == 1)\n",
    "    .groupby('final_gender_code')\n",
    "    .agg((F.mean('price')))\n",
    "    .show()\n",
    ")"
   ]
  },
  {
   "cell_type": "markdown",
   "id": "27f7f045-0503-4ec4-9149-90545df6d234",
   "metadata": {},
   "source": [
    "## ave time gap of ads"
   ]
  },
  {
   "cell_type": "code",
   "execution_count": 35,
   "id": "60498042-f193-4df8-a3ce-8b444c3dcbc1",
   "metadata": {},
   "outputs": [
    {
     "name": "stderr",
     "output_type": "stream",
     "text": [
      "[Stage 241:===================================================>   (16 + 1) / 17]\r"
     ]
    },
    {
     "name": "stdout",
     "output_type": "stream",
     "text": [
      "+------------------+\n",
      "|   avg(ad_gap_sec)|\n",
      "+------------------+\n",
      "|50370.631997075034|\n",
      "+------------------+\n",
      "\n"
     ]
    },
    {
     "name": "stderr",
     "output_type": "stream",
     "text": [
      "                                                                                \r"
     ]
    }
   ],
   "source": [
    "window_filtered_df = (\n",
    "    window_df\n",
    "    .filter((F.col(\"ad_gap_sec\") != 0) & (F.col(\"ad_gap_sec\").isNotNull()))\n",
    "    .groupby()\n",
    "    .agg(F.avg(F.col('ad_gap_sec')))\n",
    ")\n",
    "window_filtered_df.show()"
   ]
  },
  {
   "cell_type": "markdown",
   "id": "026c8888-d1b6-4272-aa7d-5c442c9574bf",
   "metadata": {},
   "source": [
    "## clk rate per user"
   ]
  },
  {
   "cell_type": "code",
   "execution_count": 36,
   "id": "c1363f15-c2d9-4b7f-826f-bb5e1f1a8933",
   "metadata": {},
   "outputs": [
    {
     "name": "stdout",
     "output_type": "stream",
     "text": [
      "25029435\n"
     ]
    },
    {
     "name": "stderr",
     "output_type": "stream",
     "text": [
      "[Stage 272:>                                                        (0 + 1) / 1]\r"
     ]
    },
    {
     "name": "stdout",
     "output_type": "stream",
     "text": [
      "+------+----------+----------+-----------+------+---+---------+------------+-----------------+---------+------------+--------------+----------+---------------------+-------+-----------+--------+------+-----+-------------------+-------------------+----------+--------+\n",
      "|userid|adgroup_id|time_stamp|        pid|nonclk|clk|cms_segid|cms_group_id|final_gender_code|age_level|pvalue_level|shopping_level|occupation|new_user_class_level |cate_id|campaign_id|customer| brand|price|               time|           last_row|ad_gap_sec|clk_rate|\n",
      "+------+----------+----------+-----------+------+---+---------+------------+-----------------+---------+------------+--------------+----------+---------------------+-------+-----------+--------+------+-----+-------------------+-------------------+----------+--------+\n",
      "|    31|    691878|1494033821|430548_1007|     1|  0|        6|           2|                2|        2|           1|             1|         0|                 NULL|   6426|     288940|   34125|395343|398.0|2017-05-05 18:23:41|               NULL|      NULL|   0.333|\n",
      "|    31|    619242|1494033821|430548_1007|     1|  0|        6|           2|                2|        2|           1|             1|         0|                 NULL|   6426|     112525|   61530|354133|273.0|2017-05-05 18:23:41|2017-05-05 18:23:41|         0|   0.333|\n",
      "|    31|    591961|1494033821|430548_1007|     0|  1|        6|           2|                2|        2|           1|             1|         0|                 NULL|   6426|     195470|  152234|  NULL|389.0|2017-05-05 18:23:41|2017-05-05 18:23:41|         0|   0.333|\n",
      "+------+----------+----------+-----------+------+---+---------+------------+-----------------+---------+------------+--------------+----------+---------------------+-------+-----------+--------+------+-----+-------------------+-------------------+----------+--------+\n",
      "only showing top 3 rows\n",
      "\n"
     ]
    },
    {
     "name": "stderr",
     "output_type": "stream",
     "text": [
      "                                                                                \r"
     ]
    }
   ],
   "source": [
    "accept_rate_df = (\n",
    "    merged_df\n",
    "    .groupby('userid')\n",
    "    .agg(F.avg('clk').alias('accept_rate'))\n",
    ")\n",
    "accept_rate_df = (\n",
    "    accept_rate_df\n",
    "    .withColumn('clk_rate', F.round('accept_rate', 3))\n",
    ")\n",
    "accept_rate_df = accept_rate_df.drop('accept_rate')\n",
    "\n",
    "window_df = window_df.join(other = accept_rate_df, on = 'userid', how = 'left')\n",
    "\n",
    "summerize_df(window_df)"
   ]
  },
  {
   "cell_type": "markdown",
   "id": "ad1a16e0-5b24-4478-821d-284d37b82fcf",
   "metadata": {},
   "source": [
    "## confusion matrix on clk rate"
   ]
  },
  {
   "cell_type": "code",
   "execution_count": 37,
   "id": "cb4b9bd2-ce32-4f77-a686-f132829c85ba",
   "metadata": {
    "scrolled": true
   },
   "outputs": [
    {
     "name": "stdout",
     "output_type": "stream",
     "text": [
      "+---+----------+--------+\n",
      "|clk|random_clk|   count|\n",
      "+---+----------+--------+\n",
      "|  0|         0|22795789|\n",
      "|  0|         1|  949133|\n",
      "|  1|         0| 1233103|\n",
      "|  1|         1|   51410|\n",
      "+---+----------+--------+\n",
      "\n"
     ]
    }
   ],
   "source": [
    "(\n",
    "    window_df\n",
    "    .withColumn(\n",
    "        \"random_clk\", \n",
    "        (F.rand() < 0.04).cast(\"int\"))\n",
    "    .groupby('clk', 'random_clk')\n",
    "    .count()\n",
    "    .sort('clk', 'random_clk')\n",
    ").show()"
   ]
  },
  {
   "cell_type": "markdown",
   "id": "0aa65eeb-d32f-49ae-be87-bfb687bfd698",
   "metadata": {},
   "source": [
    "## prediction metrics"
   ]
  },
  {
   "cell_type": "code",
   "execution_count": 38,
   "id": "83830e50-f3e6-402e-9e25-b045447b944e",
   "metadata": {},
   "outputs": [
    {
     "name": "stdout",
     "output_type": "stream",
     "text": [
      "accuracy 0.9127968729617748\n"
     ]
    }
   ],
   "source": [
    "print('accuracy', (22795289 + 51501) / (22795289 + 949633 + 1233012 + 51501))"
   ]
  },
  {
   "cell_type": "code",
   "execution_count": 39,
   "id": "e35b8a28-5156-401d-b252-22bb315c0b13",
   "metadata": {},
   "outputs": [
    {
     "name": "stdout",
     "output_type": "stream",
     "text": [
      "percision 0.05144266401900245\n"
     ]
    }
   ],
   "source": [
    "print('percision', (51501) / (949633 + 51501))"
   ]
  },
  {
   "cell_type": "code",
   "execution_count": 40,
   "id": "31054458-92ad-4138-b3ab-86417dbd16da",
   "metadata": {},
   "outputs": [
    {
     "name": "stdout",
     "output_type": "stream",
     "text": [
      "recall 0.04009379430180932\n"
     ]
    }
   ],
   "source": [
    "print('recall', (51501) / (1233012 + 51501))"
   ]
  },
  {
   "cell_type": "markdown",
   "id": "2af4e13c-38d6-4d41-bec1-b01a82f95e54",
   "metadata": {},
   "source": [
    "## clk rate in a day divided in three "
   ]
  },
  {
   "cell_type": "code",
   "execution_count": 21,
   "id": "401fb49e-bf8b-47ec-91c8-171437f51431",
   "metadata": {
    "scrolled": true
   },
   "outputs": [
    {
     "name": "stderr",
     "output_type": "stream",
     "text": [
      "[Stage 141:>                                                        (0 + 1) / 1]\r"
     ]
    },
    {
     "name": "stdout",
     "output_type": "stream",
     "text": [
      "+----------+------+----------+-----------+------+---+---------+------------+-----------------+---------+------------+--------------+----------+---------------------+-------+-----------+--------+------+------+-------------------+-------------------+----------+----+---------+\n",
      "|adgroup_id|userid|time_stamp|        pid|nonclk|clk|cms_segid|cms_group_id|final_gender_code|age_level|pvalue_level|shopping_level|occupation|new_user_class_level |cate_id|campaign_id|customer| brand| price|               time|           last_row|ad_gap_sec|hour|timestamp|\n",
      "+----------+------+----------+-----------+------+---+---------+------------+-----------------+---------+------------+--------------+----------+---------------------+-------+-----------+--------+------+------+-------------------+-------------------+----------+----+---------+\n",
      "|    691878|    31|1494033821|430548_1007|     1|  0|        6|           2|                2|        2|           1|             1|         0|                 NULL|   6426|     288940|   34125|395343| 398.0|2017-05-05 18:23:41|               NULL|      NULL|  18|    night|\n",
      "|    619242|    31|1494033821|430548_1007|     1|  0|        6|           2|                2|        2|           1|             1|         0|                 NULL|   6426|     112525|   61530|354133| 273.0|2017-05-05 18:23:41|2017-05-05 18:23:41|         0|  18|    night|\n",
      "|    591961|    31|1494033821|430548_1007|     0|  1|        6|           2|                2|        2|           1|             1|         0|                 NULL|   6426|     195470|  152234|  NULL| 389.0|2017-05-05 18:23:41|2017-05-05 18:23:41|         0|  18|    night|\n",
      "|    255912|    53|1494477129|430539_1007|     1|  0|        0|           8|                1|        2|        NULL|             3|         0|                    4|   5989|     132046|   10361|224985| 128.0|2017-05-10 21:32:09|               NULL|      NULL|  21|    night|\n",
      "|    285656|    53|1494477129|430539_1007|     1|  0|        0|           8|                1|        2|        NULL|             3|         0|                    4|   7228|     129308|  149457| 77137| 599.0|2017-05-10 21:32:09|2017-05-10 21:32:09|         0|  21|    night|\n",
      "|    525275|    53|1494477129|430539_1007|     0|  1|        0|           8|                1|        2|        NULL|             3|         0|                    4|  10876|     192724|  156129|168776|  98.0|2017-05-10 21:32:09|2017-05-10 21:32:09|         0|  21|    night|\n",
      "|    189881|    53|1494667734|430539_1007|     1|  0|        0|           8|                1|        2|        NULL|             3|         0|                    4|   6963|     204175|  176815| 84559|3760.0|2017-05-13 02:28:54|2017-05-10 21:32:09|    190605|   2|  morning|\n",
      "|    581869|    53|1494667734|430539_1007|     1|  0|        0|           8|                1|        2|        NULL|             3|         0|                    4|   6428|      82445|   36112|100802| 299.0|2017-05-13 02:28:54|2017-05-13 02:28:54|         0|   2|  morning|\n",
      "|    694362|    53|1494667734|430539_1007|     1|  0|        0|           8|                1|        2|        NULL|             3|         0|                    4|   6960|     368965|  231780|109137| 368.0|2017-05-13 02:28:54|2017-05-13 02:28:54|         0|   2|  morning|\n",
      "|    297402|    65|1494021621|430548_1007|     1|  0|        0|           3|                2|        3|        NULL|             2|         0|                 NULL|   8199|     149447|   69679| 42261| 546.0|2017-05-05 15:00:21|               NULL|      NULL|  15|    night|\n",
      "|    613903|    65|1494021621|430548_1007|     1|  0|        0|           3|                2|        3|        NULL|             2|         0|                 NULL|   6416|     369740|  108793|  NULL| 188.0|2017-05-05 15:00:21|2017-05-05 15:00:21|         0|  15|    night|\n",
      "|    464616|    65|1494021621|430548_1007|     0|  1|        0|           3|                2|        3|        NULL|             2|         0|                 NULL|   8199|      23885|   92460|428104| 736.0|2017-05-05 15:00:21|2017-05-05 15:00:21|         0|  15|    night|\n",
      "|     22354|    65|1494044769|430548_1007|     1|  0|        0|           3|                2|        3|        NULL|             2|         0|                 NULL|   8199|     404836|   59669|326435| 286.0|2017-05-05 21:26:09|2017-05-05 15:00:21|     23148|  21|    night|\n",
      "|    134567|    65|1494044769|430548_1007|     1|  0|        0|           3|                2|        3|        NULL|             2|         0|                 NULL|   9517|     193860|   74009|346111|  99.0|2017-05-05 21:26:09|2017-05-05 21:26:09|         0|  21|    night|\n",
      "|    313810|    65|1494044769|430548_1007|     1|  0|        0|           3|                2|        3|        NULL|             2|         0|                 NULL|   8215|     163023|  126843| 82001| 799.0|2017-05-05 21:26:09|2017-05-05 21:26:09|         0|  21|    night|\n",
      "|    306199|    65|1494506735|430548_1007|     1|  0|        0|           3|                2|        3|        NULL|             2|         0|                 NULL|   8199|      13096|   92460|428104| 736.0|2017-05-11 05:45:35|2017-05-05 21:26:09|    461966|   5|  morning|\n",
      "|    696585|    65|1494506735|430548_1007|     1|  0|        0|           3|                2|        3|        NULL|             2|         0|                 NULL|   6183|     401692|   56209|188080|  98.0|2017-05-11 05:45:35|2017-05-11 05:45:35|         0|   5|  morning|\n",
      "|    541818|    65|1494506735|430548_1007|     1|  0|        0|           3|                2|        3|        NULL|             2|         0|                 NULL|   6183|     107291|   29465|432592| 298.0|2017-05-11 05:45:35|2017-05-11 05:45:35|         0|   5|  morning|\n",
      "|    297402|    65|1494596931|430548_1007|     1|  0|        0|           3|                2|        3|        NULL|             2|         0|                 NULL|   8199|     149447|   69679| 42261| 546.0|2017-05-12 06:48:51|2017-05-11 05:45:35|     90196|   6|  morning|\n",
      "|    484205|    65|1494596931|430548_1007|     1|  0|        0|           3|                2|        3|        NULL|             2|         0|                 NULL|   6183|     345524|   94324|399534| 172.0|2017-05-12 06:48:51|2017-05-12 06:48:51|         0|   6|  morning|\n",
      "+----------+------+----------+-----------+------+---+---------+------------+-----------------+---------+------------+--------------+----------+---------------------+-------+-----------+--------+------+------+-------------------+-------------------+----------+----+---------+\n",
      "only showing top 20 rows\n",
      "\n"
     ]
    },
    {
     "name": "stderr",
     "output_type": "stream",
     "text": [
      "                                                                                \r"
     ]
    }
   ],
   "source": [
    "morning_start = 0\n",
    "midday_start = 8\n",
    "night_start = 16\n",
    "\n",
    "window_df = (\n",
    "    window_df\n",
    "    .withColumn(\"hour\", F.hour(\"time\"))\n",
    ")\n",
    "\n",
    "window_df = (\n",
    "    window_df\n",
    "    .withColumn(\"timestamp\",\n",
    "    F.when((F.col(\"hour\") >= morning_start) & (F.col(\"hour\") < midday_start), \"morning\")\n",
    "    .when((F.col(\"hour\") >= morning_start) & (F.col(\"hour\") < midday_start), \"morning\")\n",
    "    .otherwise(\"night\"))\n",
    ")\n",
    "\n",
    "window_df.show()"
   ]
  },
  {
   "cell_type": "code",
   "execution_count": 42,
   "id": "e49e2bf2-23c8-468f-877e-16022d27dffa",
   "metadata": {
    "scrolled": true
   },
   "outputs": [
    {
     "name": "stderr",
     "output_type": "stream",
     "text": [
      "                                                                                \r"
     ]
    },
    {
     "name": "stdout",
     "output_type": "stream",
     "text": [
      "2\n",
      "+---------+-----------+\n",
      "|timestamp|average_clk|\n",
      "+---------+-----------+\n",
      "|    night|      0.051|\n",
      "|  morning|     0.0517|\n",
      "+---------+-----------+\n",
      "\n"
     ]
    },
    {
     "name": "stderr",
     "output_type": "stream",
     "text": [
      "                                                                                \r"
     ]
    }
   ],
   "source": [
    "timestamp_clk_df = (\n",
    "    window_df\n",
    "    .groupby('timestamp')\n",
    "    .agg(F.round(F.avg('clk'), 4).alias('average_clk'))\n",
    ")\n",
    "summerize_df(timestamp_clk_df)"
   ]
  },
  {
   "cell_type": "markdown",
   "id": "6ae478c8-79ca-4d9d-a0df-7c36d08d67c0",
   "metadata": {},
   "source": [
    "## hourly clk rate "
   ]
  },
  {
   "cell_type": "code",
   "execution_count": 22,
   "id": "027eb7c6-b13e-4bc2-a04e-f9de0cccf6cc",
   "metadata": {
    "scrolled": true
   },
   "outputs": [
    {
     "name": "stderr",
     "output_type": "stream",
     "text": [
      "[Stage 146:=================================================>   (188 + 1) / 200]\r"
     ]
    },
    {
     "name": "stdout",
     "output_type": "stream",
     "text": [
      "+----+-----------+----------+\n",
      "|hour|average_clk|count(clk)|\n",
      "+----+-----------+----------+\n",
      "|  16|     0.0476|    827870|\n",
      "|  15|     0.0486|    599629|\n",
      "|  14|     0.0492|    254014|\n",
      "+----+-----------+----------+\n",
      "only showing top 3 rows\n",
      "\n"
     ]
    },
    {
     "name": "stderr",
     "output_type": "stream",
     "text": [
      "                                                                                \r"
     ]
    }
   ],
   "source": [
    "hour_clk_df = (\n",
    "    window_df\n",
    "    .groupby('hour')\n",
    "    .agg(F.round(F.avg('clk'), 4).alias('average_clk'), F.count('clk'))\n",
    ")\n",
    "hour_clk_df.sort('average_clk').show(3)"
   ]
  },
  {
   "cell_type": "markdown",
   "id": "4a4ba5e5-e37e-4541-bca4-5984a7d35b82",
   "metadata": {},
   "source": [
    "## time clk count"
   ]
  },
  {
   "cell_type": "code",
   "execution_count": 44,
   "id": "3c490406-dea9-4a86-9214-2d135791daed",
   "metadata": {
    "scrolled": true
   },
   "outputs": [
    {
     "name": "stdout",
     "output_type": "stream",
     "text": [
      "2\n",
      "+---------+---------+\n",
      "|timestamp|count_clk|\n",
      "+---------+---------+\n",
      "|    night| 13673732|\n",
      "|  morning| 11355703|\n",
      "+---------+---------+\n",
      "\n"
     ]
    },
    {
     "name": "stderr",
     "output_type": "stream",
     "text": [
      "                                                                                \r"
     ]
    }
   ],
   "source": [
    "timestamp_clk_count_df = (\n",
    "    window_df\n",
    "    .groupby('timestamp')\n",
    "    .agg(F.count('clk').alias('count_clk'))\n",
    ")\n",
    "summerize_df(timestamp_clk_count_df)"
   ]
  },
  {
   "cell_type": "markdown",
   "id": "c814ecdf-0964-4251-8cd0-39aa3da73d0f",
   "metadata": {},
   "source": [
    "## ad category clk rate "
   ]
  },
  {
   "cell_type": "code",
   "execution_count": 18,
   "id": "10746b04-eecb-43be-b90b-4f11b740318b",
   "metadata": {
    "scrolled": true
   },
   "outputs": [
    {
     "name": "stderr",
     "output_type": "stream",
     "text": [
      "[Stage 102:===================================================> (195 + 1) / 200]\r"
     ]
    },
    {
     "name": "stdout",
     "output_type": "stream",
     "text": [
      "+-------+-----------+----------+\n",
      "|cate_id|average_clk|count(clk)|\n",
      "+-------+-----------+----------+\n",
      "|   6261|     0.0616|   2755836|\n",
      "|   1665|     0.0562|   1457812|\n",
      "|   4520|     0.0471|   1039271|\n",
      "+-------+-----------+----------+\n",
      "only showing top 3 rows\n",
      "\n"
     ]
    },
    {
     "name": "stderr",
     "output_type": "stream",
     "text": [
      "                                                                                \r"
     ]
    }
   ],
   "source": [
    "cate_clk_df = (\n",
    "    merged_df\n",
    "    .groupBy('cate_id')\n",
    "    .agg(F.round(F.avg('clk'), 4).alias('average_clk'), F.count('clk'))\n",
    "    .orderBy(F.desc('count(clk)'))\n",
    ")\n",
    "cate_clk_df.show(3)"
   ]
  },
  {
   "cell_type": "markdown",
   "id": "c02e3ba8-bbe2-4096-b002-430c27739fdc",
   "metadata": {},
   "source": [
    "## brand clk rate"
   ]
  },
  {
   "cell_type": "code",
   "execution_count": 19,
   "id": "6996d68c-7c0c-4eca-9017-f2b2dd050a50",
   "metadata": {
    "scrolled": true
   },
   "outputs": [
    {
     "name": "stderr",
     "output_type": "stream",
     "text": [
      "[Stage 113:====================================================>(199 + 1) / 200]\r"
     ]
    },
    {
     "name": "stdout",
     "output_type": "stream",
     "text": [
      "+------+-----------+----------+\n",
      "| brand|average_clk|count(clk)|\n",
      "+------+-----------+----------+\n",
      "|  NULL|      0.055|   7802592|\n",
      "|234846|     0.0599|    216874|\n",
      "| 82527|     0.0711|    210968|\n",
      "+------+-----------+----------+\n",
      "only showing top 3 rows\n",
      "\n"
     ]
    },
    {
     "name": "stderr",
     "output_type": "stream",
     "text": [
      "                                                                                \r"
     ]
    }
   ],
   "source": [
    "brand_clk_df = (\n",
    "    merged_df\n",
    "    .groupBy('brand')\n",
    "    .agg(F.round(F.avg('clk'), 4).alias('average_clk'), F.count('clk'))\n",
    "    .sort(F.desc('count(clk)'))\n",
    ")\n",
    "brand_clk_df.show(3)"
   ]
  },
  {
   "cell_type": "markdown",
   "id": "fb3aa215-8cf5-4ecb-8456-3bc823010e3a",
   "metadata": {},
   "source": [
    "## gender clk rate"
   ]
  },
  {
   "cell_type": "code",
   "execution_count": 47,
   "id": "d6518cfc-5b11-4897-a9ba-8b0df24ed063",
   "metadata": {},
   "outputs": [
    {
     "name": "stdout",
     "output_type": "stream",
     "text": [
      "2\n",
      "+-----------------+-----------+\n",
      "|final_gender_code|average_clk|\n",
      "+-----------------+-----------+\n",
      "|                1|     0.0484|\n",
      "|                2|     0.0524|\n",
      "+-----------------+-----------+\n",
      "\n"
     ]
    }
   ],
   "source": [
    "gender_clk_df = (\n",
    "    merged_df\n",
    "    .groupBy('final_gender_code')\n",
    "    .agg(F.round(F.avg('clk'), 4).alias('average_clk'))\n",
    ")\n",
    "summerize_df(gender_clk_df)"
   ]
  },
  {
   "cell_type": "markdown",
   "id": "d845b82f-7519-44e6-8f42-1ed70e5aa4c2",
   "metadata": {},
   "source": [
    "## occupation clk rate"
   ]
  },
  {
   "cell_type": "code",
   "execution_count": 48,
   "id": "6720b555-03c9-445c-a90e-f345695b0035",
   "metadata": {},
   "outputs": [
    {
     "name": "stdout",
     "output_type": "stream",
     "text": [
      "2\n",
      "+----------+-----------+\n",
      "|occupation|average_clk|\n",
      "+----------+-----------+\n",
      "|         1|     0.0515|\n",
      "|         0|     0.0513|\n",
      "+----------+-----------+\n",
      "\n"
     ]
    }
   ],
   "source": [
    "occupation_clk_df = (\n",
    "    merged_df\n",
    "    .groupBy('occupation')\n",
    "    .agg(F.round(F.avg('clk'), 4).alias('average_clk'))\n",
    ")\n",
    "summerize_df(occupation_clk_df)"
   ]
  },
  {
   "cell_type": "markdown",
   "id": "0ddd8f84-01a8-420e-ad89-762e6097de7d",
   "metadata": {},
   "source": [
    "## consumption level clk rate"
   ]
  },
  {
   "cell_type": "code",
   "execution_count": 49,
   "id": "be3513f7-843a-4e1d-afcc-beece4c1dc0c",
   "metadata": {},
   "outputs": [
    {
     "name": "stdout",
     "output_type": "stream",
     "text": [
      "4\n",
      "+------------+-----------+----------+\n",
      "|pvalue_level|average_clk|count(clk)|\n",
      "+------------+-----------+----------+\n",
      "|        NULL|    0.05154|  13024272|\n",
      "|           2|    0.05137|   6991303|\n",
      "|           1|    0.05146|   4117894|\n",
      "+------------+-----------+----------+\n",
      "only showing top 3 rows\n",
      "\n"
     ]
    }
   ],
   "source": [
    "consumption_clk_df = (\n",
    "    merged_df\n",
    "    .groupBy('pvalue_level')\n",
    "    .agg(F.round(F.avg('clk'), 5).alias('average_clk'), F.count('clk'))\n",
    "    .sort(F.desc('count(clk)'))\n",
    ")\n",
    "summerize_df(consumption_clk_df)"
   ]
  },
  {
   "cell_type": "markdown",
   "id": "ce7e5421-1540-4701-bebc-34aa133ba42b",
   "metadata": {},
   "source": [
    "## shopping level clk rate"
   ]
  },
  {
   "cell_type": "code",
   "execution_count": 50,
   "id": "73c5dfd9-3895-4cf1-bed5-ec22cbd47d92",
   "metadata": {},
   "outputs": [
    {
     "name": "stdout",
     "output_type": "stream",
     "text": [
      "3\n",
      "+--------------+-----------+----------+\n",
      "|shopping_level|average_clk|count(clk)|\n",
      "+--------------+-----------+----------+\n",
      "|             3|     0.0511|  21316498|\n",
      "|             2|     0.0517|   2594215|\n",
      "|             1|      0.054|   1118722|\n",
      "+--------------+-----------+----------+\n",
      "\n"
     ]
    }
   ],
   "source": [
    "shopping_level_clk_df = (\n",
    "    merged_df\n",
    "    .groupBy('shopping_level')\n",
    "    .agg(F.round(F.avg('clk'), 4).alias('average_clk'), F.count('clk'))\n",
    "    .sort(F.desc('count(clk)'))\n",
    ")\n",
    "summerize_df(shopping_level_clk_df)"
   ]
  },
  {
   "cell_type": "markdown",
   "id": "783d59e1-9cf0-4394-9799-d00f690ec627",
   "metadata": {},
   "source": [
    "## age level 3: ad category clk rate "
   ]
  },
  {
   "cell_type": "code",
   "execution_count": 20,
   "id": "06d8a368-806d-452b-93a1-f40a6a090dd5",
   "metadata": {
    "scrolled": true
   },
   "outputs": [
    {
     "name": "stderr",
     "output_type": "stream",
     "text": [
      "[Stage 124:=================================================>   (185 + 1) / 200]\r"
     ]
    },
    {
     "name": "stdout",
     "output_type": "stream",
     "text": [
      "+-------+-----------+----------+\n",
      "|cate_id|average_clk|count(clk)|\n",
      "+-------+-----------+----------+\n",
      "|   6261|     0.0613|    842284|\n",
      "|   1665|     0.0552|    468098|\n",
      "|   4520|     0.0459|    297745|\n",
      "+-------+-----------+----------+\n",
      "only showing top 3 rows\n",
      "\n"
     ]
    },
    {
     "name": "stderr",
     "output_type": "stream",
     "text": [
      "                                                                                \r"
     ]
    }
   ],
   "source": [
    "age3_cate_clk_df = (\n",
    "    merged_df\n",
    "    .filter(F.col('age_level') == 3)\n",
    "    .groupBy('cate_id')\n",
    "    .agg(F.round(F.avg('clk'), 4).alias('average_clk'), F.count('clk'))\n",
    "    .sort(F.desc('count(clk)'))\n",
    ")\n",
    "age3_cate_clk_df.show(3)"
   ]
  },
  {
   "cell_type": "markdown",
   "id": "5fd8e4c9-465d-40e6-9197-60e445a4ac3f",
   "metadata": {},
   "source": [
    "## age level 3: ad hour clk rate "
   ]
  },
  {
   "cell_type": "code",
   "execution_count": 23,
   "id": "781c9a94-f79d-42f9-ad3a-83ff83d50ae3",
   "metadata": {
    "scrolled": true
   },
   "outputs": [
    {
     "name": "stderr",
     "output_type": "stream",
     "text": [
      "[Stage 157:==================================================>  (191 + 1) / 200]\r"
     ]
    },
    {
     "name": "stdout",
     "output_type": "stream",
     "text": [
      "+----+-----------+\n",
      "|hour|average_clk|\n",
      "+----+-----------+\n",
      "|  23|     0.0527|\n",
      "|   5|     0.0523|\n",
      "|   6|     0.0521|\n",
      "+----+-----------+\n",
      "only showing top 3 rows\n",
      "\n"
     ]
    },
    {
     "name": "stderr",
     "output_type": "stream",
     "text": [
      "                                                                                \r"
     ]
    }
   ],
   "source": [
    "age3_hour_clk_df = (\n",
    "    window_df\n",
    "    .filter(F.col('age_level') == 3)\n",
    "    .groupBy('hour')\n",
    "    .agg(F.round(F.avg('clk'), 4).alias('average_clk'))\n",
    "    .orderBy(F.desc('average_clk'))\n",
    ")\n",
    "age3_hour_clk_df.show(3)"
   ]
  },
  {
   "cell_type": "markdown",
   "id": "86a40cd9-6ca1-4916-9dd2-dd6b6a9329b0",
   "metadata": {},
   "source": [
    "## age level 3: ad shown time & clk rate "
   ]
  },
  {
   "cell_type": "code",
   "execution_count": 53,
   "id": "c7af03b3-df9a-4ed1-b4e2-ba0f9889d440",
   "metadata": {},
   "outputs": [
    {
     "name": "stdout",
     "output_type": "stream",
     "text": [
      "+---------+---------+\n",
      "|timestamp|count_clk|\n",
      "+---------+---------+\n",
      "|    night|  4137219|\n",
      "|  morning|  3436395|\n",
      "+---------+---------+\n",
      "\n"
     ]
    },
    {
     "name": "stderr",
     "output_type": "stream",
     "text": [
      "                                                                                \r"
     ]
    }
   ],
   "source": [
    "age3_time_clk_count_df = (\n",
    "    window_df\n",
    "    .filter(F.col('age_level') == 3)\n",
    "    .groupby('timestamp')\n",
    "    .agg(F.count('clk').alias('count_clk'))\n",
    ")\n",
    "age3_time_clk_count_df.show()"
   ]
  },
  {
   "cell_type": "markdown",
   "id": "99656ae0-808d-4435-b1a1-17b687072dc5",
   "metadata": {},
   "source": [
    "## age level 3: sum of ad shown time & clk rate "
   ]
  },
  {
   "cell_type": "code",
   "execution_count": 54,
   "id": "02aa748b-31b1-4df8-be38-d39bac550865",
   "metadata": {},
   "outputs": [
    {
     "name": "stdout",
     "output_type": "stream",
     "text": [
      "+---------+---------+\n",
      "|timestamp|count_clk|\n",
      "+---------+---------+\n",
      "|    night|   210482|\n",
      "|  morning|   176201|\n",
      "+---------+---------+\n",
      "\n"
     ]
    }
   ],
   "source": [
    "age3_time_clk_sum_df = (\n",
    "    window_df\n",
    "    .filter(F.col('age_level') == 3)\n",
    "    .groupby('timestamp')\n",
    "    .agg(F.sum('clk').alias('count_clk'))\n",
    ")\n",
    "age3_time_clk_sum_df.show()"
   ]
  },
  {
   "cell_type": "markdown",
   "id": "3ff2ed15-695f-4c60-aede-6f78a6acbb9c",
   "metadata": {},
   "source": [
    "## adgroup count"
   ]
  },
  {
   "cell_type": "code",
   "execution_count": 24,
   "id": "44c4cee8-7ace-42fc-9567-858e904c0b92",
   "metadata": {
    "scrolled": true
   },
   "outputs": [
    {
     "name": "stderr",
     "output_type": "stream",
     "text": [
      "[Stage 168:===================================================> (193 + 1) / 200]\r"
     ]
    },
    {
     "name": "stdout",
     "output_type": "stream",
     "text": [
      "+----------+-----+\n",
      "|adgroup_id|count|\n",
      "+----------+-----+\n",
      "|    710164|68059|\n",
      "|    725105|24972|\n",
      "|    736349|24366|\n",
      "+----------+-----+\n",
      "only showing top 3 rows\n",
      "\n"
     ]
    },
    {
     "name": "stderr",
     "output_type": "stream",
     "text": [
      "                                                                                \r"
     ]
    }
   ],
   "source": [
    "window_df.groupby('adgroup_id').count().sort(F.desc('count')).show(3)"
   ]
  },
  {
   "cell_type": "markdown",
   "id": "cc3d2bcc-730d-4b46-bd79-6d8326d2ff82",
   "metadata": {},
   "source": [
    "## campaign id count"
   ]
  },
  {
   "cell_type": "code",
   "execution_count": 25,
   "id": "d731d9ca-0f65-4337-b6a5-b32692684938",
   "metadata": {
    "scrolled": true
   },
   "outputs": [
    {
     "name": "stderr",
     "output_type": "stream",
     "text": [
      "[Stage 173:====================================================>(199 + 1) / 200]\r"
     ]
    },
    {
     "name": "stdout",
     "output_type": "stream",
     "text": [
      "+-----------+------+\n",
      "|campaign_id| count|\n",
      "+-----------+------+\n",
      "|     359520|124128|\n",
      "|     405490|105391|\n",
      "|     118601| 73770|\n",
      "+-----------+------+\n",
      "only showing top 3 rows\n",
      "\n"
     ]
    },
    {
     "name": "stderr",
     "output_type": "stream",
     "text": [
      "                                                                                \r"
     ]
    }
   ],
   "source": [
    "window_df.groupby('campaign_id').count().sort(F.desc('count')).show(3)"
   ]
  },
  {
   "cell_type": "markdown",
   "id": "9bb68661-37f3-4400-9ef5-72eee7413808",
   "metadata": {},
   "source": [
    "# model features"
   ]
  },
  {
   "cell_type": "markdown",
   "id": "ba8b64a1-83d3-4eef-8f55-e7b8257f3007",
   "metadata": {},
   "source": [
    "## ad counts and sum per userid"
   ]
  },
  {
   "cell_type": "code",
   "execution_count": 26,
   "id": "0999edc2-bfea-4cb3-87bb-4d140731f9a1",
   "metadata": {
    "scrolled": true
   },
   "outputs": [
    {
     "name": "stderr",
     "output_type": "stream",
     "text": [
      "[Stage 190:==================================================>      (8 + 1) / 9]\r"
     ]
    },
    {
     "name": "stdout",
     "output_type": "stream",
     "text": [
      "+------+-------------------+-------------+-----------------+\n",
      "|userid|               time|user_ad_count|user_ad_clk_count|\n",
      "+------+-------------------+-------------+-----------------+\n",
      "|     1|2017-05-10 21:50:36|            1|                0|\n",
      "|     1|2017-05-11 23:45:25|            4|                0|\n",
      "|     1|2017-05-11 23:45:25|            3|                0|\n",
      "+------+-------------------+-------------+-----------------+\n",
      "only showing top 3 rows\n",
      "\n"
     ]
    },
    {
     "name": "stderr",
     "output_type": "stream",
     "text": [
      "                                                                                \r"
     ]
    }
   ],
   "source": [
    "def get_user_features(df):\n",
    "    window = W.partitionBy('userid').orderBy('time', F.rand())\n",
    "    \n",
    "    window_df = (\n",
    "        df\n",
    "        .withColumn('user_ad_count', F.count('clk').over(window))\n",
    "        .withColumn('user_ad_clk_count', F.sum('clk').over(window))\n",
    "    )\n",
    "    \n",
    "    return window_df\n",
    "    \n",
    "users_features_df = get_user_features(window_df)\n",
    "users_features_df.select('userid', 'time', 'user_ad_count', 'user_ad_clk_count').sort('userid', 'time').show(3)"
   ]
  },
  {
   "cell_type": "markdown",
   "id": "1a7e0ddd-452d-4ce7-bafa-6958e8ccf882",
   "metadata": {},
   "source": [
    "## ad counts and sum per adgroup id"
   ]
  },
  {
   "cell_type": "code",
   "execution_count": 27,
   "id": "7184a5c8-3554-4cbc-9631-59a3f9d76072",
   "metadata": {
    "scrolled": true
   },
   "outputs": [
    {
     "name": "stderr",
     "output_type": "stream",
     "text": [
      "[Stage 195:===================================================> (194 + 1) / 200]\r"
     ]
    },
    {
     "name": "stdout",
     "output_type": "stream",
     "text": [
      "+----------+-------------------+-------------+-----------------+\n",
      "|adgroup_id|               time|adgroup_count|adgroup_clk_count|\n",
      "+----------+-------------------+-------------+-----------------+\n",
      "|         1|2017-05-06 23:14:04|            1|                0|\n",
      "|         2|2017-05-08 17:38:53|            1|                0|\n",
      "|         2|2017-05-09 05:38:06|            2|                0|\n",
      "+----------+-------------------+-------------+-----------------+\n",
      "only showing top 3 rows\n",
      "\n"
     ]
    },
    {
     "name": "stderr",
     "output_type": "stream",
     "text": [
      "                                                                                \r"
     ]
    }
   ],
   "source": [
    "def ad_window_functions(df):\n",
    "    window = W.partitionBy('adgroup_id').orderBy('time')\n",
    "    \n",
    "    window_df = (\n",
    "        df\n",
    "        .withColumn('adgroup_count', F.count('clk').over(window))\n",
    "        .withColumn('adgroup_clk_count', F.sum('clk').over(window))\n",
    "    )\n",
    "    \n",
    "    return window_df\n",
    "    \n",
    "window_df = ad_window_functions(users_features_df)\n",
    "window_df.select('adgroup_id', 'time', 'adgroup_count', 'adgroup_clk_count').sort('adgroup_id', 'time').show(3)"
   ]
  },
  {
   "cell_type": "markdown",
   "id": "5aaa20cd-c2fa-44a3-84d2-c3aed44ee0b9",
   "metadata": {},
   "source": [
    "## ad counts and sum per campaign id"
   ]
  },
  {
   "cell_type": "code",
   "execution_count": 28,
   "id": "5be8c092-2cdd-4b00-be93-af2a08ba7767",
   "metadata": {
    "scrolled": true
   },
   "outputs": [
    {
     "name": "stdout",
     "output_type": "stream",
     "text": [
      "25029435\n"
     ]
    },
    {
     "name": "stderr",
     "output_type": "stream",
     "text": [
      "[Stage 224:=====================================================> (38 + 1) / 39]\r"
     ]
    },
    {
     "name": "stdout",
     "output_type": "stream",
     "text": [
      "+----------+------+----------+-----------+------+---+---------+------------+-----------------+---------+------------+--------------+----------+---------------------+-------+-----------+--------+-----+-----+-------------------+-------------------+----------+----+---------+-------------+-----------------+-------------+-----------------+--------------+------------------+\n",
      "|adgroup_id|userid|time_stamp|        pid|nonclk|clk|cms_segid|cms_group_id|final_gender_code|age_level|pvalue_level|shopping_level|occupation|new_user_class_level |cate_id|campaign_id|customer|brand|price|               time|           last_row|ad_gap_sec|hour|timestamp|user_ad_count|user_ad_clk_count|adgroup_count|adgroup_clk_count|campaign_count|campaign_clk_count|\n",
      "+----------+------+----------+-----------+------+---+---------+------------+-----------------+---------+------------+--------------+----------+---------------------+-------+-----------+--------+-----+-----+-------------------+-------------------+----------+----+---------+-------------+-----------------+-------------+-----------------+--------------+------------------+\n",
      "|    698868|803506|1494021093|430548_1007|     1|  0|        0|           5|                2|        5|        NULL|             1|         0|                 NULL|   6423|         31|   15142| NULL|158.0|2017-05-05 14:51:33|               NULL|      NULL|  14|    night|            2|                0|            1|                0|             1|                 0|\n",
      "|    698868|849260|1494031216|430539_1007|     1|  0|        0|           3|                2|        3|        NULL|             3|         0|                    4|   6423|         31|   15142| NULL|158.0|2017-05-05 17:40:16|2017-05-05 17:40:16|         0|  17|    night|           17|                0|            2|                0|             2|                 0|\n",
      "|    698868| 97520|1494035999|430548_1007|     1|  0|       16|           3|                2|        3|           1|             3|         0|                    2|   6423|         31|   15142| NULL|158.0|2017-05-05 18:59:59|2017-05-05 18:59:59|         0|  18|    night|            1|                1|            3|                0|             3|                 0|\n",
      "+----------+------+----------+-----------+------+---+---------+------------+-----------------+---------+------------+--------------+----------+---------------------+-------+-----------+--------+-----+-----+-------------------+-------------------+----------+----+---------+-------------+-----------------+-------------+-----------------+--------------+------------------+\n",
      "only showing top 3 rows\n",
      "\n"
     ]
    },
    {
     "name": "stderr",
     "output_type": "stream",
     "text": [
      "                                                                                \r"
     ]
    }
   ],
   "source": [
    "def ad_window_functions(df):\n",
    "    window = W.partitionBy('campaign_id').orderBy('time')\n",
    "    \n",
    "    window_df = (\n",
    "        df\n",
    "        .withColumn('campaign_count', F.count('clk').over(window))\n",
    "        .withColumn('campaign_clk_count', F.sum('clk').over(window))\n",
    "    )\n",
    "    \n",
    "    return window_df\n",
    "    \n",
    "window_df = ad_window_functions(window_df)\n",
    "summerize_df(window_df)"
   ]
  },
  {
   "cell_type": "markdown",
   "id": "419c298a-691c-42b7-849f-ef390728520f",
   "metadata": {},
   "source": [
    "## ad counts and sum per cate id"
   ]
  },
  {
   "cell_type": "code",
   "execution_count": 29,
   "id": "15c22ff7-b011-4035-814c-458c441dd34b",
   "metadata": {
    "scrolled": true
   },
   "outputs": [
    {
     "name": "stderr",
     "output_type": "stream",
     "text": [
      "                                                                                \r"
     ]
    },
    {
     "name": "stdout",
     "output_type": "stream",
     "text": [
      "25029435\n"
     ]
    },
    {
     "name": "stderr",
     "output_type": "stream",
     "text": [
      "[Stage 269:=====================================================> (30 + 1) / 31]\r"
     ]
    },
    {
     "name": "stdout",
     "output_type": "stream",
     "text": [
      "+----------+------+----------+-----------+------+---+---------+------------+-----------------+---------+------------+--------------+----------+---------------------+-------+-----------+--------+------+------+-------------------+-------------------+----------+----+---------+-------------+-----------------+-------------+-----------------+--------------+------------------+----------+--------------+\n",
      "|adgroup_id|userid|time_stamp|        pid|nonclk|clk|cms_segid|cms_group_id|final_gender_code|age_level|pvalue_level|shopping_level|occupation|new_user_class_level |cate_id|campaign_id|customer| brand| price|               time|           last_row|ad_gap_sec|hour|timestamp|user_ad_count|user_ad_clk_count|adgroup_count|adgroup_clk_count|campaign_count|campaign_clk_count|cate_count|cate_clk_count|\n",
      "+----------+------+----------+-----------+------+---+---------+------------+-----------------+---------+------------+--------------+----------+---------------------+-------+-----------+--------+------+------+-------------------+-------------------+----------+----+---------+-------------+-----------------+-------------+-----------------+--------------+------------------+----------+--------------+\n",
      "|    590288|862149|1494003675|430539_1007|     1|  0|        0|          10|                1|        4|        NULL|             3|         0|                    1|     31|     359510|   56319| 49899|5400.0|2017-05-05 10:01:15|2017-05-05 10:01:15|         0|  10|    night|            1|                0|            1|                0|             1|                 0|         1|             0|\n",
      "|    290601|629123|1494025619|430548_1007|     1|  0|        0|           2|                2|        2|           1|             3|         0|                 NULL|     31|      94689|  136098|107382|2588.0|2017-05-05 16:06:59|2017-05-05 16:06:59|         0|  16|    night|            3|                1|            1|                0|             1|                 0|         2|             0|\n",
      "|    290601|805389|1494026615|430548_1007|     1|  0|        0|          11|                1|        5|        NULL|             2|         0|                    2|     31|      94689|  136098|107382|2588.0|2017-05-05 16:23:35|2017-05-05 16:23:35|         0|  16|    night|            3|                0|            2|                0|             2|                 0|         3|             0|\n",
      "+----------+------+----------+-----------+------+---+---------+------------+-----------------+---------+------------+--------------+----------+---------------------+-------+-----------+--------+------+------+-------------------+-------------------+----------+----+---------+-------------+-----------------+-------------+-----------------+--------------+------------------+----------+--------------+\n",
      "only showing top 3 rows\n",
      "\n"
     ]
    },
    {
     "name": "stderr",
     "output_type": "stream",
     "text": [
      "                                                                                \r"
     ]
    }
   ],
   "source": [
    "def ad_window_functions(df):\n",
    "    window = W.partitionBy('cate_id').orderBy('time')\n",
    "    \n",
    "    window_df = (\n",
    "        df\n",
    "        .withColumn('cate_count', F.count('clk').over(window))\n",
    "        .withColumn('cate_clk_count', F.sum('clk').over(window))\n",
    "    )\n",
    "    \n",
    "    return window_df\n",
    "    \n",
    "window_df = ad_window_functions(window_df)\n",
    "summerize_df(window_df)"
   ]
  },
  {
   "cell_type": "markdown",
   "id": "1f7d011f-9358-4330-af83-880d7ce53598",
   "metadata": {},
   "source": [
    "## male & female ad clk counts and sum per cate id"
   ]
  },
  {
   "cell_type": "code",
   "execution_count": 30,
   "id": "2fdda631-94c6-47ff-966d-fb731eb4c003",
   "metadata": {},
   "outputs": [
    {
     "name": "stderr",
     "output_type": "stream",
     "text": [
      "                                                                                \r"
     ]
    },
    {
     "name": "stdout",
     "output_type": "stream",
     "text": [
      "25029435\n"
     ]
    },
    {
     "name": "stderr",
     "output_type": "stream",
     "text": [
      "[Stage 324:>                                                        (0 + 1) / 1]\r"
     ]
    },
    {
     "name": "stdout",
     "output_type": "stream",
     "text": [
      "+----------+------+----------+-----------+------+---+---------+------------+-----------------+---------+------------+--------------+----------+---------------------+-------+-----------+--------+------+------+-------------------+-------------------+----------+----+---------+-------------+-----------------+-------------+-----------------+--------------+------------------+----------+--------------+-----------------+---------------------+---------------+-------------------+\n",
      "|adgroup_id|userid|time_stamp|        pid|nonclk|clk|cms_segid|cms_group_id|final_gender_code|age_level|pvalue_level|shopping_level|occupation|new_user_class_level |cate_id|campaign_id|customer| brand| price|               time|           last_row|ad_gap_sec|hour|timestamp|user_ad_count|user_ad_clk_count|adgroup_count|adgroup_clk_count|campaign_count|campaign_clk_count|cate_count|cate_clk_count|female_cate_count|female_cate_clk_count|male_cate_count|male_cate_clk_count|\n",
      "+----------+------+----------+-----------+------+---+---------+------------+-----------------+---------+------------+--------------+----------+---------------------+-------+-----------+--------+------+------+-------------------+-------------------+----------+----+---------+-------------+-----------------+-------------+-----------------+--------------+------------------+----------+--------------+-----------------+---------------------+---------------+-------------------+\n",
      "|    590288|862149|1494003675|430539_1007|     1|  0|        0|          10|                1|        4|        NULL|             3|         0|                    1|     31|     359510|   56319| 49899|5400.0|2017-05-05 10:01:15|2017-05-05 10:01:15|         0|  10|    night|            1|                0|            1|                0|             1|                 0|         1|             0|                1|                    0|           NULL|               NULL|\n",
      "|    290601|629123|1494025619|430548_1007|     1|  0|        0|           2|                2|        2|           1|             3|         0|                 NULL|     31|      94689|  136098|107382|2588.0|2017-05-05 16:06:59|2017-05-05 16:06:59|         0|  16|    night|            3|                1|            1|                0|             1|                 0|         2|             0|             NULL|                 NULL|              2|                  0|\n",
      "|    290601|805389|1494026615|430548_1007|     1|  0|        0|          11|                1|        5|        NULL|             2|         0|                    2|     31|      94689|  136098|107382|2588.0|2017-05-05 16:23:35|2017-05-05 16:23:35|         0|  16|    night|            3|                0|            2|                0|             2|                 0|         3|             0|                3|                    0|           NULL|               NULL|\n",
      "+----------+------+----------+-----------+------+---+---------+------------+-----------------+---------+------------+--------------+----------+---------------------+-------+-----------+--------+------+------+-------------------+-------------------+----------+----+---------+-------------+-----------------+-------------+-----------------+--------------+------------------+----------+--------------+-----------------+---------------------+---------------+-------------------+\n",
      "only showing top 3 rows\n",
      "\n"
     ]
    },
    {
     "name": "stderr",
     "output_type": "stream",
     "text": [
      "                                                                                \r"
     ]
    }
   ],
   "source": [
    "def ad_window_functions(df):\n",
    "    window = W.partitionBy('cate_id').orderBy('time')\n",
    "    \n",
    "    window_df = (\n",
    "        df\n",
    "        .withColumn(\"female_cate_count\", F.when((F.col(\"final_gender_code\") == 1), F.count('clk').over(window)))\n",
    "        .withColumn(\"female_cate_clk_count\", F.when((F.col(\"final_gender_code\") == 1), F.sum('clk').over(window)))\n",
    "        .withColumn(\"male_cate_count\", F.when((F.col(\"final_gender_code\") == 2), F.count('clk').over(window)))\n",
    "        .withColumn(\"male_cate_clk_count\", F.when((F.col(\"final_gender_code\") == 2), F.sum('clk').over(window)))\n",
    "    )\n",
    "\n",
    "    return window_df\n",
    "    \n",
    "window_df = ad_window_functions(window_df)\n",
    "summerize_df(window_df)"
   ]
  },
  {
   "cell_type": "code",
   "execution_count": 31,
   "id": "87c1dfc7-0359-43df-b026-7b090123663a",
   "metadata": {
    "scrolled": true
   },
   "outputs": [
    {
     "name": "stderr",
     "output_type": "stream",
     "text": [
      "                                                                                \r"
     ]
    },
    {
     "name": "stdout",
     "output_type": "stream",
     "text": [
      "25029435\n"
     ]
    },
    {
     "name": "stderr",
     "output_type": "stream",
     "text": [
      "[Stage 370:>                                                        (0 + 1) / 1]\r"
     ]
    },
    {
     "name": "stdout",
     "output_type": "stream",
     "text": [
      "+----------+------+----------+-----------+------+---+---------+------------+-----------------+---------+------------+--------------+----------+---------------------+-------+-----------+--------+------+------+-------------------+-------------------+----------+----+---------+-------------+-----------------+-------------+-----------------+--------------+------------------+----------+--------------+-----------------+---------------------+---------------+-------------------+-------------------+-----------------------+\n",
      "|adgroup_id|userid|time_stamp|        pid|nonclk|clk|cms_segid|cms_group_id|final_gender_code|age_level|pvalue_level|shopping_level|occupation|new_user_class_level |cate_id|campaign_id|customer| brand| price|               time|           last_row|ad_gap_sec|hour|timestamp|user_ad_count|user_ad_clk_count|adgroup_count|adgroup_clk_count|campaign_count|campaign_clk_count|cate_count|cate_clk_count|female_cate_count|female_cate_clk_count|male_cate_count|male_cate_clk_count|cat_gender_ad_count|cat_gender_ad_clk_count|\n",
      "+----------+------+----------+-----------+------+---+---------+------------+-----------------+---------+------------+--------------+----------+---------------------+-------+-----------+--------+------+------+-------------------+-------------------+----------+----+---------+-------------+-----------------+-------------+-----------------+--------------+------------------+----------+--------------+-----------------+---------------------+---------------+-------------------+-------------------+-----------------------+\n",
      "|    590288|862149|1494003675|430539_1007|     1|  0|        0|          10|                1|        4|        NULL|             3|         0|                    1|     31|     359510|   56319| 49899|5400.0|2017-05-05 10:01:15|2017-05-05 10:01:15|         0|  10|    night|            1|                0|            1|                0|             1|                 0|         1|             0|                1|                    0|           NULL|               NULL|                  1|                      0|\n",
      "|    290601|805389|1494026615|430548_1007|     1|  0|        0|          11|                1|        5|        NULL|             2|         0|                    2|     31|      94689|  136098|107382|2588.0|2017-05-05 16:23:35|2017-05-05 16:23:35|         0|  16|    night|            3|                0|            2|                0|             2|                 0|         3|             0|                3|                    0|           NULL|               NULL|                  2|                      0|\n",
      "|    396690|556456|1494028006|430548_1007|     1|  0|        0|           9|                1|        3|        NULL|             3|         0|                    4|     31|     280925|   25094|316005|9000.0|2017-05-05 16:46:46|2017-05-05 16:46:46|         0|  16|    night|            2|                0|            1|                0|             1|                 0|         5|             0|                5|                    0|           NULL|               NULL|                  4|                      0|\n",
      "+----------+------+----------+-----------+------+---+---------+------------+-----------------+---------+------------+--------------+----------+---------------------+-------+-----------+--------+------+------+-------------------+-------------------+----------+----+---------+-------------+-----------------+-------------+-----------------+--------------+------------------+----------+--------------+-----------------+---------------------+---------------+-------------------+-------------------+-----------------------+\n",
      "only showing top 3 rows\n",
      "\n"
     ]
    },
    {
     "name": "stderr",
     "output_type": "stream",
     "text": [
      "                                                                                \r"
     ]
    }
   ],
   "source": [
    "def ad_window_functions(df):\n",
    "    window = W.partitionBy('cate_id', 'final_gender_code').orderBy('time')\n",
    "    \n",
    "    window_df = (\n",
    "        df\n",
    "        .withColumn('cat_gender_ad_count', F.count('clk').over(window))\n",
    "        .withColumn('cat_gender_ad_clk_count', F.sum('clk').over(window))\n",
    "    )\n",
    "\n",
    "    return window_df\n",
    "    \n",
    "window_df = ad_window_functions(window_df)\n",
    "summerize_df(window_df)"
   ]
  },
  {
   "cell_type": "code",
   "execution_count": 32,
   "id": "1f6a36d4-37a6-41c5-866c-d4bc3d71d4e0",
   "metadata": {
    "scrolled": true
   },
   "outputs": [
    {
     "name": "stderr",
     "output_type": "stream",
     "text": [
      "                                                                                \r"
     ]
    },
    {
     "name": "stdout",
     "output_type": "stream",
     "text": [
      "25029435\n"
     ]
    },
    {
     "name": "stderr",
     "output_type": "stream",
     "text": [
      "[Stage 416:>                                                        (0 + 1) / 1]\r"
     ]
    },
    {
     "name": "stdout",
     "output_type": "stream",
     "text": [
      "+----------+------+----------+-----------+------+---+---------+------------+-----------------+---------+------------+--------------+----------+---------------------+-------+-----------+--------+------+------+-------------------+-------------------+----------+----+---------+-------------+-----------------+-------------+-----------------+--------------+------------------+----------+--------------+-----------------+---------------------+---------------+-------------------+-------------------+-----------------------+\n",
      "|adgroup_id|userid|time_stamp|        pid|nonclk|clk|cms_segid|cms_group_id|final_gender_code|age_level|pvalue_level|shopping_level|occupation|new_user_class_level |cate_id|campaign_id|customer| brand| price|               time|           last_row|ad_gap_sec|hour|timestamp|user_ad_count|user_ad_clk_count|adgroup_count|adgroup_clk_count|campaign_count|campaign_clk_count|cate_count|cate_clk_count|female_cate_count|female_cate_clk_count|male_cate_count|male_cate_clk_count|cat_gender_ad_count|cat_gender_ad_clk_count|\n",
      "+----------+------+----------+-----------+------+---+---------+------------+-----------------+---------+------------+--------------+----------+---------------------+-------+-----------+--------+------+------+-------------------+-------------------+----------+----+---------+-------------+-----------------+-------------+-----------------+--------------+------------------+----------+--------------+-----------------+---------------------+---------------+-------------------+-------------------+-----------------------+\n",
      "|    590288|862149|1494003675|430539_1007|     1|  0|        0|          10|                1|        4|        NULL|             3|         0|                    1|     31|     359510|   56319| 49899|5400.0|2017-05-05 10:01:15|2017-05-05 10:01:15|         0|  10|    night|            1|                0|            1|                0|             1|                 0|         1|             0|                1|                    0|           NULL|               NULL|                  1|                      0|\n",
      "|    290601|805389|1494026615|430548_1007|     1|  0|        0|          11|                1|        5|        NULL|             2|         0|                    2|     31|      94689|  136098|107382|2588.0|2017-05-05 16:23:35|2017-05-05 16:23:35|         0|  16|    night|            3|                0|            2|                0|             2|                 0|         3|             0|                3|                    0|           NULL|               NULL|                  2|                      0|\n",
      "|    396690|556456|1494028006|430548_1007|     1|  0|        0|           9|                1|        3|        NULL|             3|         0|                    4|     31|     280925|   25094|316005|9000.0|2017-05-05 16:46:46|2017-05-05 16:46:46|         0|  16|    night|            2|                0|            1|                0|             1|                 0|         5|             0|                5|                    0|           NULL|               NULL|                  4|                      0|\n",
      "+----------+------+----------+-----------+------+---+---------+------------+-----------------+---------+------------+--------------+----------+---------------------+-------+-----------+--------+------+------+-------------------+-------------------+----------+----+---------+-------------+-----------------+-------------+-----------------+--------------+------------------+----------+--------------+-----------------+---------------------+---------------+-------------------+-------------------+-----------------------+\n",
      "only showing top 3 rows\n",
      "\n"
     ]
    },
    {
     "name": "stderr",
     "output_type": "stream",
     "text": [
      "                                                                                \r"
     ]
    }
   ],
   "source": [
    "def ad_window_functions(df):\n",
    "    window = W.partitionBy('cate_id', 'final_gender_code').orderBy('time')\n",
    "    \n",
    "    window_df = (\n",
    "        df\n",
    "        .withColumn('cat_gender_ad_count', F.count('clk').over(window))\n",
    "        .withColumn('cat_gender_ad_clk_count', F.sum('clk').over(window))\n",
    "    )\n",
    "\n",
    "    return window_df\n",
    "    \n",
    "window_df = ad_window_functions(window_df)\n",
    "summerize_df(window_df)"
   ]
  }
 ],
 "metadata": {
  "kernelspec": {
   "display_name": "Python 3 (ipykernel)",
   "language": "python",
   "name": "python3"
  },
  "language_info": {
   "codemirror_mode": {
    "name": "ipython",
    "version": 3
   },
   "file_extension": ".py",
   "mimetype": "text/x-python",
   "name": "python",
   "nbconvert_exporter": "python",
   "pygments_lexer": "ipython3",
   "version": "3.10.12"
  }
 },
 "nbformat": 4,
 "nbformat_minor": 5
}
