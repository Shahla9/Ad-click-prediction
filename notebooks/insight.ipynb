{
 "cells": [
  {
   "cell_type": "markdown",
   "id": "97bed70e-3951-4055-9e33-a1a0bad43bad",
   "metadata": {},
   "source": [
    "# init"
   ]
  },
  {
   "cell_type": "markdown",
   "id": "bb75388f-4320-4f89-97a3-5bda43f138ee",
   "metadata": {},
   "source": [
    "## imports"
   ]
  },
  {
   "cell_type": "code",
   "execution_count": 1,
   "id": "98f5668e-4962-4c54-96b7-79325b1e95b0",
   "metadata": {},
   "outputs": [],
   "source": [
    "import matplotlib.pyplot as plt\n",
    "import os\n",
    "import pandas as pd\n",
    "import warnings\n",
    "\n",
    "from pyspark.sql import functions as F\n",
    "from pyspark.sql import SparkSession\n",
    "from pyspark.sql import types as T\n",
    "from pyspark.sql import Window as W\n",
    "\n",
    "warnings.filterwarnings('ignore')"
   ]
  },
  {
   "cell_type": "markdown",
   "id": "3603e1b4-7127-4a1a-823a-55604286675b",
   "metadata": {},
   "source": [
    "## configs"
   ]
  },
  {
   "cell_type": "code",
   "execution_count": 2,
   "id": "767c8c76-eb97-4ba7-a98b-77531ca3a94a",
   "metadata": {},
   "outputs": [],
   "source": [
    "SPARK_THREADS = 16\n",
    "SPARK_MEMORY = 16\n",
    "SPARK_TIMEZONE = 'America/Vancouver'"
   ]
  },
  {
   "cell_type": "code",
   "execution_count": 2,
   "id": "b53e2760-16f0-4c2f-932d-6d5361ac577f",
   "metadata": {},
   "outputs": [],
   "source": [
    "BASE_PATH = os.path.expanduser('~/class/ad_click/data/raw_data/')\n",
    "USER_DATA_PATH = BASE_PATH + 'user_profile.csv'\n",
    "AD_CLICK_DATA_PATH = BASE_PATH + 'raw_sample.csv'\n",
    "AD_INFO_DATA_PATH = BASE_PATH + 'ad_feature.csv'"
   ]
  },
  {
   "cell_type": "markdown",
   "id": "3b5cee49-85c7-43dd-9b51-c0c1bac3afa3",
   "metadata": {},
   "source": [
    "## spark instantiation"
   ]
  },
  {
   "cell_type": "code",
   "execution_count": 4,
   "id": "319ea4d0-6758-4603-8d40-b3b17299e1e0",
   "metadata": {},
   "outputs": [
    {
     "name": "stderr",
     "output_type": "stream",
     "text": [
      "24/03/23 07:08:17 WARN Utils: Your hostname, shaghayegh-ubuntu resolves to a loopback address: 127.0.1.1; using 10.0.0.66 instead (on interface wlp92s0)\n",
      "24/03/23 07:08:17 WARN Utils: Set SPARK_LOCAL_IP if you need to bind to another address\n",
      "Setting default log level to \"WARN\".\n",
      "To adjust logging level use sc.setLogLevel(newLevel). For SparkR, use setLogLevel(newLevel).\n",
      "24/03/23 07:08:17 WARN NativeCodeLoader: Unable to load native-hadoop library for your platform... using builtin-java classes where applicable\n"
     ]
    }
   ],
   "source": [
    "spark = (\n",
    "    SparkSession \n",
    "    .builder \n",
    "    .master('local[{}]'.format(SPARK_THREADS)) \n",
    "    .config('spark.driver.memory', '{}g'.format(SPARK_MEMORY)) \n",
    "    .config('spark.sql.session.timeZone', SPARK_TIMEZONE) \n",
    "    .getOrCreate()\n",
    ")"
   ]
  },
  {
   "cell_type": "markdown",
   "id": "b7f7c8f9-2167-403c-8fb8-c48d0072fbf1",
   "metadata": {},
   "source": [
    "## util"
   ]
  },
  {
   "cell_type": "code",
   "execution_count": 5,
   "id": "3e80140c-24ca-45d6-b0a7-0c0a2f59e1b6",
   "metadata": {},
   "outputs": [],
   "source": [
    "def summerize_df(df):\n",
    "    print(df.count())\n",
    "    df.show(3)"
   ]
  },
  {
   "cell_type": "markdown",
   "id": "2e050424-07ee-4feb-b3da-090e08abad10",
   "metadata": {},
   "source": [
    "# load data"
   ]
  },
  {
   "cell_type": "code",
   "execution_count": 6,
   "id": "2ed14114-57b6-4f19-b249-d2253cb553f3",
   "metadata": {},
   "outputs": [
    {
     "name": "stdout",
     "output_type": "stream",
     "text": [
      "1061768\n",
      "+------+---------+------------+-----------------+---------+------------+--------------+----------+---------------------+\n",
      "|userid|cms_segid|cms_group_id|final_gender_code|age_level|pvalue_level|shopping_level|occupation|new_user_class_level |\n",
      "+------+---------+------------+-----------------+---------+------------+--------------+----------+---------------------+\n",
      "|   234|        0|           5|                2|        5|        NULL|             3|         0|                    3|\n",
      "|   523|        5|           2|                2|        2|           1|             3|         1|                    2|\n",
      "|   612|        0|           8|                1|        2|           2|             3|         0|                 NULL|\n",
      "+------+---------+------------+-----------------+---------+------------+--------------+----------+---------------------+\n",
      "only showing top 3 rows\n",
      "\n"
     ]
    }
   ],
   "source": [
    "user_df = spark.read.csv(USER_DATA_PATH, header = True, inferSchema=True)\n",
    "summerize_df(user_df)"
   ]
  },
  {
   "cell_type": "code",
   "execution_count": 7,
   "id": "70cb8248-9b19-493e-b9b7-182d4c802683",
   "metadata": {},
   "outputs": [
    {
     "name": "stdout",
     "output_type": "stream",
     "text": [
      "846811\n",
      "+----------+-------+-----------+--------+-----+-----+\n",
      "|adgroup_id|cate_id|campaign_id|customer|brand|price|\n",
      "+----------+-------+-----------+--------+-----+-----+\n",
      "|     63133|   6406|      83237|       1|95471|170.0|\n",
      "|    313401|   6406|      83237|       1|87331|199.0|\n",
      "|    248909|    392|      83237|       1|32233| 38.0|\n",
      "+----------+-------+-----------+--------+-----+-----+\n",
      "only showing top 3 rows\n",
      "\n"
     ]
    }
   ],
   "source": [
    "ad_info_df = spark.read.csv(AD_INFO_DATA_PATH, header = True, inferSchema=True)\n",
    "summerize_df(ad_info_df)"
   ]
  },
  {
   "cell_type": "code",
   "execution_count": 8,
   "id": "1020e7a5-4064-4ae9-9ed5-4ef29c1fd495",
   "metadata": {},
   "outputs": [
    {
     "name": "stderr",
     "output_type": "stream",
     "text": [
      "[Stage 14:>                                                       (0 + 16) / 16]\r"
     ]
    },
    {
     "name": "stdout",
     "output_type": "stream",
     "text": [
      "26557961\n",
      "+------+----------+----------+-----------+------+---+\n",
      "|  user|time_stamp|adgroup_id|        pid|nonclk|clk|\n",
      "+------+----------+----------+-----------+------+---+\n",
      "|581738|1494137644|         1|430548_1007|     1|  0|\n",
      "|449818|1494638778|         3|430548_1007|     1|  0|\n",
      "|914836|1494650879|         4|430548_1007|     1|  0|\n",
      "+------+----------+----------+-----------+------+---+\n",
      "only showing top 3 rows\n",
      "\n"
     ]
    },
    {
     "name": "stderr",
     "output_type": "stream",
     "text": [
      "                                                                                \r"
     ]
    }
   ],
   "source": [
    "ad_click_df = spark.read.csv(AD_CLICK_DATA_PATH, header = True, inferSchema=True)\n",
    "summerize_df(ad_click_df)"
   ]
  },
  {
   "cell_type": "markdown",
   "id": "6a59254f-455e-4c4b-9cb5-349f9d6040c9",
   "metadata": {},
   "source": [
    "# join"
   ]
  },
  {
   "cell_type": "code",
   "execution_count": 9,
   "id": "adcbec65-3af0-4959-bf29-b8170453bf72",
   "metadata": {},
   "outputs": [
    {
     "name": "stderr",
     "output_type": "stream",
     "text": [
      "[Stage 28:====================================================> (193 + 7) / 200]\r"
     ]
    },
    {
     "name": "stdout",
     "output_type": "stream",
     "text": [
      "25029435\n",
      "+----------+-------+----------+-----------+------+---+---------+------------+-----------------+---------+------------+--------------+----------+---------------------+-------+-----------+--------+------+-----+\n",
      "|adgroup_id| userid|time_stamp|        pid|nonclk|clk|cms_segid|cms_group_id|final_gender_code|age_level|pvalue_level|shopping_level|occupation|new_user_class_level |cate_id|campaign_id|customer| brand|price|\n",
      "+----------+-------+----------+-----------+------+---+---------+------------+-----------------+---------+------------+--------------+----------+---------------------+-------+-----------+--------+------+-----+\n",
      "|       148|1040395|1494306282|430539_1007|     0|  1|       56|           8|                1|        2|           1|             3|         0|                    2|  11005|     395681|   50113|390701| 26.0|\n",
      "|       148|1040395|1494374101|430539_1007|     1|  0|       56|           8|                1|        2|           1|             3|         0|                    2|  11005|     395681|   50113|390701| 26.0|\n",
      "|       148| 715390|1494233581|430539_1007|     0|  1|        0|          10|                1|        4|        NULL|             3|         0|                    2|  11005|     395681|   50113|390701| 26.0|\n",
      "+----------+-------+----------+-----------+------+---+---------+------------+-----------------+---------+------------+--------------+----------+---------------------+-------+-----------+--------+------+-----+\n",
      "only showing top 3 rows\n",
      "\n"
     ]
    },
    {
     "name": "stderr",
     "output_type": "stream",
     "text": [
      "                                                                                \r"
     ]
    }
   ],
   "source": [
    "ad_click_df = ad_click_df.withColumnRenamed('user', 'userid')\n",
    "\n",
    "ad_click_user_df = ad_click_df.join(user_df, on='userid')\n",
    "merged_df = ad_click_user_df.join(ad_info_df, on='adgroup_id')\n",
    "\n",
    "merged_df.persist()\n",
    "summerize_df(merged_df)"
   ]
  },
  {
   "cell_type": "markdown",
   "id": "44d08c5f-83ff-4761-8795-3b95582990c0",
   "metadata": {},
   "source": [
    "# questions"
   ]
  },
  {
   "cell_type": "markdown",
   "id": "445452ce-7d6a-446c-b612-1e931b817af0",
   "metadata": {},
   "source": [
    "## ad click distribution"
   ]
  },
  {
   "cell_type": "code",
   "execution_count": 10,
   "id": "433ca170-403b-494a-8f6d-27f2cedd5820",
   "metadata": {},
   "outputs": [
    {
     "name": "stderr",
     "output_type": "stream",
     "text": [
      "[Stage 45:>                                                       (0 + 16) / 16]\r"
     ]
    },
    {
     "name": "stdout",
     "output_type": "stream",
     "text": [
      "+---+--------+\n",
      "|clk|   count|\n",
      "+---+--------+\n",
      "|  1| 1366056|\n",
      "|  0|25191905|\n",
      "+---+--------+\n",
      "\n"
     ]
    },
    {
     "name": "stderr",
     "output_type": "stream",
     "text": [
      "                                                                                \r"
     ]
    }
   ],
   "source": [
    "(\n",
    "    ad_click_df\n",
    "    .groupby('clk')\n",
    "    .count()\n",
    "    .show()\n",
    ")"
   ]
  },
  {
   "cell_type": "markdown",
   "id": "f97f7bb3-c637-4954-a2bf-614d09a80841",
   "metadata": {},
   "source": [
    "## time interval"
   ]
  },
  {
   "cell_type": "code",
   "execution_count": 11,
   "id": "fa1f2df3-ce28-4613-a71b-be000ac4dd12",
   "metadata": {},
   "outputs": [
    {
     "name": "stderr",
     "output_type": "stream",
     "text": [
      "[Stage 48:>                                                       (0 + 16) / 16]\r"
     ]
    },
    {
     "name": "stdout",
     "output_type": "stream",
     "text": [
      "+-------------------+-------------------+\n",
      "|          min(time)|          max(time)|\n",
      "+-------------------+-------------------+\n",
      "|2017-05-05 09:00:00|2017-05-13 08:59:46|\n",
      "+-------------------+-------------------+\n",
      "\n"
     ]
    },
    {
     "name": "stderr",
     "output_type": "stream",
     "text": [
      "                                                                                \r"
     ]
    }
   ],
   "source": [
    "(\n",
    "    ad_click_df\n",
    "    .withColumn('time', F.from_unixtime(F.col('time_stamp')))\n",
    "    .groupby()\n",
    "    .agg(\n",
    "        F.min('time'),\n",
    "        F.max('time')) \n",
    "    .show()\n",
    ")"
   ]
  },
  {
   "cell_type": "markdown",
   "id": "7bbf5dec-2aef-4c60-b66c-f6494c485d03",
   "metadata": {},
   "source": [
    "## ad group count"
   ]
  },
  {
   "cell_type": "code",
   "execution_count": 12,
   "id": "dfb105aa-647f-478c-b189-878211bebdb1",
   "metadata": {},
   "outputs": [
    {
     "name": "stdout",
     "output_type": "stream",
     "text": [
      "+--------------------------+\n",
      "|count(DISTINCT adgroup_id)|\n",
      "+--------------------------+\n",
      "|                    846811|\n",
      "+--------------------------+\n",
      "\n"
     ]
    }
   ],
   "source": [
    "(\n",
    "    ad_info_df\n",
    "    .groupby()\n",
    "    .agg(\n",
    "        F.count_distinct('adgroup_id'))\n",
    "    .show()\n",
    ")"
   ]
  },
  {
   "cell_type": "markdown",
   "id": "26ae11d7-ee59-4c64-ab14-7e21ad5c42b0",
   "metadata": {},
   "source": [
    "## campaign id count"
   ]
  },
  {
   "cell_type": "code",
   "execution_count": 13,
   "id": "1476d149-cdcc-4d72-809b-a665ba16efb7",
   "metadata": {},
   "outputs": [
    {
     "name": "stdout",
     "output_type": "stream",
     "text": [
      "+---------------------------+\n",
      "|count(DISTINCT campaign_id)|\n",
      "+---------------------------+\n",
      "|                     423436|\n",
      "+---------------------------+\n",
      "\n"
     ]
    }
   ],
   "source": [
    "(\n",
    "    ad_info_df\n",
    "    .groupby()\n",
    "    .agg(\n",
    "        F.count_distinct('campaign_id'))\n",
    "    .show()\n",
    ")"
   ]
  },
  {
   "cell_type": "markdown",
   "id": "b69e1222-305d-4dc4-b3f9-b3db12f2bca4",
   "metadata": {},
   "source": [
    "## ad category id count"
   ]
  },
  {
   "cell_type": "code",
   "execution_count": 14,
   "id": "7886a6f3-6b5f-4a4f-886d-000ba570ca02",
   "metadata": {},
   "outputs": [
    {
     "name": "stdout",
     "output_type": "stream",
     "text": [
      "+-----------------------+\n",
      "|count(DISTINCT cate_id)|\n",
      "+-----------------------+\n",
      "|                   6769|\n",
      "+-----------------------+\n",
      "\n"
     ]
    }
   ],
   "source": [
    "(\n",
    "    ad_info_df\n",
    "    .groupby()\n",
    "    .agg(\n",
    "        F.count_distinct('cate_id'))\n",
    "    .show()\n",
    ")"
   ]
  },
  {
   "cell_type": "markdown",
   "id": "f7bca689-b42b-4876-96b3-7eaaa1765dc6",
   "metadata": {},
   "source": [
    "## ad brand count"
   ]
  },
  {
   "cell_type": "code",
   "execution_count": 15,
   "id": "dcd5e5e2-8ed3-4cb6-8520-7d793d206cfd",
   "metadata": {},
   "outputs": [
    {
     "name": "stdout",
     "output_type": "stream",
     "text": [
      "+---------------------+\n",
      "|count(DISTINCT brand)|\n",
      "+---------------------+\n",
      "|                99815|\n",
      "+---------------------+\n",
      "\n"
     ]
    }
   ],
   "source": [
    "(\n",
    "    ad_info_df\n",
    "    .groupby()\n",
    "    .agg(\n",
    "        F.count_distinct('brand'))\n",
    "    .show()\n",
    ")"
   ]
  },
  {
   "cell_type": "markdown",
   "id": "8b11f974-d170-47de-8c3f-c5b25ae59743",
   "metadata": {},
   "source": [
    "## ad max price"
   ]
  },
  {
   "cell_type": "code",
   "execution_count": 16,
   "id": "827cb583-1257-4ab4-9e5b-ef6cc5d5abda",
   "metadata": {},
   "outputs": [
    {
     "data": {
      "text/html": [
       "<div>\n",
       "<style scoped>\n",
       "    .dataframe tbody tr th:only-of-type {\n",
       "        vertical-align: middle;\n",
       "    }\n",
       "\n",
       "    .dataframe tbody tr th {\n",
       "        vertical-align: top;\n",
       "    }\n",
       "\n",
       "    .dataframe thead th {\n",
       "        text-align: right;\n",
       "    }\n",
       "</style>\n",
       "<table border=\"1\" class=\"dataframe\">\n",
       "  <thead>\n",
       "    <tr style=\"text-align: right;\">\n",
       "      <th></th>\n",
       "      <th>max(price)</th>\n",
       "    </tr>\n",
       "  </thead>\n",
       "  <tbody>\n",
       "    <tr>\n",
       "      <th>0</th>\n",
       "      <td>99999999.0</td>\n",
       "    </tr>\n",
       "  </tbody>\n",
       "</table>\n",
       "</div>"
      ],
      "text/plain": [
       "   max(price)\n",
       "0  99999999.0"
      ]
     },
     "execution_count": 16,
     "metadata": {},
     "output_type": "execute_result"
    }
   ],
   "source": [
    "(\n",
    "    ad_info_df\n",
    "    .groupby()\n",
    "    .agg(\n",
    "        F.max('price'))\n",
    "    .toPandas()\n",
    ")"
   ]
  },
  {
   "cell_type": "markdown",
   "id": "a8d054c1-94d8-45c1-920b-f331b6490aca",
   "metadata": {},
   "source": [
    "## ad user clicks"
   ]
  },
  {
   "cell_type": "code",
   "execution_count": 17,
   "id": "23f8e12c-731b-4e47-a976-72ffc9780317",
   "metadata": {
    "scrolled": true
   },
   "outputs": [
    {
     "name": "stderr",
     "output_type": "stream",
     "text": [
      "[Stage 78:===>                                                    (1 + 15) / 16]\r"
     ]
    },
    {
     "name": "stdout",
     "output_type": "stream",
     "text": [
      "+-------+-----------+\n",
      "| userid|user_clicks|\n",
      "+-------+-----------+\n",
      "| 928284|        170|\n",
      "| 569318|        165|\n",
      "|1060021|        152|\n",
      "|1054172|        147|\n",
      "|1058909|        140|\n",
      "| 490430|        131|\n",
      "| 853650|        127|\n",
      "|1005110|        126|\n",
      "| 529160|        121|\n",
      "| 220960|        120|\n",
      "|1096948|        120|\n",
      "|  40010|        117|\n",
      "| 413706|        115|\n",
      "| 401318|        114|\n",
      "| 525363|        113|\n",
      "| 143166|        112|\n",
      "| 432055|        111|\n",
      "| 341347|        110|\n",
      "| 728105|        110|\n",
      "| 373309|        109|\n",
      "+-------+-----------+\n",
      "only showing top 20 rows\n",
      "\n"
     ]
    },
    {
     "name": "stderr",
     "output_type": "stream",
     "text": [
      "                                                                                \r"
     ]
    }
   ],
   "source": [
    "(\n",
    "    ad_click_df\n",
    "    .groupby('userid')\n",
    "    .agg(\n",
    "        F.sum('clk').alias('user_clicks'))\n",
    "    .sort(F.desc('user_clicks'))\n",
    "    .show()\n",
    ")"
   ]
  },
  {
   "cell_type": "code",
   "execution_count": 18,
   "id": "fc442a67-7d5f-414e-b61a-ab2ff40ccbde",
   "metadata": {},
   "outputs": [
    {
     "name": "stderr",
     "output_type": "stream",
     "text": [
      "[Stage 81:===>                                                    (1 + 15) / 16]\r"
     ]
    },
    {
     "name": "stdout",
     "output_type": "stream",
     "text": [
      "+----------------+\n",
      "|max(user_clicks)|\n",
      "+----------------+\n",
      "|             170|\n",
      "+----------------+\n",
      "\n"
     ]
    },
    {
     "name": "stderr",
     "output_type": "stream",
     "text": [
      "                                                                                \r"
     ]
    }
   ],
   "source": [
    "(\n",
    "    ad_click_df\n",
    "    .groupby('userid')\n",
    "    .agg(\n",
    "        F.sum('clk').alias('user_clicks'))\n",
    "    .groupby()\n",
    "    .agg(\n",
    "        F.max('user_clicks'))\n",
    "    .show()\n",
    ")"
   ]
  },
  {
   "cell_type": "markdown",
   "id": "58271118-fbb6-46f6-b086-849f3879b6dd",
   "metadata": {},
   "source": [
    "## ad user avg clicks"
   ]
  },
  {
   "cell_type": "code",
   "execution_count": 19,
   "id": "46baa9a4-efea-49b5-8bb0-7727f5855064",
   "metadata": {
    "scrolled": true
   },
   "outputs": [
    {
     "name": "stderr",
     "output_type": "stream",
     "text": [
      "[Stage 87:=============================================>          (13 + 3) / 16]\r"
     ]
    },
    {
     "name": "stdout",
     "output_type": "stream",
     "text": [
      "+--------------------+\n",
      "|avg(user_avg_clicks)|\n",
      "+--------------------+\n",
      "|  1.1964800753944238|\n",
      "+--------------------+\n",
      "\n"
     ]
    },
    {
     "name": "stderr",
     "output_type": "stream",
     "text": [
      "                                                                                \r"
     ]
    }
   ],
   "source": [
    "(\n",
    "    ad_click_df\n",
    "    .groupby('userid')\n",
    "    .agg(\n",
    "        F.sum('clk').alias('user_avg_clicks'))\n",
    "    .groupby()\n",
    "    .agg(\n",
    "        F.avg('user_avg_clicks'))\n",
    "    .show()\n",
    ")"
   ]
  },
  {
   "cell_type": "markdown",
   "id": "29b72e43-d1b0-4fb7-b1ff-20350ab84f5c",
   "metadata": {},
   "source": [
    "## user age level"
   ]
  },
  {
   "cell_type": "code",
   "execution_count": 20,
   "id": "7d46b29b-451a-439f-a05f-08cef9beba96",
   "metadata": {},
   "outputs": [
    {
     "name": "stdout",
     "output_type": "stream",
     "text": [
      "+---------+\n",
      "|age_level|\n",
      "+---------+\n",
      "|        1|\n",
      "|        6|\n",
      "|        3|\n",
      "|        5|\n",
      "|        4|\n",
      "|        2|\n",
      "|        0|\n",
      "+---------+\n",
      "\n"
     ]
    }
   ],
   "source": [
    "(\n",
    "    user_df\n",
    "    .select('age_level')\n",
    "    .distinct()\n",
    "    .show()\n",
    ")"
   ]
  },
  {
   "cell_type": "markdown",
   "id": "85f28133-f048-4cb4-9902-1b36bc9864f6",
   "metadata": {},
   "source": [
    "## ad clks per day"
   ]
  },
  {
   "cell_type": "code",
   "execution_count": 21,
   "id": "83b0349c-74ce-47d6-96b4-94b88b766677",
   "metadata": {},
   "outputs": [
    {
     "name": "stderr",
     "output_type": "stream",
     "text": [
      "[Stage 96:==============>                                         (4 + 12) / 16]\r"
     ]
    },
    {
     "name": "stdout",
     "output_type": "stream",
     "text": [
      "+----------+-----------+\n",
      "|      date|user_clicks|\n",
      "+----------+-----------+\n",
      "|2017-05-05|      83260|\n",
      "|2017-05-06|     173271|\n",
      "|2017-05-07|     173406|\n",
      "|2017-05-08|     173860|\n",
      "|2017-05-09|     170410|\n",
      "|2017-05-10|     175822|\n",
      "|2017-05-11|     167258|\n",
      "|2017-05-12|     164064|\n",
      "|2017-05-13|      84705|\n",
      "+----------+-----------+\n",
      "\n"
     ]
    },
    {
     "name": "stderr",
     "output_type": "stream",
     "text": [
      "                                                                                \r"
     ]
    }
   ],
   "source": [
    "(\n",
    "    ad_click_df\n",
    "    .withColumn('time', F.from_unixtime(F.col('time_stamp')))\n",
    "    .withColumn('date', F.to_date(F.col('time')))\n",
    "    .groupby('date')\n",
    "    .agg(F.sum('clk').alias('user_clicks'))\n",
    "    .orderBy('date')\n",
    "    .show()\n",
    ")"
   ]
  },
  {
   "cell_type": "markdown",
   "id": "2bdf9299-2f3f-4c98-bfe4-9255f99f14d3",
   "metadata": {},
   "source": [
    "## time gap between ads per userid"
   ]
  },
  {
   "cell_type": "code",
   "execution_count": 22,
   "id": "4b21fc25-a6b0-42e6-8d4c-45ed592df601",
   "metadata": {
    "scrolled": true
   },
   "outputs": [
    {
     "name": "stderr",
     "output_type": "stream",
     "text": [
      "[Stage 109:>                                                        (0 + 1) / 1]\r"
     ]
    },
    {
     "name": "stdout",
     "output_type": "stream",
     "text": [
      "+----------+------+----------+-----------+------+---+---------+------------+-----------------+---------+------------+--------------+----------+---------------------+-------+-----------+--------+------+------+-------------------+----------+\n",
      "|adgroup_id|userid|time_stamp|pid        |nonclk|clk|cms_segid|cms_group_id|final_gender_code|age_level|pvalue_level|shopping_level|occupation|new_user_class_level |cate_id|campaign_id|customer|brand |price |time               |ad_gap_sec|\n",
      "+----------+------+----------+-----------+------+---+---------+------------+-----------------+---------+------------+--------------+----------+---------------------+-------+-----------+--------+------+------+-------------------+----------+\n",
      "|691878    |31    |1494033821|430548_1007|1     |0  |6        |2           |2                |2        |1           |1             |0         |NULL                 |6426   |288940     |34125   |395343|398.0 |2017-05-05 18:23:41|NULL      |\n",
      "|619242    |31    |1494033821|430548_1007|1     |0  |6        |2           |2                |2        |1           |1             |0         |NULL                 |6426   |112525     |61530   |354133|273.0 |2017-05-05 18:23:41|0         |\n",
      "|591961    |31    |1494033821|430548_1007|0     |1  |6        |2           |2                |2        |1           |1             |0         |NULL                 |6426   |195470     |152234  |NULL  |389.0 |2017-05-05 18:23:41|0         |\n",
      "|255912    |53    |1494477129|430539_1007|1     |0  |0        |8           |1                |2        |NULL        |3             |0         |4                    |5989   |132046     |10361   |224985|128.0 |2017-05-10 21:32:09|NULL      |\n",
      "|285656    |53    |1494477129|430539_1007|1     |0  |0        |8           |1                |2        |NULL        |3             |0         |4                    |7228   |129308     |149457  |77137 |599.0 |2017-05-10 21:32:09|0         |\n",
      "|525275    |53    |1494477129|430539_1007|0     |1  |0        |8           |1                |2        |NULL        |3             |0         |4                    |10876  |192724     |156129  |168776|98.0  |2017-05-10 21:32:09|0         |\n",
      "|189881    |53    |1494667734|430539_1007|1     |0  |0        |8           |1                |2        |NULL        |3             |0         |4                    |6963   |204175     |176815  |84559 |3760.0|2017-05-13 02:28:54|190605    |\n",
      "|581869    |53    |1494667734|430539_1007|1     |0  |0        |8           |1                |2        |NULL        |3             |0         |4                    |6428   |82445      |36112   |100802|299.0 |2017-05-13 02:28:54|0         |\n",
      "|694362    |53    |1494667734|430539_1007|1     |0  |0        |8           |1                |2        |NULL        |3             |0         |4                    |6960   |368965     |231780  |109137|368.0 |2017-05-13 02:28:54|0         |\n",
      "|613903    |65    |1494021621|430548_1007|1     |0  |0        |3           |2                |3        |NULL        |2             |0         |NULL                 |6416   |369740     |108793  |NULL  |188.0 |2017-05-05 15:00:21|NULL      |\n",
      "|464616    |65    |1494021621|430548_1007|0     |1  |0        |3           |2                |3        |NULL        |2             |0         |NULL                 |8199   |23885      |92460   |428104|736.0 |2017-05-05 15:00:21|0         |\n",
      "|297402    |65    |1494021621|430548_1007|1     |0  |0        |3           |2                |3        |NULL        |2             |0         |NULL                 |8199   |149447     |69679   |42261 |546.0 |2017-05-05 15:00:21|0         |\n",
      "|22354     |65    |1494044769|430548_1007|1     |0  |0        |3           |2                |3        |NULL        |2             |0         |NULL                 |8199   |404836     |59669   |326435|286.0 |2017-05-05 21:26:09|23148     |\n",
      "|134567    |65    |1494044769|430548_1007|1     |0  |0        |3           |2                |3        |NULL        |2             |0         |NULL                 |9517   |193860     |74009   |346111|99.0  |2017-05-05 21:26:09|0         |\n",
      "|313810    |65    |1494044769|430548_1007|1     |0  |0        |3           |2                |3        |NULL        |2             |0         |NULL                 |8215   |163023     |126843  |82001 |799.0 |2017-05-05 21:26:09|0         |\n",
      "|306199    |65    |1494506735|430548_1007|1     |0  |0        |3           |2                |3        |NULL        |2             |0         |NULL                 |8199   |13096      |92460   |428104|736.0 |2017-05-11 05:45:35|461966    |\n",
      "|696585    |65    |1494506735|430548_1007|1     |0  |0        |3           |2                |3        |NULL        |2             |0         |NULL                 |6183   |401692     |56209   |188080|98.0  |2017-05-11 05:45:35|0         |\n",
      "|541818    |65    |1494506735|430548_1007|1     |0  |0        |3           |2                |3        |NULL        |2             |0         |NULL                 |6183   |107291     |29465   |432592|298.0 |2017-05-11 05:45:35|0         |\n",
      "|484205    |65    |1494596931|430548_1007|1     |0  |0        |3           |2                |3        |NULL        |2             |0         |NULL                 |6183   |345524     |94324   |399534|172.0 |2017-05-12 06:48:51|90196     |\n",
      "|801121    |65    |1494596931|430548_1007|1     |0  |0        |3           |2                |3        |NULL        |2             |0         |NULL                 |6915   |287699     |185225  |NULL  |198.0 |2017-05-12 06:48:51|0         |\n",
      "+----------+------+----------+-----------+------+---+---------+------------+-----------------+---------+------------+--------------+----------+---------------------+-------+-----------+--------+------+------+-------------------+----------+\n",
      "only showing top 20 rows\n",
      "\n"
     ]
    },
    {
     "name": "stderr",
     "output_type": "stream",
     "text": [
      "                                                                                \r"
     ]
    }
   ],
   "source": [
    "merged_df =(\n",
    "    merged_df\n",
    "    .withColumn('time', F.to_timestamp(F.col('time_stamp')))\n",
    ")\n",
    "\n",
    "def window_functions(df):\n",
    "    window = W.partitionBy('userid').orderBy('time')\n",
    "    \n",
    "    window_df = (\n",
    "        df\n",
    "        .withColumn('last_row', F.lag('time').over(window))\n",
    "    )\n",
    "    \n",
    "    return window_df\n",
    "    \n",
    "window_df = window_functions(merged_df)\n",
    "\n",
    "window_df = (\n",
    "    window_df\n",
    "    .withColumn(\n",
    "        'ad_gap_sec',\n",
    "        (F.round\n",
    "        (F.col('time').cast(\"long\") - \n",
    "        F.col('last_row').cast(\"long\")))\n",
    "        .cast('int')\n",
    "    )\n",
    ")\n",
    "window_df.drop('last_row').show(truncate=False)"
   ]
  },
  {
   "cell_type": "markdown",
   "id": "f0407ec9-171a-4d64-b96b-1930a3c750dd",
   "metadata": {},
   "source": [
    "# potential features"
   ]
  },
  {
   "cell_type": "markdown",
   "id": "dcbccff0-1df3-4c3e-b435-e0d2e2c24c54",
   "metadata": {},
   "source": [
    "## most clked brand"
   ]
  },
  {
   "cell_type": "code",
   "execution_count": 23,
   "id": "85ec4167-f519-4af3-be01-56639f114ed8",
   "metadata": {
    "scrolled": true
   },
   "outputs": [
    {
     "name": "stderr",
     "output_type": "stream",
     "text": [
      "[Stage 114:=============================================>      (174 + 16) / 200]\r"
     ]
    },
    {
     "name": "stdout",
     "output_type": "stream",
     "text": [
      "+------+-----------+\n",
      "| brand|user_clicks|\n",
      "+------+-----------+\n",
      "|  NULL|     429375|\n",
      "| 82527|      15007|\n",
      "|146115|      13126|\n",
      "|234846|      12989|\n",
      "|247789|       9270|\n",
      "|353787|       5227|\n",
      "|337365|       4722|\n",
      "|454237|       4233|\n",
      "|143597|       3823|\n",
      "|342760|       3213|\n",
      "| 95766|       2851|\n",
      "|255820|       2798|\n",
      "|293023|       2528|\n",
      "|188059|       2320|\n",
      "|425589|       2151|\n",
      "|235358|       2088|\n",
      "|220468|       2082|\n",
      "|181325|       1890|\n",
      "|144123|       1886|\n",
      "| 98931|       1867|\n",
      "+------+-----------+\n",
      "only showing top 20 rows\n",
      "\n"
     ]
    },
    {
     "name": "stderr",
     "output_type": "stream",
     "text": [
      "                                                                                \r"
     ]
    }
   ],
   "source": [
    "(\n",
    "    merged_df\n",
    "    .groupby('brand')\n",
    "    .agg(F.sum('clk').alias('user_clicks'))\n",
    "    .sort(F.desc('user_clicks'))\n",
    "    .show()\n",
    ")"
   ]
  },
  {
   "cell_type": "markdown",
   "id": "b621a61a-6c9c-48e9-acb0-d51f1c626840",
   "metadata": {},
   "source": [
    "## age group ad clks"
   ]
  },
  {
   "cell_type": "code",
   "execution_count": 24,
   "id": "0aadbe41-e854-460d-ae90-2dcdc7ffa311",
   "metadata": {
    "scrolled": true
   },
   "outputs": [
    {
     "name": "stdout",
     "output_type": "stream",
     "text": [
      "+---------+-----------+\n",
      "|age_level|user_clicks|\n",
      "+---------+-----------+\n",
      "|        3|     386683|\n",
      "|        4|     317358|\n",
      "|        5|     242691|\n",
      "|        2|     236328|\n",
      "|        1|      76211|\n",
      "|        6|      24760|\n",
      "|        0|        482|\n",
      "+---------+-----------+\n",
      "\n"
     ]
    }
   ],
   "source": [
    "(\n",
    "    merged_df\n",
    "    .groupby('age_level')\n",
    "    .agg(F.sum('clk').alias('user_clicks'))\n",
    "    .sort(F.desc('user_clicks'))\n",
    "    .show()\n",
    ")"
   ]
  },
  {
   "cell_type": "markdown",
   "id": "58d1fc1a-a041-44d1-bd42-8c83f151ea51",
   "metadata": {},
   "source": [
    "## age group total of ad shown "
   ]
  },
  {
   "cell_type": "code",
   "execution_count": 25,
   "id": "9e0f4cfa-4950-470e-88b6-25bc117f932b",
   "metadata": {
    "scrolled": true
   },
   "outputs": [
    {
     "name": "stdout",
     "output_type": "stream",
     "text": [
      "+---------+-----------+\n",
      "|age_level|user_clicks|\n",
      "+---------+-----------+\n",
      "|        3|    7573614|\n",
      "|        4|    6406045|\n",
      "|        5|    4652618|\n",
      "|        2|    4567837|\n",
      "|        1|    1379703|\n",
      "|        6|     440429|\n",
      "|        0|       9189|\n",
      "+---------+-----------+\n",
      "\n"
     ]
    }
   ],
   "source": [
    "(\n",
    "    merged_df\n",
    "    .groupby('age_level')\n",
    "    .agg(F.count('clk').alias('user_clicks'))\n",
    "    .sort(F.desc('user_clicks'))\n",
    "    .show()\n",
    ")"
   ]
  },
  {
   "cell_type": "markdown",
   "id": "716745b1-1f56-4aba-ba73-36ce53f084f6",
   "metadata": {},
   "source": [
    "## age group ad clks avg percentage  "
   ]
  },
  {
   "cell_type": "code",
   "execution_count": 26,
   "id": "8f37e91e-30c5-49e1-a197-63fc3b622276",
   "metadata": {},
   "outputs": [
    {
     "name": "stdout",
     "output_type": "stream",
     "text": [
      "+---------+----------------+\n",
      "|age_level|mean_user_clicks|\n",
      "+---------+----------------+\n",
      "|        6|            5.62|\n",
      "|        1|            5.52|\n",
      "|        0|            5.25|\n",
      "|        5|            5.22|\n",
      "|        2|            5.17|\n",
      "|        3|            5.11|\n",
      "|        4|            4.95|\n",
      "+---------+----------------+\n",
      "\n"
     ]
    }
   ],
   "source": [
    "(\n",
    "    merged_df\n",
    "    .groupby('age_level')\n",
    "    .agg((F.round(F.mean('clk')*100, 2)).alias('mean_user_clicks'))\n",
    "    .sort(F.desc('mean_user_clicks'))\n",
    "    .show()\n",
    ")"
   ]
  },
  {
   "cell_type": "markdown",
   "id": "8f68194d-e1f0-4d7f-af74-434a78b8622f",
   "metadata": {},
   "source": [
    "## age_level 1 avg price "
   ]
  },
  {
   "cell_type": "code",
   "execution_count": 27,
   "id": "7d5d6550-cbca-49f8-a2c3-a64e47b2e71a",
   "metadata": {
    "scrolled": true
   },
   "outputs": [
    {
     "name": "stdout",
     "output_type": "stream",
     "text": [
      "+-----------------+\n",
      "|       avg(price)|\n",
      "+-----------------+\n",
      "|452.9304258017841|\n",
      "+-----------------+\n",
      "\n"
     ]
    }
   ],
   "source": [
    "(\n",
    "    merged_df\n",
    "    .filter(F.col('age_level') == 1)\n",
    "    .agg((F.mean('price')))\n",
    "    .show()\n",
    ")"
   ]
  },
  {
   "cell_type": "markdown",
   "id": "998c23b7-2d89-4e2b-9892-7bcc7f9c8c10",
   "metadata": {},
   "source": [
    "## age_level avg price"
   ]
  },
  {
   "cell_type": "code",
   "execution_count": 28,
   "id": "8ba724db-ef9c-4203-8025-50d2f0e5d4f0",
   "metadata": {},
   "outputs": [
    {
     "name": "stdout",
     "output_type": "stream",
     "text": [
      "+---------+------------------+\n",
      "|age_level|        avg(price)|\n",
      "+---------+------------------+\n",
      "|        1| 452.9304258017841|\n",
      "|        2| 456.7676189671449|\n",
      "|        0| 577.4065175753616|\n",
      "|        3| 648.3438410843272|\n",
      "|        4| 796.1136883677926|\n",
      "|        5|1146.5841540160816|\n",
      "|        6|1595.1099037983417|\n",
      "+---------+------------------+\n",
      "\n"
     ]
    }
   ],
   "source": [
    "price_age_df = (\n",
    "    merged_df\n",
    "    .groupby('age_level')\n",
    "    .agg((F.mean('price')))\n",
    "    .orderBy('avg(price)')\n",
    "    .show()\n",
    ")"
   ]
  },
  {
   "cell_type": "code",
   "execution_count": 29,
   "id": "30b1d274-ab65-49af-b3b8-76369fbe853d",
   "metadata": {},
   "outputs": [
    {
     "name": "stdout",
     "output_type": "stream",
     "text": [
      "+---------+------------------+\n",
      "|age_level|        avg(price)|\n",
      "+---------+------------------+\n",
      "|        1| 350.6007624883544|\n",
      "|        0| 630.0704771784233|\n",
      "|        2|  785.717774618327|\n",
      "|        3| 819.5196298777036|\n",
      "|        4| 922.8729005413444|\n",
      "|        6|1171.0726837641357|\n",
      "|        5|1610.9624209385613|\n",
      "+---------+------------------+\n",
      "\n"
     ]
    }
   ],
   "source": [
    "price_age_df = (\n",
    "    merged_df\n",
    "    .filter(F.col('clk') == 1)\n",
    "    .groupby('age_level')\n",
    "    .agg((F.mean('price')))\n",
    "    .orderBy('avg(price)')\n",
    "    .show()\n",
    ")"
   ]
  },
  {
   "cell_type": "markdown",
   "id": "d46c006d-5038-4a0d-a9e0-5cf6c31254a0",
   "metadata": {},
   "source": [
    "## avg price/ age level plot"
   ]
  },
  {
   "cell_type": "code",
   "execution_count": 30,
   "id": "8542870b-30a7-4dc6-8216-24e16c54ad41",
   "metadata": {},
   "outputs": [],
   "source": [
    "price_age_pandas_df = (\n",
    "    merged_df\n",
    "    .groupby('age_level')\n",
    "    .agg((F.mean('price')))\n",
    "    .toPandas()\n",
    ")"
   ]
  },
  {
   "cell_type": "code",
   "execution_count": 31,
   "id": "399e7558-6f84-4531-8a79-4a6966faeb82",
   "metadata": {},
   "outputs": [
    {
     "data": {
      "image/png": "[encoded data removed]",
      "text/plain": [
       "<Figure size 500x300 with 1 Axes>"
      ]
     },
     "metadata": {},
     "output_type": "display_data"
    }
   ],
   "source": [
    "price_age_pandas_df.sort_values('age_level', inplace=True)\n",
    "\n",
    "plt.figure(figsize=(5, 3))\n",
    "plt.bar(price_age_pandas_df['age_level'], price_age_pandas_df['avg(price)'], color='skyblue')\n",
    "plt.xlabel('Age Level')\n",
    "plt.ylabel('Mean Price')\n",
    "plt.title('Mean Price by Age Level')\n",
    "plt.show()"
   ]
  },
  {
   "cell_type": "markdown",
   "id": "203c62cc-4c3e-45a2-b08a-14c6b09cc79b",
   "metadata": {},
   "source": [
    "## new user class level"
   ]
  },
  {
   "cell_type": "code",
   "execution_count": 32,
   "id": "937e3201-ef3b-4c0d-8075-746a089ec9ab",
   "metadata": {},
   "outputs": [
    {
     "name": "stdout",
     "output_type": "stream",
     "text": [
      "+---------------------+-------+\n",
      "|new_user_class_level |  count|\n",
      "+---------------------+-------+\n",
      "|                 NULL|6696303|\n",
      "|                    1|1881278|\n",
      "|                    3|4620080|\n",
      "|                    4|3706349|\n",
      "|                    2|8125425|\n",
      "+---------------------+-------+\n",
      "\n"
     ]
    }
   ],
   "source": [
    "(\n",
    "    merged_df\n",
    "    .groupby('new_user_class_level ')\n",
    "    .count()\n",
    "    .show()\n",
    ")"
   ]
  },
  {
   "cell_type": "markdown",
   "id": "008659b0-a49a-444a-b499-00cdb4bce54b",
   "metadata": {},
   "source": [
    "## females ad clk mean price  "
   ]
  },
  {
   "cell_type": "code",
   "execution_count": 33,
   "id": "b3fcfd41-0958-4b8b-8ce3-af844272f7a4",
   "metadata": {
    "scrolled": true
   },
   "outputs": [
    {
     "name": "stdout",
     "output_type": "stream",
     "text": [
      "+----------------+\n",
      "|      avg(price)|\n",
      "+----------------+\n",
      "|555.540261045253|\n",
      "+----------------+\n",
      "\n"
     ]
    }
   ],
   "source": [
    "(\n",
    "    merged_df\n",
    "    .filter(F.col('final_gender_code') == 2)\n",
    "    .filter(F.col('clk') == 1)\n",
    "    .agg((F.mean('price')))\n",
    "    .show()\n",
    ")"
   ]
  },
  {
   "cell_type": "markdown",
   "id": "ed9d3f08-bf66-4dee-b5d2-489255cbf8e8",
   "metadata": {},
   "source": [
    "## females & male ad clk mean price  "
   ]
  },
  {
   "cell_type": "code",
   "execution_count": 34,
   "id": "7979f4c0-7d0b-4103-bf0d-f50b35e262b6",
   "metadata": {
    "scrolled": true
   },
   "outputs": [
    {
     "name": "stdout",
     "output_type": "stream",
     "text": [
      "+-----------------+------------------+\n",
      "|final_gender_code|        avg(price)|\n",
      "+-----------------+------------------+\n",
      "|                1|2144.9927776775953|\n",
      "|                2|  555.540261045253|\n",
      "+-----------------+------------------+\n",
      "\n"
     ]
    }
   ],
   "source": [
    "(\n",
    "    merged_df\n",
    "    .filter(F.col('clk') == 1)\n",
    "    .groupby('final_gender_code')\n",
    "    .agg((F.mean('price')))\n",
    "    .show()\n",
    ")"
   ]
  },
  {
   "cell_type": "markdown",
   "id": "27f7f045-0503-4ec4-9149-90545df6d234",
   "metadata": {},
   "source": [
    "## ave time gap of ads"
   ]
  },
  {
   "cell_type": "code",
   "execution_count": 35,
   "id": "60498042-f193-4df8-a3ce-8b444c3dcbc1",
   "metadata": {},
   "outputs": [
    {
     "name": "stderr",
     "output_type": "stream",
     "text": [
      "[Stage 241:===================================================>   (16 + 1) / 17]\r"
     ]
    },
    {
     "name": "stdout",
     "output_type": "stream",
     "text": [
      "+------------------+\n",
      "|   avg(ad_gap_sec)|\n",
      "+------------------+\n",
      "|50370.631997075034|\n",
      "+------------------+\n",
      "\n"
     ]
    },
    {
     "name": "stderr",
     "output_type": "stream",
     "text": [
      "                                                                                \r"
     ]
    }
   ],
   "source": [
    "window_filtered_df = (\n",
    "    window_df\n",
    "    .filter((F.col(\"ad_gap_sec\") != 0) & (F.col(\"ad_gap_sec\").isNotNull()))\n",
    "    .groupby()\n",
    "    .agg(F.avg(F.col('ad_gap_sec')))\n",
    ")\n",
    "window_filtered_df.show()"
   ]
  },
  {
   "cell_type": "markdown",
   "id": "026c8888-d1b6-4272-aa7d-5c442c9574bf",
   "metadata": {},
   "source": [
    "## clk rate per user"
   ]
  },
  {
   "cell_type": "code",
   "execution_count": 36,
   "id": "c1363f15-c2d9-4b7f-826f-bb5e1f1a8933",
   "metadata": {},
   "outputs": [
    {
     "name": "stdout",
     "output_type": "stream",
     "text": [
      "25029435\n"
     ]
    },
    {
     "name": "stderr",
     "output_type": "stream",
     "text": [
      "[Stage 272:>                                                        (0 + 1) / 1]\r"
     ]
    },
    {
     "name": "stdout",
     "output_type": "stream",
     "text": [
      "+------+----------+----------+-----------+------+---+---------+------------+-----------------+---------+------------+--------------+----------+---------------------+-------+-----------+--------+------+-----+-------------------+-------------------+----------+--------+\n",
      "|userid|adgroup_id|time_stamp|        pid|nonclk|clk|cms_segid|cms_group_id|final_gender_code|age_level|pvalue_level|shopping_level|occupation|new_user_class_level |cate_id|campaign_id|customer| brand|price|               time|           last_row|ad_gap_sec|clk_rate|\n",
      "+------+----------+----------+-----------+------+---+---------+------------+-----------------+---------+------------+--------------+----------+---------------------+-------+-----------+--------+------+-----+-------------------+-------------------+----------+--------+\n",
      "|    31|    691878|1494033821|430548_1007|     1|  0|        6|           2|                2|        2|           1|             1|         0|                 NULL|   6426|     288940|   34125|395343|398.0|2017-05-05 18:23:41|               NULL|      NULL|   0.333|\n",
      "|    31|    619242|1494033821|430548_1007|     1|  0|        6|           2|                2|        2|           1|             1|         0|                 NULL|   6426|     112525|   61530|354133|273.0|2017-05-05 18:23:41|2017-05-05 18:23:41|         0|   0.333|\n",
      "|    31|    591961|1494033821|430548_1007|     0|  1|        6|           2|                2|        2|           1|             1|         0|                 NULL|   6426|     195470|  152234|  NULL|389.0|2017-05-05 18:23:41|2017-05-05 18:23:41|         0|   0.333|\n",
      "+------+----------+----------+-----------+------+---+---------+------------+-----------------+---------+------------+--------------+----------+---------------------+-------+-----------+--------+------+-----+-------------------+-------------------+----------+--------+\n",
      "only showing top 3 rows\n",
      "\n"
     ]
    },
    {
     "name": "stderr",
     "output_type": "stream",
     "text": [
      "                                                                                \r"
     ]
    }
   ],
   "source": [
    "accept_rate_df = (\n",
    "    merged_df\n",
    "    .groupby('userid')\n",
    "    .agg(F.avg('clk').alias('accept_rate'))\n",
    ")\n",
    "accept_rate_df = (\n",
    "    accept_rate_df\n",
    "    .withColumn('clk_rate', F.round('accept_rate', 3))\n",
    ")\n",
    "accept_rate_df = accept_rate_df.drop('accept_rate')\n",
    "\n",
    "window_df = window_df.join(other = accept_rate_df, on = 'userid', how = 'left')\n",
    "\n",
    "summerize_df(window_df)"
   ]
  },
  {
   "cell_type": "markdown",
   "id": "ad1a16e0-5b24-4478-821d-284d37b82fcf",
   "metadata": {},
   "source": [
    "## confusion matrix on clk rate"
   ]
  },
  {
   "cell_type": "code",
   "execution_count": 37,
   "id": "cb4b9bd2-ce32-4f77-a686-f132829c85ba",
   "metadata": {
    "scrolled": true
   },
   "outputs": [
    {
     "name": "stdout",
     "output_type": "stream",
     "text": [
      "+---+----------+--------+\n",
      "|clk|random_clk|   count|\n",
      "+---+----------+--------+\n",
      "|  0|         0|22795789|\n",
      "|  0|         1|  949133|\n",
      "|  1|         0| 1233103|\n",
      "|  1|         1|   51410|\n",
      "+---+----------+--------+\n",
      "\n"
     ]
    }
   ],
   "source": [
    "(\n",
    "    window_df\n",
    "    .withColumn(\n",
    "        \"random_clk\", \n",
    "        (F.rand() < 0.04).cast(\"int\"))\n",
    "    .groupby('clk', 'random_clk')\n",
    "    .count()\n",
    "    .sort('clk', 'random_clk')\n",
    ").show()"
   ]
  },
  {
   "cell_type": "markdown",
   "id": "0aa65eeb-d32f-49ae-be87-bfb687bfd698",
   "metadata": {},
   "source": [
    "## prediction metrics"
   ]
  },
  {
   "cell_type": "code",
   "execution_count": 38,
   "id": "83830e50-f3e6-402e-9e25-b045447b944e",
   "metadata": {},
   "outputs": [
    {
     "name": "stdout",
     "output_type": "stream",
     "text": [
      "accuracy 0.9127968729617748\n"
     ]
    }
   ],
   "source": [
    "print('accuracy', (22795289 + 51501) / (22795289 + 949633 + 1233012 + 51501))"
   ]
  },
  {
   "cell_type": "code",
   "execution_count": 39,
   "id": "e35b8a28-5156-401d-b252-22bb315c0b13",
   "metadata": {},
   "outputs": [
    {
     "name": "stdout",
     "output_type": "stream",
     "text": [
      "percision 0.05144266401900245\n"
     ]
    }
   ],
   "source": [
    "print('percision', (51501) / (949633 + 51501))"
   ]
  },
  {
   "cell_type": "code",
   "execution_count": 40,
   "id": "31054458-92ad-4138-b3ab-86417dbd16da",
   "metadata": {},
   "outputs": [
    {
     "name": "stdout",
     "output_type": "stream",
     "text": [
      "recall 0.04009379430180932\n"
     ]
    }
   ],
   "source": [
    "print('recall', (51501) / (1233012 + 51501))"
   ]
  },
  {
   "cell_type": "markdown",
   "id": "2af4e13c-38d6-4d41-bec1-b01a82f95e54",
   "metadata": {},
   "source": [
    "## clk rate in a day divided in three "
   ]
  },
  {
   "cell_type": "code",
   "execution_count": 41,
   "id": "401fb49e-bf8b-47ec-91c8-171437f51431",
   "metadata": {
    "scrolled": true
   },
   "outputs": [
    {
     "name": "stderr",
     "output_type": "stream",
     "text": [
      "[Stage 296:>                                                        (0 + 1) / 1]\r"
     ]
    },
    {
     "name": "stdout",
     "output_type": "stream",
     "text": [
      "+------+----------+----------+-----------+------+---+---------+------------+-----------------+---------+------------+--------------+----------+---------------------+-------+-----------+--------+------+------+-------------------+-------------------+----------+--------+----+---------+\n",
      "|userid|adgroup_id|time_stamp|        pid|nonclk|clk|cms_segid|cms_group_id|final_gender_code|age_level|pvalue_level|shopping_level|occupation|new_user_class_level |cate_id|campaign_id|customer| brand| price|               time|           last_row|ad_gap_sec|clk_rate|hour|timestamp|\n",
      "+------+----------+----------+-----------+------+---+---------+------------+-----------------+---------+------------+--------------+----------+---------------------+-------+-----------+--------+------+------+-------------------+-------------------+----------+--------+----+---------+\n",
      "|    31|    691878|1494033821|430548_1007|     1|  0|        6|           2|                2|        2|           1|             1|         0|                 NULL|   6426|     288940|   34125|395343| 398.0|2017-05-05 18:23:41|               NULL|      NULL|   0.333|  18|    night|\n",
      "|    31|    619242|1494033821|430548_1007|     1|  0|        6|           2|                2|        2|           1|             1|         0|                 NULL|   6426|     112525|   61530|354133| 273.0|2017-05-05 18:23:41|2017-05-05 18:23:41|         0|   0.333|  18|    night|\n",
      "|    31|    591961|1494033821|430548_1007|     0|  1|        6|           2|                2|        2|           1|             1|         0|                 NULL|   6426|     195470|  152234|  NULL| 389.0|2017-05-05 18:23:41|2017-05-05 18:23:41|         0|   0.333|  18|    night|\n",
      "|    53|    255912|1494477129|430539_1007|     1|  0|        0|           8|                1|        2|        NULL|             3|         0|                    4|   5989|     132046|   10361|224985| 128.0|2017-05-10 21:32:09|               NULL|      NULL|   0.167|  21|    night|\n",
      "|    53|    285656|1494477129|430539_1007|     1|  0|        0|           8|                1|        2|        NULL|             3|         0|                    4|   7228|     129308|  149457| 77137| 599.0|2017-05-10 21:32:09|2017-05-10 21:32:09|         0|   0.167|  21|    night|\n",
      "|    53|    525275|1494477129|430539_1007|     0|  1|        0|           8|                1|        2|        NULL|             3|         0|                    4|  10876|     192724|  156129|168776|  98.0|2017-05-10 21:32:09|2017-05-10 21:32:09|         0|   0.167|  21|    night|\n",
      "|    53|    189881|1494667734|430539_1007|     1|  0|        0|           8|                1|        2|        NULL|             3|         0|                    4|   6963|     204175|  176815| 84559|3760.0|2017-05-13 02:28:54|2017-05-10 21:32:09|    190605|   0.167|   2|  morning|\n",
      "|    53|    581869|1494667734|430539_1007|     1|  0|        0|           8|                1|        2|        NULL|             3|         0|                    4|   6428|      82445|   36112|100802| 299.0|2017-05-13 02:28:54|2017-05-13 02:28:54|         0|   0.167|   2|  morning|\n",
      "|    53|    694362|1494667734|430539_1007|     1|  0|        0|           8|                1|        2|        NULL|             3|         0|                    4|   6960|     368965|  231780|109137| 368.0|2017-05-13 02:28:54|2017-05-13 02:28:54|         0|   0.167|   2|  morning|\n",
      "|    65|    613903|1494021621|430548_1007|     1|  0|        0|           3|                2|        3|        NULL|             2|         0|                 NULL|   6416|     369740|  108793|  NULL| 188.0|2017-05-05 15:00:21|               NULL|      NULL|   0.067|  15|    night|\n",
      "|    65|    464616|1494021621|430548_1007|     0|  1|        0|           3|                2|        3|        NULL|             2|         0|                 NULL|   8199|      23885|   92460|428104| 736.0|2017-05-05 15:00:21|2017-05-05 15:00:21|         0|   0.067|  15|    night|\n",
      "|    65|    297402|1494021621|430548_1007|     1|  0|        0|           3|                2|        3|        NULL|             2|         0|                 NULL|   8199|     149447|   69679| 42261| 546.0|2017-05-05 15:00:21|2017-05-05 15:00:21|         0|   0.067|  15|    night|\n",
      "|    65|     22354|1494044769|430548_1007|     1|  0|        0|           3|                2|        3|        NULL|             2|         0|                 NULL|   8199|     404836|   59669|326435| 286.0|2017-05-05 21:26:09|2017-05-05 15:00:21|     23148|   0.067|  21|    night|\n",
      "|    65|    134567|1494044769|430548_1007|     1|  0|        0|           3|                2|        3|        NULL|             2|         0|                 NULL|   9517|     193860|   74009|346111|  99.0|2017-05-05 21:26:09|2017-05-05 21:26:09|         0|   0.067|  21|    night|\n",
      "|    65|    313810|1494044769|430548_1007|     1|  0|        0|           3|                2|        3|        NULL|             2|         0|                 NULL|   8215|     163023|  126843| 82001| 799.0|2017-05-05 21:26:09|2017-05-05 21:26:09|         0|   0.067|  21|    night|\n",
      "|    65|    306199|1494506735|430548_1007|     1|  0|        0|           3|                2|        3|        NULL|             2|         0|                 NULL|   8199|      13096|   92460|428104| 736.0|2017-05-11 05:45:35|2017-05-05 21:26:09|    461966|   0.067|   5|  morning|\n",
      "|    65|    696585|1494506735|430548_1007|     1|  0|        0|           3|                2|        3|        NULL|             2|         0|                 NULL|   6183|     401692|   56209|188080|  98.0|2017-05-11 05:45:35|2017-05-11 05:45:35|         0|   0.067|   5|  morning|\n",
      "|    65|    541818|1494506735|430548_1007|     1|  0|        0|           3|                2|        3|        NULL|             2|         0|                 NULL|   6183|     107291|   29465|432592| 298.0|2017-05-11 05:45:35|2017-05-11 05:45:35|         0|   0.067|   5|  morning|\n",
      "|    65|    484205|1494596931|430548_1007|     1|  0|        0|           3|                2|        3|        NULL|             2|         0|                 NULL|   6183|     345524|   94324|399534| 172.0|2017-05-12 06:48:51|2017-05-11 05:45:35|     90196|   0.067|   6|  morning|\n",
      "|    65|    801121|1494596931|430548_1007|     1|  0|        0|           3|                2|        3|        NULL|             2|         0|                 NULL|   6915|     287699|  185225|  NULL| 198.0|2017-05-12 06:48:51|2017-05-12 06:48:51|         0|   0.067|   6|  morning|\n",
      "+------+----------+----------+-----------+------+---+---------+------------+-----------------+---------+------------+--------------+----------+---------------------+-------+-----------+--------+------+------+-------------------+-------------------+----------+--------+----+---------+\n",
      "only showing top 20 rows\n",
      "\n"
     ]
    },
    {
     "name": "stderr",
     "output_type": "stream",
     "text": [
      "                                                                                \r"
     ]
    }
   ],
   "source": [
    "morning_start = 0\n",
    "midday_start = 8\n",
    "night_start = 16\n",
    "\n",
    "window_df = (\n",
    "    window_df\n",
    "    .withColumn(\"hour\", F.hour(\"time\"))\n",
    ")\n",
    "\n",
    "window_df = (\n",
    "    window_df\n",
    "    .withColumn(\"timestamp\",\n",
    "    F.when((F.col(\"hour\") >= morning_start) & (F.col(\"hour\") < midday_start), \"morning\")\n",
    "    .when((F.col(\"hour\") >= morning_start) & (F.col(\"hour\") < midday_start), \"morning\")\n",
    "    .otherwise(\"night\"))\n",
    ")\n",
    "\n",
    "window_df.show()"
   ]
  },
  {
   "cell_type": "code",
   "execution_count": 42,
   "id": "e49e2bf2-23c8-468f-877e-16022d27dffa",
   "metadata": {
    "scrolled": true
   },
   "outputs": [
    {
     "name": "stderr",
     "output_type": "stream",
     "text": [
      "                                                                                \r"
     ]
    },
    {
     "name": "stdout",
     "output_type": "stream",
     "text": [
      "2\n",
      "+---------+-----------+\n",
      "|timestamp|average_clk|\n",
      "+---------+-----------+\n",
      "|    night|      0.051|\n",
      "|  morning|     0.0517|\n",
      "+---------+-----------+\n",
      "\n"
     ]
    },
    {
     "name": "stderr",
     "output_type": "stream",
     "text": [
      "                                                                                \r"
     ]
    }
   ],
   "source": [
    "timestamp_clk_df = (\n",
    "    window_df\n",
    "    .groupby('timestamp')\n",
    "    .agg(F.round(F.avg('clk'), 4).alias('average_clk'))\n",
    ")\n",
    "summerize_df(timestamp_clk_df)"
   ]
  },
  {
   "cell_type": "markdown",
   "id": "6ae478c8-79ca-4d9d-a0df-7c36d08d67c0",
   "metadata": {},
   "source": [
    "## hourly clk rate "
   ]
  },
  {
   "cell_type": "code",
   "execution_count": 43,
   "id": "027eb7c6-b13e-4bc2-a04e-f9de0cccf6cc",
   "metadata": {
    "scrolled": true
   },
   "outputs": [
    {
     "name": "stdout",
     "output_type": "stream",
     "text": [
      "+----+-----------+----------+\n",
      "|hour|average_clk|count(clk)|\n",
      "+----+-----------+----------+\n",
      "|  16|     0.0476|    827870|\n",
      "|  15|     0.0486|    599629|\n",
      "|  14|     0.0492|    254014|\n",
      "|  11|     0.0502|    200816|\n",
      "|  12|     0.0505|    134040|\n",
      "|  20|     0.0506|   1319123|\n",
      "|  17|     0.0507|    989967|\n",
      "|   2|     0.0507|   1237498|\n",
      "|  10|     0.0511|    370928|\n",
      "|  21|     0.0511|   1413474|\n",
      "|   3|     0.0512|   1135449|\n",
      "|  13|     0.0514|    126106|\n",
      "|   7|     0.0514|   1819242|\n",
      "|   1|     0.0515|   1333687|\n",
      "|   8|     0.0515|   1326694|\n",
      "|  22|     0.0516|   1447098|\n",
      "|   9|     0.0516|    753054|\n",
      "|  19|     0.0517|   1358179|\n",
      "|   4|     0.0519|   1226722|\n",
      "|   0|     0.0519|   1364552|\n",
      "+----+-----------+----------+\n",
      "only showing top 20 rows\n",
      "\n"
     ]
    },
    {
     "name": "stderr",
     "output_type": "stream",
     "text": [
      "                                                                                \r"
     ]
    }
   ],
   "source": [
    "hour_clk_df = (\n",
    "    window_df\n",
    "    .groupby('hour')\n",
    "    .agg(F.round(F.avg('clk'), 4).alias('average_clk'), F.count('clk'))\n",
    ")\n",
    "hour_clk_df.sort('average_clk').show()"
   ]
  },
  {
   "cell_type": "markdown",
   "id": "4a4ba5e5-e37e-4541-bca4-5984a7d35b82",
   "metadata": {},
   "source": [
    "## time clk count"
   ]
  },
  {
   "cell_type": "code",
   "execution_count": 44,
   "id": "3c490406-dea9-4a86-9214-2d135791daed",
   "metadata": {
    "scrolled": true
   },
   "outputs": [
    {
     "name": "stdout",
     "output_type": "stream",
     "text": [
      "2\n",
      "+---------+---------+\n",
      "|timestamp|count_clk|\n",
      "+---------+---------+\n",
      "|    night| 13673732|\n",
      "|  morning| 11355703|\n",
      "+---------+---------+\n",
      "\n"
     ]
    },
    {
     "name": "stderr",
     "output_type": "stream",
     "text": [
      "                                                                                \r"
     ]
    }
   ],
   "source": [
    "timestamp_clk_count_df = (\n",
    "    window_df\n",
    "    .groupby('timestamp')\n",
    "    .agg(F.count('clk').alias('count_clk'))\n",
    ")\n",
    "summerize_df(timestamp_clk_count_df)"
   ]
  },
  {
   "cell_type": "markdown",
   "id": "c814ecdf-0964-4251-8cd0-39aa3da73d0f",
   "metadata": {},
   "source": [
    "## ad category clk rate "
   ]
  },
  {
   "cell_type": "code",
   "execution_count": 45,
   "id": "10746b04-eecb-43be-b90b-4f11b740318b",
   "metadata": {
    "scrolled": true
   },
   "outputs": [
    {
     "name": "stderr",
     "output_type": "stream",
     "text": [
      "[Stage 370:=====================================>              (146 + 16) / 200]\r"
     ]
    },
    {
     "name": "stdout",
     "output_type": "stream",
     "text": [
      "+-------+-----------+----------+\n",
      "|cate_id|average_clk|count(clk)|\n",
      "+-------+-----------+----------+\n",
      "|   6261|     0.0616|   2755836|\n",
      "|   1665|     0.0562|   1457812|\n",
      "|   4520|     0.0471|   1039271|\n",
      "|   4281|     0.0566|    915516|\n",
      "|   4282|     0.0537|    909395|\n",
      "|   6426|     0.0494|    738942|\n",
      "|   4284|     0.0566|    529330|\n",
      "|   4280|     0.0551|    506910|\n",
      "|   4283|     0.0525|    451866|\n",
      "|   6423|     0.0487|    430280|\n",
      "|   4505|     0.0347|    421205|\n",
      "|   4292|     0.0547|    359581|\n",
      "|   6183|     0.0411|    339967|\n",
      "|   4385|     0.0359|    310340|\n",
      "|   6421|     0.0489|    274329|\n",
      "|   4521|     0.0573|    268598|\n",
      "|    856|     0.0509|    268503|\n",
      "|    562|     0.0575|    249305|\n",
      "|   6300|     0.0557|    245083|\n",
      "|   4288|     0.0481|    209322|\n",
      "+-------+-----------+----------+\n",
      "only showing top 20 rows\n",
      "\n"
     ]
    },
    {
     "name": "stderr",
     "output_type": "stream",
     "text": [
      "                                                                                \r"
     ]
    }
   ],
   "source": [
    "cate_clk_df = (\n",
    "    merged_df\n",
    "    .groupBy('cate_id')\n",
    "    .agg(F.round(F.avg('clk'), 4).alias('average_clk'), F.count('clk'))\n",
    "    .orderBy(F.desc('count(clk)'))\n",
    ")\n",
    "cate_clk_df.show()"
   ]
  },
  {
   "cell_type": "markdown",
   "id": "c02e3ba8-bbe2-4096-b002-430c27739fdc",
   "metadata": {},
   "source": [
    "## brand clk rate"
   ]
  },
  {
   "cell_type": "code",
   "execution_count": 46,
   "id": "6996d68c-7c0c-4eca-9017-f2b2dd050a50",
   "metadata": {
    "scrolled": true
   },
   "outputs": [
    {
     "name": "stderr",
     "output_type": "stream",
     "text": [
      "[Stage 381:================================================>   (186 + 14) / 200]\r"
     ]
    },
    {
     "name": "stdout",
     "output_type": "stream",
     "text": [
      "+------+-----------+----------+\n",
      "| brand|average_clk|count(clk)|\n",
      "+------+-----------+----------+\n",
      "|  NULL|      0.055|   7802592|\n",
      "|234846|     0.0599|    216874|\n",
      "| 82527|     0.0711|    210968|\n",
      "|146115|      0.069|    190308|\n",
      "|247789|     0.0501|    184926|\n",
      "|353787|     0.0447|    117013|\n",
      "|454237|     0.0551|     76781|\n",
      "| 98931|     0.0259|     72215|\n",
      "|143597|      0.053|     72114|\n",
      "|342760|     0.0473|     67877|\n",
      "| 95766|     0.0517|     55132|\n",
      "|337365|     0.0867|     54472|\n",
      "|293023|      0.049|     51565|\n",
      "|188059|     0.0462|     50180|\n",
      "|255820|     0.0613|     45626|\n",
      "|220468|     0.0468|     44534|\n",
      "|260362|     0.0412|     42139|\n",
      "|425589|     0.0539|     39927|\n",
      "|235358|     0.0562|     37132|\n",
      "|269352|     0.0459|     37017|\n",
      "+------+-----------+----------+\n",
      "only showing top 20 rows\n",
      "\n"
     ]
    },
    {
     "name": "stderr",
     "output_type": "stream",
     "text": [
      "                                                                                \r"
     ]
    }
   ],
   "source": [
    "brand_clk_df = (\n",
    "    merged_df\n",
    "    .groupBy('brand')\n",
    "    .agg(F.round(F.avg('clk'), 4).alias('average_clk'), F.count('clk'))\n",
    "    .sort(F.desc('count(clk)'))\n",
    ")\n",
    "brand_clk_df.show()"
   ]
  },
  {
   "cell_type": "markdown",
   "id": "fb3aa215-8cf5-4ecb-8456-3bc823010e3a",
   "metadata": {},
   "source": [
    "## gender clk rate"
   ]
  },
  {
   "cell_type": "code",
   "execution_count": 47,
   "id": "d6518cfc-5b11-4897-a9ba-8b0df24ed063",
   "metadata": {},
   "outputs": [
    {
     "name": "stdout",
     "output_type": "stream",
     "text": [
      "2\n",
      "+-----------------+-----------+\n",
      "|final_gender_code|average_clk|\n",
      "+-----------------+-----------+\n",
      "|                1|     0.0484|\n",
      "|                2|     0.0524|\n",
      "+-----------------+-----------+\n",
      "\n"
     ]
    }
   ],
   "source": [
    "gender_clk_df = (\n",
    "    merged_df\n",
    "    .groupBy('final_gender_code')\n",
    "    .agg(F.round(F.avg('clk'), 4).alias('average_clk'))\n",
    ")\n",
    "summerize_df(gender_clk_df)"
   ]
  },
  {
   "cell_type": "markdown",
   "id": "d845b82f-7519-44e6-8f42-1ed70e5aa4c2",
   "metadata": {},
   "source": [
    "## occupation clk rate"
   ]
  },
  {
   "cell_type": "code",
   "execution_count": 48,
   "id": "6720b555-03c9-445c-a90e-f345695b0035",
   "metadata": {},
   "outputs": [
    {
     "name": "stdout",
     "output_type": "stream",
     "text": [
      "2\n",
      "+----------+-----------+\n",
      "|occupation|average_clk|\n",
      "+----------+-----------+\n",
      "|         1|     0.0515|\n",
      "|         0|     0.0513|\n",
      "+----------+-----------+\n",
      "\n"
     ]
    }
   ],
   "source": [
    "occupation_clk_df = (\n",
    "    merged_df\n",
    "    .groupBy('occupation')\n",
    "    .agg(F.round(F.avg('clk'), 4).alias('average_clk'))\n",
    ")\n",
    "summerize_df(occupation_clk_df)"
   ]
  },
  {
   "cell_type": "markdown",
   "id": "0ddd8f84-01a8-420e-ad89-762e6097de7d",
   "metadata": {},
   "source": [
    "## consumption level clk rate"
   ]
  },
  {
   "cell_type": "code",
   "execution_count": 49,
   "id": "be3513f7-843a-4e1d-afcc-beece4c1dc0c",
   "metadata": {},
   "outputs": [
    {
     "name": "stdout",
     "output_type": "stream",
     "text": [
      "4\n",
      "+------------+-----------+----------+\n",
      "|pvalue_level|average_clk|count(clk)|\n",
      "+------------+-----------+----------+\n",
      "|        NULL|    0.05154|  13024272|\n",
      "|           2|    0.05137|   6991303|\n",
      "|           1|    0.05146|   4117894|\n",
      "+------------+-----------+----------+\n",
      "only showing top 3 rows\n",
      "\n"
     ]
    }
   ],
   "source": [
    "consumption_clk_df = (\n",
    "    merged_df\n",
    "    .groupBy('pvalue_level')\n",
    "    .agg(F.round(F.avg('clk'), 5).alias('average_clk'), F.count('clk'))\n",
    "    .sort(F.desc('count(clk)'))\n",
    ")\n",
    "summerize_df(consumption_clk_df)"
   ]
  },
  {
   "cell_type": "markdown",
   "id": "ce7e5421-1540-4701-bebc-34aa133ba42b",
   "metadata": {},
   "source": [
    "## shopping level clk rate"
   ]
  },
  {
   "cell_type": "code",
   "execution_count": 50,
   "id": "73c5dfd9-3895-4cf1-bed5-ec22cbd47d92",
   "metadata": {},
   "outputs": [
    {
     "name": "stdout",
     "output_type": "stream",
     "text": [
      "3\n",
      "+--------------+-----------+----------+\n",
      "|shopping_level|average_clk|count(clk)|\n",
      "+--------------+-----------+----------+\n",
      "|             3|     0.0511|  21316498|\n",
      "|             2|     0.0517|   2594215|\n",
      "|             1|      0.054|   1118722|\n",
      "+--------------+-----------+----------+\n",
      "\n"
     ]
    }
   ],
   "source": [
    "shopping_level_clk_df = (\n",
    "    merged_df\n",
    "    .groupBy('shopping_level')\n",
    "    .agg(F.round(F.avg('clk'), 4).alias('average_clk'), F.count('clk'))\n",
    "    .sort(F.desc('count(clk)'))\n",
    ")\n",
    "summerize_df(shopping_level_clk_df)"
   ]
  },
  {
   "cell_type": "markdown",
   "id": "783d59e1-9cf0-4394-9799-d00f690ec627",
   "metadata": {},
   "source": [
    "## age level 3: ad category clk rate "
   ]
  },
  {
   "cell_type": "code",
   "execution_count": 51,
   "id": "06d8a368-806d-452b-93a1-f40a6a090dd5",
   "metadata": {
    "scrolled": true
   },
   "outputs": [
    {
     "name": "stderr",
     "output_type": "stream",
     "text": [
      "[Stage 508:==========================================>         (162 + 16) / 200]\r"
     ]
    },
    {
     "name": "stdout",
     "output_type": "stream",
     "text": [
      "+-------+-----------+----------+\n",
      "|cate_id|average_clk|count(clk)|\n",
      "+-------+-----------+----------+\n",
      "|   6261|     0.0613|    842284|\n",
      "|   1665|     0.0552|    468098|\n",
      "|   4520|     0.0459|    297745|\n",
      "|   4281|     0.0574|    286024|\n",
      "|   4282|     0.0542|    285169|\n",
      "|   6426|     0.0501|    244802|\n",
      "|   4284|     0.0563|    165075|\n",
      "|   6423|     0.0484|    134266|\n",
      "|   4283|     0.0525|    133089|\n",
      "|   4280|     0.0555|    131981|\n",
      "|   6183|     0.0428|    127492|\n",
      "|   4292|     0.0562|    111421|\n",
      "|   4505|     0.0319|    101543|\n",
      "|    856|     0.0512|     94830|\n",
      "|   6421|      0.049|     87266|\n",
      "|   6519|     0.0526|     84318|\n",
      "|   4385|     0.0372|     83068|\n",
      "|   4521|     0.0573|     79144|\n",
      "|   6736|     0.0555|     68585|\n",
      "|   6427|     0.0469|     66284|\n",
      "+-------+-----------+----------+\n",
      "only showing top 20 rows\n",
      "\n"
     ]
    },
    {
     "name": "stderr",
     "output_type": "stream",
     "text": [
      "                                                                                \r"
     ]
    }
   ],
   "source": [
    "age3_cate_clk_df = (\n",
    "    merged_df\n",
    "    .filter(F.col('age_level') == 3)\n",
    "    .groupBy('cate_id')\n",
    "    .agg(F.round(F.avg('clk'), 4).alias('average_clk'), F.count('clk'))\n",
    "    .sort(F.desc('count(clk)'))\n",
    ")\n",
    "age3_cate_clk_df.show()"
   ]
  },
  {
   "cell_type": "markdown",
   "id": "5fd8e4c9-465d-40e6-9197-60e445a4ac3f",
   "metadata": {},
   "source": [
    "## age level 3: ad hour clk rate "
   ]
  },
  {
   "cell_type": "code",
   "execution_count": 52,
   "id": "781c9a94-f79d-42f9-ad3a-83ff83d50ae3",
   "metadata": {
    "scrolled": true
   },
   "outputs": [
    {
     "name": "stdout",
     "output_type": "stream",
     "text": [
      "+----+-----------+\n",
      "|hour|average_clk|\n",
      "+----+-----------+\n",
      "|  23|     0.0527|\n",
      "|   5|     0.0523|\n",
      "|   6|     0.0521|\n",
      "|  13|     0.0519|\n",
      "|   9|     0.0518|\n",
      "|   4|     0.0518|\n",
      "|   0|     0.0516|\n",
      "|  18|     0.0516|\n",
      "|   8|     0.0515|\n",
      "|  22|     0.0514|\n",
      "|  19|     0.0513|\n",
      "|  21|      0.051|\n",
      "|   7|     0.0508|\n",
      "|   1|     0.0507|\n",
      "|  10|     0.0507|\n",
      "|  17|     0.0504|\n",
      "|   3|     0.0503|\n",
      "|  20|     0.0503|\n",
      "|  11|     0.0503|\n",
      "|   2|     0.0502|\n",
      "+----+-----------+\n",
      "only showing top 20 rows\n",
      "\n"
     ]
    }
   ],
   "source": [
    "age3_hour_clk_df = (\n",
    "    window_df\n",
    "    .filter(F.col('age_level') == 3)\n",
    "    .groupBy('hour')\n",
    "    .agg(F.round(F.avg('clk'), 4).alias('average_clk'))\n",
    "    .orderBy(F.desc('average_clk'))\n",
    ")\n",
    "age3_hour_clk_df.show()"
   ]
  },
  {
   "cell_type": "markdown",
   "id": "86a40cd9-6ca1-4916-9dd2-dd6b6a9329b0",
   "metadata": {},
   "source": [
    "## age level 3: ad shown time & clk rate "
   ]
  },
  {
   "cell_type": "code",
   "execution_count": 53,
   "id": "c7af03b3-df9a-4ed1-b4e2-ba0f9889d440",
   "metadata": {},
   "outputs": [
    {
     "name": "stdout",
     "output_type": "stream",
     "text": [
      "+---------+---------+\n",
      "|timestamp|count_clk|\n",
      "+---------+---------+\n",
      "|    night|  4137219|\n",
      "|  morning|  3436395|\n",
      "+---------+---------+\n",
      "\n"
     ]
    },
    {
     "name": "stderr",
     "output_type": "stream",
     "text": [
      "                                                                                \r"
     ]
    }
   ],
   "source": [
    "age3_time_clk_count_df = (\n",
    "    window_df\n",
    "    .filter(F.col('age_level') == 3)\n",
    "    .groupby('timestamp')\n",
    "    .agg(F.count('clk').alias('count_clk'))\n",
    ")\n",
    "age3_time_clk_count_df.show()"
   ]
  },
  {
   "cell_type": "markdown",
   "id": "99656ae0-808d-4435-b1a1-17b687072dc5",
   "metadata": {},
   "source": [
    "## age level 3: sum of ad shown time & clk rate "
   ]
  },
  {
   "cell_type": "code",
   "execution_count": 54,
   "id": "02aa748b-31b1-4df8-be38-d39bac550865",
   "metadata": {},
   "outputs": [
    {
     "name": "stdout",
     "output_type": "stream",
     "text": [
      "+---------+---------+\n",
      "|timestamp|count_clk|\n",
      "+---------+---------+\n",
      "|    night|   210482|\n",
      "|  morning|   176201|\n",
      "+---------+---------+\n",
      "\n"
     ]
    }
   ],
   "source": [
    "age3_time_clk_sum_df = (\n",
    "    window_df\n",
    "    .filter(F.col('age_level') == 3)\n",
    "    .groupby('timestamp')\n",
    "    .agg(F.sum('clk').alias('count_clk'))\n",
    ")\n",
    "age3_time_clk_sum_df.show()"
   ]
  },
  {
   "cell_type": "markdown",
   "id": "3ff2ed15-695f-4c60-aede-6f78a6acbb9c",
   "metadata": {},
   "source": [
    "## adgroup count"
   ]
  },
  {
   "cell_type": "code",
   "execution_count": 55,
   "id": "44c4cee8-7ace-42fc-9567-858e904c0b92",
   "metadata": {
    "scrolled": true
   },
   "outputs": [
    {
     "name": "stdout",
     "output_type": "stream",
     "text": [
      "+----------+-----+\n",
      "|adgroup_id|count|\n",
      "+----------+-----+\n",
      "|    710164|68059|\n",
      "|    725105|24972|\n",
      "|    736349|24366|\n",
      "|    747157|23740|\n",
      "|    836889|22560|\n",
      "|    659289|21800|\n",
      "|    632644|20507|\n",
      "|    659211|16623|\n",
      "|    632432|16030|\n",
      "|    711852|15098|\n",
      "|    690381|14936|\n",
      "|    819177|14817|\n",
      "|    759279|14739|\n",
      "|    656398|14535|\n",
      "|    684724|14395|\n",
      "|    715171|14174|\n",
      "|    627130|14082|\n",
      "|    512438|13093|\n",
      "|    608584|13086|\n",
      "|    671481|12801|\n",
      "+----------+-----+\n",
      "only showing top 20 rows\n",
      "\n"
     ]
    }
   ],
   "source": [
    "window_df.groupby('adgroup_id').count().sort(F.desc('count')).show()"
   ]
  },
  {
   "cell_type": "markdown",
   "id": "cc3d2bcc-730d-4b46-bd79-6d8326d2ff82",
   "metadata": {},
   "source": [
    "## campaign id count"
   ]
  },
  {
   "cell_type": "code",
   "execution_count": 56,
   "id": "d731d9ca-0f65-4337-b6a5-b32692684938",
   "metadata": {
    "scrolled": true
   },
   "outputs": [
    {
     "name": "stderr",
     "output_type": "stream",
     "text": [
      "[Stage 557:===========================================>        (169 + 16) / 200]\r"
     ]
    },
    {
     "name": "stdout",
     "output_type": "stream",
     "text": [
      "+-----------+------+\n",
      "|campaign_id| count|\n",
      "+-----------+------+\n",
      "|     359520|124128|\n",
      "|     405490|105391|\n",
      "|     118601| 73770|\n",
      "|     360936| 60103|\n",
      "|      98970| 45797|\n",
      "|     105960| 40639|\n",
      "|     404347| 37691|\n",
      "|      82320| 37010|\n",
      "|     414149| 34415|\n",
      "|     282035| 33747|\n",
      "|     396664| 31974|\n",
      "|     353477| 30461|\n",
      "|     136030| 29024|\n",
      "|     352747| 27860|\n",
      "|     397994| 27629|\n",
      "|     162326| 27542|\n",
      "|     129474| 27316|\n",
      "|     225336| 26464|\n",
      "|     408804| 25519|\n",
      "|     125699| 23593|\n",
      "+-----------+------+\n",
      "only showing top 20 rows\n",
      "\n"
     ]
    },
    {
     "name": "stderr",
     "output_type": "stream",
     "text": [
      "                                                                                \r"
     ]
    }
   ],
   "source": [
    "window_df.groupby('campaign_id').count().sort(F.desc('count')).show()"
   ]
  },
  {
   "cell_type": "markdown",
   "id": "9bb68661-37f3-4400-9ef5-72eee7413808",
   "metadata": {},
   "source": [
    "# model features"
   ]
  },
  {
   "cell_type": "markdown",
   "id": "ba8b64a1-83d3-4eef-8f55-e7b8257f3007",
   "metadata": {},
   "source": [
    "## ad counts and sum per userid"
   ]
  },
  {
   "cell_type": "code",
   "execution_count": 68,
   "id": "0999edc2-bfea-4cb3-87bb-4d140731f9a1",
   "metadata": {
    "scrolled": true
   },
   "outputs": [
    {
     "name": "stderr",
     "output_type": "stream",
     "text": [
      "[Stage 836:===================================================>   (16 + 1) / 17]\r"
     ]
    },
    {
     "name": "stdout",
     "output_type": "stream",
     "text": [
      "+------+-------------------+-------------+-----------------+\n",
      "|userid|               time|user_ad_count|user_ad_clk_count|\n",
      "+------+-------------------+-------------+-----------------+\n",
      "|     1|2017-05-10 21:50:36|            1|                0|\n",
      "|     1|2017-05-11 23:45:25|            3|                0|\n",
      "|     1|2017-05-11 23:45:25|            2|                0|\n",
      "|     1|2017-05-11 23:45:25|            4|                0|\n",
      "|     2|2017-05-08 06:33:12|            3|                0|\n",
      "|     2|2017-05-08 06:33:12|            2|                0|\n",
      "|     2|2017-05-08 06:33:12|            1|                1|\n",
      "|     3|2017-05-07 16:07:35|            1|                1|\n",
      "|     3|2017-05-07 16:07:35|            2|                1|\n",
      "|     3|2017-05-07 16:41:33|            5|                1|\n",
      "|     3|2017-05-07 16:41:33|            3|                1|\n",
      "|     3|2017-05-07 16:41:33|            4|                1|\n",
      "|     3|2017-05-10 17:44:04|            6|                1|\n",
      "|     3|2017-05-10 17:44:04|            7|                1|\n",
      "|     3|2017-05-10 17:44:04|            8|                1|\n",
      "|     3|2017-05-10 18:26:43|            9|                1|\n",
      "|     3|2017-05-10 18:26:43|           10|                1|\n",
      "|     3|2017-05-10 18:26:43|           11|                1|\n",
      "|     3|2017-05-11 15:03:46|           12|                1|\n",
      "|     3|2017-05-11 18:03:25|           14|                1|\n",
      "|     3|2017-05-11 18:03:25|           15|                1|\n",
      "|     3|2017-05-11 18:03:25|           13|                1|\n",
      "|     4|2017-05-06 02:15:14|            9|                0|\n",
      "|     4|2017-05-06 02:15:14|            6|                0|\n",
      "|     4|2017-05-06 02:15:14|            1|                0|\n",
      "|     4|2017-05-06 02:15:14|            8|                0|\n",
      "|     4|2017-05-06 02:15:14|            3|                0|\n",
      "|     4|2017-05-06 02:15:14|           10|                0|\n",
      "|     4|2017-05-06 02:15:14|            7|                0|\n",
      "|     4|2017-05-06 02:15:14|            4|                0|\n",
      "|     4|2017-05-06 02:15:14|            5|                0|\n",
      "|     4|2017-05-06 02:15:14|            2|                0|\n",
      "|     4|2017-05-06 02:17:20|           19|                0|\n",
      "|     4|2017-05-06 02:17:20|           20|                0|\n",
      "|     4|2017-05-06 02:17:20|           14|                0|\n",
      "|     4|2017-05-06 02:17:20|           11|                0|\n",
      "|     4|2017-05-06 02:17:20|           12|                0|\n",
      "|     4|2017-05-06 02:17:20|           16|                0|\n",
      "|     4|2017-05-06 02:17:20|           13|                0|\n",
      "|     4|2017-05-06 02:17:20|           15|                0|\n",
      "|     4|2017-05-06 02:17:20|           18|                0|\n",
      "|     4|2017-05-06 02:17:20|           17|                0|\n",
      "|     4|2017-05-06 02:19:58|           28|                0|\n",
      "|     4|2017-05-06 02:19:58|           30|                0|\n",
      "|     4|2017-05-06 02:19:58|           21|                0|\n",
      "|     4|2017-05-06 02:19:58|           25|                0|\n",
      "|     4|2017-05-06 02:19:58|           22|                0|\n",
      "|     4|2017-05-06 02:19:58|           23|                0|\n",
      "|     4|2017-05-06 02:19:58|           24|                0|\n",
      "|     4|2017-05-06 02:19:58|           26|                0|\n",
      "+------+-------------------+-------------+-----------------+\n",
      "only showing top 50 rows\n",
      "\n"
     ]
    },
    {
     "name": "stderr",
     "output_type": "stream",
     "text": [
      "                                                                                \r"
     ]
    }
   ],
   "source": [
    "def get_user_features(df):\n",
    "    window = W.partitionBy('userid').orderBy('time', F.rand())\n",
    "    \n",
    "    window_df = (\n",
    "        df\n",
    "        .withColumn('user_ad_count', F.count('clk').over(window))\n",
    "        .withColumn('user_ad_clk_count', F.sum('clk').over(window))\n",
    "    )\n",
    "    \n",
    "    return window_df\n",
    "    \n",
    "users_features_df = get_user_features(window_df)\n",
    "users_features_df.select('userid', 'time', 'user_ad_count', 'user_ad_clk_count').sort('userid', 'time').show(50)"
   ]
  },
  {
   "cell_type": "markdown",
   "id": "1a7e0ddd-452d-4ce7-bafa-6958e8ccf882",
   "metadata": {},
   "source": [
    "## ad counts and sum per adgroup id"
   ]
  },
  {
   "cell_type": "code",
   "execution_count": 65,
   "id": "7184a5c8-3554-4cbc-9631-59a3f9d76072",
   "metadata": {
    "scrolled": true
   },
   "outputs": [
    {
     "name": "stderr",
     "output_type": "stream",
     "text": [
      "[Stage 803:=====================================>              (146 + 16) / 200]\r"
     ]
    },
    {
     "name": "stdout",
     "output_type": "stream",
     "text": [
      "+----------+-------------------+-------------+-----------------+\n",
      "|adgroup_id|               time|adgroup_count|adgroup_clk_count|\n",
      "+----------+-------------------+-------------+-----------------+\n",
      "|         1|2017-05-06 23:14:04|            1|                0|\n",
      "|         2|2017-05-08 17:38:53|            1|                0|\n",
      "|         2|2017-05-09 05:38:06|            2|                0|\n",
      "|         2|2017-05-10 00:33:38|            3|                0|\n",
      "|         2|2017-05-12 18:08:46|            4|                0|\n",
      "|         2|2017-05-12 18:43:57|            5|                0|\n",
      "|         2|2017-05-12 21:21:21|            6|                0|\n",
      "|         4|2017-05-12 21:47:59|            1|                0|\n",
      "|         5|2017-05-12 21:50:29|            1|                0|\n",
      "|         6|2017-05-12 23:27:30|            1|                0|\n",
      "|         7|2017-05-06 20:57:22|            1|                0|\n",
      "|         7|2017-05-09 03:06:09|            2|                0|\n",
      "|         7|2017-05-10 07:03:42|            3|                0|\n",
      "|         7|2017-05-11 16:11:56|            4|                0|\n",
      "|         8|2017-05-08 21:09:18|            1|                0|\n",
      "|         9|2017-05-10 17:29:53|            1|                0|\n",
      "|         9|2017-05-11 10:48:55|            2|                0|\n",
      "|        10|2017-05-05 15:47:23|            1|                0|\n",
      "|        10|2017-05-05 19:44:18|            2|                0|\n",
      "|        10|2017-05-07 04:32:48|            3|                0|\n",
      "|        11|2017-05-05 18:29:04|            1|                0|\n",
      "|        11|2017-05-05 19:12:23|            2|                0|\n",
      "|        11|2017-05-06 17:03:07|            3|                0|\n",
      "|        11|2017-05-08 22:18:56|            4|                0|\n",
      "|        11|2017-05-10 14:26:48|            5|                0|\n",
      "|        11|2017-05-12 14:41:41|            6|                0|\n",
      "|        12|2017-05-06 04:39:30|            1|                0|\n",
      "|        13|2017-05-06 19:33:16|            1|                0|\n",
      "|        13|2017-05-07 03:44:27|            2|                0|\n",
      "|        13|2017-05-07 04:35:49|            3|                0|\n",
      "|        13|2017-05-07 21:42:59|            4|                0|\n",
      "|        13|2017-05-08 15:14:33|            5|                0|\n",
      "|        13|2017-05-08 17:20:47|            6|                0|\n",
      "|        13|2017-05-08 18:35:46|            7|                0|\n",
      "|        13|2017-05-08 23:26:16|            8|                0|\n",
      "|        13|2017-05-10 21:09:01|            9|                0|\n",
      "|        13|2017-05-11 15:11:57|           10|                0|\n",
      "|        13|2017-05-11 16:27:19|           11|                0|\n",
      "|        13|2017-05-11 23:00:57|           12|                0|\n",
      "|        14|2017-05-05 11:30:36|            1|                0|\n",
      "|        14|2017-05-06 05:16:53|            2|                0|\n",
      "|        14|2017-05-13 04:57:52|            3|                0|\n",
      "|        15|2017-05-06 00:13:10|            1|                0|\n",
      "|        16|2017-05-05 17:55:10|            1|                0|\n",
      "|        16|2017-05-05 18:36:53|            2|                0|\n",
      "|        16|2017-05-06 03:58:46|            3|                0|\n",
      "|        16|2017-05-06 04:43:58|            4|                0|\n",
      "|        16|2017-05-06 16:24:03|            5|                0|\n",
      "|        16|2017-05-06 23:00:51|            6|                0|\n",
      "|        16|2017-05-07 02:06:27|            7|                0|\n",
      "+----------+-------------------+-------------+-----------------+\n",
      "only showing top 50 rows\n",
      "\n"
     ]
    },
    {
     "name": "stderr",
     "output_type": "stream",
     "text": [
      "                                                                                \r"
     ]
    }
   ],
   "source": [
    "def ad_window_functions(df):\n",
    "    window = W.partitionBy('adgroup_id').orderBy('time')\n",
    "    \n",
    "    window_df = (\n",
    "        df\n",
    "        .withColumn('adgroup_count', F.count('clk').over(window))\n",
    "        .withColumn('adgroup_clk_count', F.sum('clk').over(window))\n",
    "    )\n",
    "    \n",
    "    return window_df\n",
    "    \n",
    "window_df = ad_window_functions(users_features_df)\n",
    "window_df.select('adgroup_id', 'time', 'adgroup_count', 'adgroup_clk_count').sort('adgroup_id', 'time').show(50)"
   ]
  },
  {
   "cell_type": "markdown",
   "id": "5aaa20cd-c2fa-44a3-84d2-c3aed44ee0b9",
   "metadata": {},
   "source": [
    "## ad counts and sum per campaign id"
   ]
  },
  {
   "cell_type": "code",
   "execution_count": 59,
   "id": "5be8c092-2cdd-4b00-be93-af2a08ba7767",
   "metadata": {
    "scrolled": true
   },
   "outputs": [
    {
     "name": "stderr",
     "output_type": "stream",
     "text": [
      "[Stage 618:==============================================>        (34 + 6) / 40]\r"
     ]
    },
    {
     "name": "stdout",
     "output_type": "stream",
     "text": [
      "+-------+----------+----------+-----------+------+---+---------+------------+-----------------+---------+------------+--------------+----------+---------------------+-------+-----------+--------+-----+-----+-------------------+-------------------+----------+--------+----+---------+--------+---------+-------------+-----------------+--------------+------------------+\n",
      "| userid|adgroup_id|time_stamp|        pid|nonclk|clk|cms_segid|cms_group_id|final_gender_code|age_level|pvalue_level|shopping_level|occupation|new_user_class_level |cate_id|campaign_id|customer|brand|price|               time|           last_row|ad_gap_sec|clk_rate|hour|timestamp|ad_count|clk_count|adgroup_count|adgroup_clk_count|campaign_count|campaign_clk_count|\n",
      "+-------+----------+----------+-----------+------+---+---------+------------+-----------------+---------+------------+--------------+----------+---------------------+-------+-----------+--------+-----+-----+-------------------+-------------------+----------+--------+----+---------+--------+---------+-------------+-----------------+--------------+------------------+\n",
      "| 803506|    698868|1494021093|430548_1007|     1|  0|        0|           5|                2|        5|        NULL|             1|         0|                 NULL|   6423|         31|   15142| NULL|158.0|2017-05-05 14:51:33|               NULL|      NULL|     0.0|  14|    night|       2|        0|            1|                0|             1|                 0|\n",
      "| 849260|    698868|1494031216|430539_1007|     1|  0|        0|           3|                2|        3|        NULL|             3|         0|                    4|   6423|         31|   15142| NULL|158.0|2017-05-05 17:40:16|2017-05-05 17:40:16|         0|   0.024|  17|    night|      20|        0|            2|                0|             2|                 0|\n",
      "|  97520|    698868|1494035999|430548_1007|     1|  0|       16|           3|                2|        3|           1|             3|         0|                    2|   6423|         31|   15142| NULL|158.0|2017-05-05 18:59:59|2017-05-05 18:59:59|         0|   0.111|  18|    night|       3|        1|            3|                0|             3|                 0|\n",
      "|1077466|    698868|1494038468|430548_1007|     1|  0|        0|           2|                2|        2|        NULL|             3|         0|                 NULL|   6423|         31|   15142| NULL|158.0|2017-05-05 19:41:08|2017-05-05 19:41:08|         0|     0.0|  19|    night|       3|        0|            4|                0|             4|                 0|\n",
      "|  74549|    698868|1494046448|430548_1007|     1|  0|        0|           6|                2|        6|        NULL|             2|         0|                 NULL|   6423|         31|   15142| NULL|158.0|2017-05-05 21:54:08|2017-05-05 21:49:44|       264|   0.037|  21|    night|       9|        0|            5|                0|             5|                 0|\n",
      "| 164855|    698868|1494049930|430548_1007|     1|  0|       45|           5|                2|        5|           2|             3|         0|                    4|   6423|         31|   15142| NULL|158.0|2017-05-05 22:52:10|2017-05-05 17:32:27|     19183|   0.038|  22|    night|       6|        0|            6|                0|             6|                 0|\n",
      "| 578355|    698868|1494051731|430548_1007|     1|  0|       89|          11|                1|        5|           1|             3|         0|                    3|   6423|         31|   15142| NULL|158.0|2017-05-05 23:22:11|2017-05-05 23:22:11|         0|     0.0|  23|    night|       3|        0|            7|                0|             7|                 0|\n",
      "|  45619|    698868|1494055473|430548_1007|     1|  0|        0|           4|                2|        4|        NULL|             3|         0|                 NULL|   6423|         31|   15142| NULL|158.0|2017-05-06 00:24:33|               NULL|      NULL|   0.038|   0|  morning|       3|        0|            8|                0|             8|                 0|\n",
      "| 950022|    698868|1494064163|430548_1007|     1|  0|        0|           4|                2|        4|        NULL|             1|         0|                 NULL|   6423|         31|   15142| NULL|158.0|2017-05-06 02:49:23|2017-05-06 02:49:23|         0|     0.0|   2|  morning|       9|        0|            9|                0|             9|                 0|\n",
      "| 698524|    698868|1494086897|430548_1007|     1|  0|        0|           3|                2|        3|        NULL|             3|         0|                 NULL|   6423|         31|   15142| NULL|158.0|2017-05-06 09:08:17|2017-05-05 22:19:07|     38950|     0.0|   9|    night|      12|        0|           10|                0|            10|                 0|\n",
      "| 581832|    698868|1494088330|430548_1007|     1|  0|        0|           8|                1|        2|        NULL|             3|         0|                 NULL|   6423|         31|   15142| NULL|158.0|2017-05-06 09:32:10|2017-05-06 09:32:10|         0|     0.0|   9|    night|       3|        0|           11|                0|            11|                 0|\n",
      "|  12745|    698868|1494090168|430548_1007|     1|  0|        0|           3|                2|        3|        NULL|             3|         0|                    4|   6423|         31|   15142| NULL|158.0|2017-05-06 10:02:48|               NULL|      NULL|     0.0|  10|    night|       1|        0|           12|                0|            12|                 0|\n",
      "| 680078|    698868|1494092915|430548_1007|     1|  0|        5|           2|                2|        2|           1|             3|         1|                    3|   6423|         31|   15142| NULL|158.0|2017-05-06 10:48:35|2017-05-06 07:56:39|     10316|   0.133|  10|    night|       6|        1|           13|                0|            13|                 0|\n",
      "| 387932|    698868|1494108568|430548_1007|     1|  0|        0|           4|                2|        4|        NULL|             3|         0|                    3|   6423|         31|   15142| NULL|158.0|2017-05-06 15:09:28|2017-05-06 15:09:28|         0|     0.0|  15|    night|      78|        0|           14|                0|            14|                 0|\n",
      "|1055701|    698868|1494121495|430548_1007|     0|  1|        0|           3|                2|        3|        NULL|             3|         0|                    3|   6423|         31|   15142| NULL|158.0|2017-05-06 18:44:55|2017-05-06 18:44:55|         0|   0.111|  18|    night|      30|        5|           15|                1|            15|                 1|\n",
      "| 611099|    698868|1494133319|430548_1007|     1|  0|        0|           3|                2|        3|        NULL|             3|         0|                 NULL|   6423|         31|   15142| NULL|158.0|2017-05-06 22:01:59|2017-05-06 22:01:59|         0|   0.037|  22|    night|      42|        0|           16|                1|            16|                 1|\n",
      "| 319975|    698868|1494146993|430548_1007|     1|  0|        5|           2|                2|        2|           1|             3|         1|                    2|   6423|         31|   15142| NULL|158.0|2017-05-07 01:49:53|2017-05-07 01:49:53|         0|     0.0|   1|  morning|      30|        0|           17|                1|            17|                 1|\n",
      "| 931218|    715332|1494147546|430548_1007|     1|  0|        0|           4|                2|        4|        NULL|             2|         0|                 NULL|   6432|         31|   15142| NULL|158.0|2017-05-07 01:59:06|2017-05-07 01:59:06|         0|    0.04|   1|  morning|      80|        4|            1|                0|            18|                 1|\n",
      "|1099358|    698868|1494147787|430548_1007|     1|  0|        7|           2|                2|        2|           1|             3|         0|                    2|   6423|         31|   15142| NULL|158.0|2017-05-07 02:03:07|2017-05-07 02:03:07|         0|   0.023|   2|  morning|     290|        8|           18|                1|            19|                 1|\n",
      "|  46716|    715332|1494151505|430548_1007|     1|  0|        0|           5|                2|        5|        NULL|             2|         0|                 NULL|   6432|         31|   15142| NULL|158.0|2017-05-07 03:05:05|2017-05-07 03:05:05|         0|     0.0|   3|  morning|      12|        0|            2|                0|            20|                 1|\n",
      "+-------+----------+----------+-----------+------+---+---------+------------+-----------------+---------+------------+--------------+----------+---------------------+-------+-----------+--------+-----+-----+-------------------+-------------------+----------+--------+----+---------+--------+---------+-------------+-----------------+--------------+------------------+\n",
      "only showing top 20 rows\n",
      "\n"
     ]
    },
    {
     "name": "stderr",
     "output_type": "stream",
     "text": [
      "                                                                                \r"
     ]
    }
   ],
   "source": [
    "def ad_window_functions(df):\n",
    "    window = W.partitionBy('campaign_id').orderBy('time')\n",
    "    \n",
    "    window_df = (\n",
    "        df\n",
    "        .withColumn('campaign_count', F.count('clk').over(window))\n",
    "        .withColumn('campaign_clk_count', F.sum('clk').over(window))\n",
    "    )\n",
    "    \n",
    "    return window_df\n",
    "    \n",
    "window_df = ad_window_functions(window_df)\n",
    "window_df.show()"
   ]
  },
  {
   "cell_type": "markdown",
   "id": "419c298a-691c-42b7-849f-ef390728520f",
   "metadata": {},
   "source": [
    "## ad counts and sum per cate id"
   ]
  },
  {
   "cell_type": "code",
   "execution_count": 60,
   "id": "15c22ff7-b011-4035-814c-458c441dd34b",
   "metadata": {
    "scrolled": true
   },
   "outputs": [
    {
     "name": "stderr",
     "output_type": "stream",
     "text": [
      "[Stage 657:=====================================================> (33 + 1) / 34]\r"
     ]
    },
    {
     "name": "stdout",
     "output_type": "stream",
     "text": [
      "+-------+----------+----------+-----------+------+---+---------+------------+-----------------+---------+------------+--------------+----------+---------------------+-------+-----------+--------+------+------+-------------------+-------------------+----------+--------+----+---------+--------+---------+-------------+-----------------+--------------+------------------+----------+--------------+\n",
      "| userid|adgroup_id|time_stamp|        pid|nonclk|clk|cms_segid|cms_group_id|final_gender_code|age_level|pvalue_level|shopping_level|occupation|new_user_class_level |cate_id|campaign_id|customer| brand| price|               time|           last_row|ad_gap_sec|clk_rate|hour|timestamp|ad_count|clk_count|adgroup_count|adgroup_clk_count|campaign_count|campaign_clk_count|cate_count|cate_clk_count|\n",
      "+-------+----------+----------+-----------+------+---+---------+------------+-----------------+---------+------------+--------------+----------+---------------------+-------+-----------+--------+------+------+-------------------+-------------------+----------+--------+----+---------+--------+---------+-------------+-----------------+--------------+------------------+----------+--------------+\n",
      "| 862149|    590288|1494003675|430539_1007|     1|  0|        0|          10|                1|        4|        NULL|             3|         0|                    1|     31|     359510|   56319| 49899|5400.0|2017-05-05 10:01:15|2017-05-05 10:01:15|         0|   0.023|  10|    night|       3|        0|            1|                0|             1|                 0|         1|             0|\n",
      "| 629123|    290601|1494025619|430548_1007|     1|  0|        0|           2|                2|        2|           1|             3|         0|                 NULL|     31|      94689|  136098|107382|2588.0|2017-05-05 16:06:59|               NULL|      NULL|   0.222|  16|    night|       3|        1|            1|                0|             1|                 0|         2|             0|\n",
      "| 805389|    290601|1494026615|430548_1007|     1|  0|        0|          11|                1|        5|        NULL|             2|         0|                    2|     31|      94689|  136098|107382|2588.0|2017-05-05 16:23:35|2017-05-05 16:23:35|         0|     0.0|  16|    night|       3|        0|            2|                0|             2|                 0|         3|             0|\n",
      "| 556456|    396690|1494028006|430548_1007|     1|  0|        0|           9|                1|        3|        NULL|             3|         0|                    4|     31|     280925|   25094|316005|9000.0|2017-05-05 16:46:46|2017-05-05 16:46:46|         0|     0.0|  16|    night|       3|        0|            1|                0|             1|                 0|         5|             0|\n",
      "| 556456|    202941|1494028006|430548_1007|     1|  0|        0|           9|                1|        3|        NULL|             3|         0|                    4|     31|     251197|   33039|107382|2899.0|2017-05-05 16:46:46|               NULL|      NULL|     0.0|  16|    night|       3|        0|            1|                0|             1|                 0|         5|             0|\n",
      "| 784574|     97583|1494028986|430548_1007|     1|  0|       92|          11|                1|        5|           2|             3|         0|                    3|     31|     141544|   80559| 30908|4080.0|2017-05-05 17:03:06|               NULL|      NULL|     0.0|  17|    night|       2|        0|            1|                0|             1|                 0|         6|             0|\n",
      "| 378955|    499645|1494030267|430539_1007|     1|  0|       93|          11|                1|        5|           3|             3|         0|                    2|     31|      94689|  136098|107382|3688.0|2017-05-05 17:24:27|2017-05-05 17:24:27|         0|   0.133|  17|    night|       3|        1|            1|                0|             3|                 0|         7|             0|\n",
      "|1033147|    202941|1494030824|430548_1007|     1|  0|        0|          10|                1|        4|        NULL|             3|         0|                 NULL|     31|     251197|   33039|107382|2899.0|2017-05-05 17:33:44|               NULL|      NULL|     0.0|  17|    night|       2|        0|            2|                0|             2|                 0|         8|             0|\n",
      "| 107899|    445718|1494032093|430548_1007|     1|  0|        0|           9|                1|        3|        NULL|             3|         0|                    3|     31|     296251|   89033| 72619|9000.0|2017-05-05 17:54:53|2017-05-05 17:54:53|         0|     0.0|  17|    night|       2|        0|            1|                0|             1|                 0|         9|             0|\n",
      "|1015113|    290601|1494033961|430539_1007|     1|  0|        0|          11|                1|        5|        NULL|             3|         0|                    2|     31|      94689|  136098|107382|2588.0|2017-05-05 18:26:01|2017-05-05 18:26:01|         0|   0.143|  18|    night|       3|        0|            3|                0|             4|                 0|        10|             0|\n",
      "| 600549|    290601|1494035688|430548_1007|     1|  0|       81|          10|                1|        4|           2|             3|         0|                    3|     31|      94689|  136098|107382|2588.0|2017-05-05 18:54:48|2017-05-05 18:54:48|         0|     0.0|  18|    night|       3|        0|            4|                0|             5|                 0|        11|             0|\n",
      "| 106059|    290601|1494039579|430539_1007|     1|  0|       67|           9|                1|        3|           2|             3|         0|                    3|     31|      94689|  136098|107382|2588.0|2017-05-05 19:59:39|               NULL|      NULL|     0.0|  19|    night|       1|        0|            5|                0|             6|                 0|        12|             0|\n",
      "| 695981|    290601|1494042270|430548_1007|     1|  0|       92|          11|                1|        5|           3|             3|         0|                    4|     31|      94689|  136098|107382|2588.0|2017-05-05 20:44:30|2017-05-05 20:44:30|         0|   0.037|  20|    night|       3|        0|            6|                0|             7|                 0|        13|             0|\n",
      "| 756494|    445718|1494047798|430548_1007|     1|  0|       19|           3|                2|        3|           2|             3|         0|                    2|     31|     296251|   89033| 72619|9000.0|2017-05-05 22:16:38|2017-05-05 22:16:38|         0|   0.014|  22|    night|      10|        0|            2|                0|             2|                 0|        15|             0|\n",
      "| 756494|    130666|1494047798|430548_1007|     1|  0|       19|           3|                2|        3|           2|             3|         0|                    2|     31|     237933|   52485|  NULL|1500.0|2017-05-05 22:16:38|               NULL|      NULL|   0.014|  22|    night|      10|        0|            1|                0|             1|                 0|        15|             0|\n",
      "| 801164|    325362|1494049952|430548_1007|     0|  1|        0|          11|                1|        5|        NULL|             3|         0|                    4|     31|     107689|  165992|  NULL|2850.0|2017-05-05 22:52:32|2017-05-05 22:52:32|         0|   0.113|  22|    night|       3|        1|            1|                1|             1|                 1|        16|             1|\n",
      "| 416678|    338627|1494052647|430548_1007|     1|  0|        0|          11|                1|        5|        NULL|             2|         0|                 NULL|     31|     116947|  168491|316005|2000.0|2017-05-05 23:37:27|2017-05-05 23:37:27|         0|     0.0|  23|    night|       6|        0|            1|                0|             1|                 0|        19|             1|\n",
      "| 416678|    201780|1494052647|430548_1007|     1|  0|        0|          11|                1|        5|        NULL|             2|         0|                 NULL|     31|     206758|   32183|107382|2400.0|2017-05-05 23:37:27|2017-05-05 23:37:27|         0|     0.0|  23|    night|       6|        0|            1|                0|             1|                 0|        19|             1|\n",
      "| 416678|    288784|1494052647|430548_1007|     1|  0|        0|          11|                1|        5|        NULL|             2|         0|                 NULL|     31|     213355|   30694|  NULL|2900.0|2017-05-05 23:37:27|2017-05-05 18:03:46|     20021|     0.0|  23|    night|       6|        0|            1|                0|             1|                 0|        19|             1|\n",
      "|  52311|    290601|1494052657|430548_1007|     1|  0|        0|           9|                1|        3|        NULL|             3|         0|                    3|     31|      94689|  136098|107382|2588.0|2017-05-05 23:37:37|               NULL|      NULL|     0.0|  23|    night|       3|        0|            7|                0|             8|                 0|        20|             1|\n",
      "+-------+----------+----------+-----------+------+---+---------+------------+-----------------+---------+------------+--------------+----------+---------------------+-------+-----------+--------+------+------+-------------------+-------------------+----------+--------+----+---------+--------+---------+-------------+-----------------+--------------+------------------+----------+--------------+\n",
      "only showing top 20 rows\n",
      "\n"
     ]
    },
    {
     "name": "stderr",
     "output_type": "stream",
     "text": [
      "                                                                                \r"
     ]
    }
   ],
   "source": [
    "def ad_window_functions(df):\n",
    "    window = W.partitionBy('cate_id').orderBy('time')\n",
    "    \n",
    "    window_df = (\n",
    "        df\n",
    "        .withColumn('cate_count', F.count('clk').over(window))\n",
    "        .withColumn('cate_clk_count', F.sum('clk').over(window))\n",
    "    )\n",
    "    \n",
    "    return window_df\n",
    "    \n",
    "window_df = ad_window_functions(window_df)\n",
    "window_df.show()"
   ]
  },
  {
   "cell_type": "markdown",
   "id": "1f7d011f-9358-4330-af83-880d7ce53598",
   "metadata": {},
   "source": [
    "## male & female ad clk counts and sum per cate id"
   ]
  },
  {
   "cell_type": "code",
   "execution_count": 61,
   "id": "2fdda631-94c6-47ff-966d-fb731eb4c003",
   "metadata": {},
   "outputs": [
    {
     "name": "stderr",
     "output_type": "stream",
     "text": [
      "[Stage 697:=====================================================> (33 + 1) / 34]\r"
     ]
    },
    {
     "name": "stdout",
     "output_type": "stream",
     "text": [
      "+-------+----------+----------+-----------+------+---+---------+------------+-----------------+---------+------------+--------------+----------+---------------------+-------+-----------+--------+------+------+-------------------+-------------------+----------+--------+----+---------+--------+---------+-------------+-----------------+--------------+------------------+----------+--------------+-----------------+---------------------+---------------+-------------------+\n",
      "| userid|adgroup_id|time_stamp|        pid|nonclk|clk|cms_segid|cms_group_id|final_gender_code|age_level|pvalue_level|shopping_level|occupation|new_user_class_level |cate_id|campaign_id|customer| brand| price|               time|           last_row|ad_gap_sec|clk_rate|hour|timestamp|ad_count|clk_count|adgroup_count|adgroup_clk_count|campaign_count|campaign_clk_count|cate_count|cate_clk_count|female_cate_count|female_cate_clk_count|male_cate_count|male_cate_clk_count|\n",
      "+-------+----------+----------+-----------+------+---+---------+------------+-----------------+---------+------------+--------------+----------+---------------------+-------+-----------+--------+------+------+-------------------+-------------------+----------+--------+----+---------+--------+---------+-------------+-----------------+--------------+------------------+----------+--------------+-----------------+---------------------+---------------+-------------------+\n",
      "| 862149|    590288|1494003675|430539_1007|     1|  0|        0|          10|                1|        4|        NULL|             3|         0|                    1|     31|     359510|   56319| 49899|5400.0|2017-05-05 10:01:15|2017-05-05 10:01:15|         0|   0.023|  10|    night|       3|        0|            1|                0|             1|                 0|         1|             0|                1|                    0|           NULL|               NULL|\n",
      "| 629123|    290601|1494025619|430548_1007|     1|  0|        0|           2|                2|        2|           1|             3|         0|                 NULL|     31|      94689|  136098|107382|2588.0|2017-05-05 16:06:59|               NULL|      NULL|   0.222|  16|    night|       3|        1|            1|                0|             1|                 0|         2|             0|             NULL|                 NULL|              2|                  0|\n",
      "| 805389|    290601|1494026615|430548_1007|     1|  0|        0|          11|                1|        5|        NULL|             2|         0|                    2|     31|      94689|  136098|107382|2588.0|2017-05-05 16:23:35|2017-05-05 16:23:35|         0|     0.0|  16|    night|       3|        0|            2|                0|             2|                 0|         3|             0|                3|                    0|           NULL|               NULL|\n",
      "| 556456|    396690|1494028006|430548_1007|     1|  0|        0|           9|                1|        3|        NULL|             3|         0|                    4|     31|     280925|   25094|316005|9000.0|2017-05-05 16:46:46|2017-05-05 16:46:46|         0|     0.0|  16|    night|       3|        0|            1|                0|             1|                 0|         5|             0|                5|                    0|           NULL|               NULL|\n",
      "| 556456|    202941|1494028006|430548_1007|     1|  0|        0|           9|                1|        3|        NULL|             3|         0|                    4|     31|     251197|   33039|107382|2899.0|2017-05-05 16:46:46|               NULL|      NULL|     0.0|  16|    night|       3|        0|            1|                0|             1|                 0|         5|             0|                5|                    0|           NULL|               NULL|\n",
      "| 784574|     97583|1494028986|430548_1007|     1|  0|       92|          11|                1|        5|           2|             3|         0|                    3|     31|     141544|   80559| 30908|4080.0|2017-05-05 17:03:06|               NULL|      NULL|     0.0|  17|    night|       2|        0|            1|                0|             1|                 0|         6|             0|                6|                    0|           NULL|               NULL|\n",
      "| 378955|    499645|1494030267|430539_1007|     1|  0|       93|          11|                1|        5|           3|             3|         0|                    2|     31|      94689|  136098|107382|3688.0|2017-05-05 17:24:27|2017-05-05 17:24:27|         0|   0.133|  17|    night|       3|        1|            1|                0|             3|                 0|         7|             0|                7|                    0|           NULL|               NULL|\n",
      "|1033147|    202941|1494030824|430548_1007|     1|  0|        0|          10|                1|        4|        NULL|             3|         0|                 NULL|     31|     251197|   33039|107382|2899.0|2017-05-05 17:33:44|               NULL|      NULL|     0.0|  17|    night|       2|        0|            2|                0|             2|                 0|         8|             0|                8|                    0|           NULL|               NULL|\n",
      "| 107899|    445718|1494032093|430548_1007|     1|  0|        0|           9|                1|        3|        NULL|             3|         0|                    3|     31|     296251|   89033| 72619|9000.0|2017-05-05 17:54:53|2017-05-05 17:54:53|         0|     0.0|  17|    night|       2|        0|            1|                0|             1|                 0|         9|             0|                9|                    0|           NULL|               NULL|\n",
      "|1015113|    290601|1494033961|430539_1007|     1|  0|        0|          11|                1|        5|        NULL|             3|         0|                    2|     31|      94689|  136098|107382|2588.0|2017-05-05 18:26:01|2017-05-05 18:26:01|         0|   0.143|  18|    night|       3|        0|            3|                0|             4|                 0|        10|             0|               10|                    0|           NULL|               NULL|\n",
      "| 600549|    290601|1494035688|430548_1007|     1|  0|       81|          10|                1|        4|           2|             3|         0|                    3|     31|      94689|  136098|107382|2588.0|2017-05-05 18:54:48|2017-05-05 18:54:48|         0|     0.0|  18|    night|       3|        0|            4|                0|             5|                 0|        11|             0|               11|                    0|           NULL|               NULL|\n",
      "| 106059|    290601|1494039579|430539_1007|     1|  0|       67|           9|                1|        3|           2|             3|         0|                    3|     31|      94689|  136098|107382|2588.0|2017-05-05 19:59:39|               NULL|      NULL|     0.0|  19|    night|       1|        0|            5|                0|             6|                 0|        12|             0|               12|                    0|           NULL|               NULL|\n",
      "| 695981|    290601|1494042270|430548_1007|     1|  0|       92|          11|                1|        5|           3|             3|         0|                    4|     31|      94689|  136098|107382|2588.0|2017-05-05 20:44:30|2017-05-05 20:44:30|         0|   0.037|  20|    night|       3|        0|            6|                0|             7|                 0|        13|             0|               13|                    0|           NULL|               NULL|\n",
      "| 756494|    445718|1494047798|430548_1007|     1|  0|       19|           3|                2|        3|           2|             3|         0|                    2|     31|     296251|   89033| 72619|9000.0|2017-05-05 22:16:38|2017-05-05 22:16:38|         0|   0.014|  22|    night|      10|        0|            2|                0|             2|                 0|        15|             0|             NULL|                 NULL|             15|                  0|\n",
      "| 756494|    130666|1494047798|430548_1007|     1|  0|       19|           3|                2|        3|           2|             3|         0|                    2|     31|     237933|   52485|  NULL|1500.0|2017-05-05 22:16:38|               NULL|      NULL|   0.014|  22|    night|      10|        0|            1|                0|             1|                 0|        15|             0|             NULL|                 NULL|             15|                  0|\n",
      "| 801164|    325362|1494049952|430548_1007|     0|  1|        0|          11|                1|        5|        NULL|             3|         0|                    4|     31|     107689|  165992|  NULL|2850.0|2017-05-05 22:52:32|2017-05-05 22:52:32|         0|   0.113|  22|    night|       3|        1|            1|                1|             1|                 1|        16|             1|               16|                    1|           NULL|               NULL|\n",
      "| 416678|    338627|1494052647|430548_1007|     1|  0|        0|          11|                1|        5|        NULL|             2|         0|                 NULL|     31|     116947|  168491|316005|2000.0|2017-05-05 23:37:27|2017-05-05 23:37:27|         0|     0.0|  23|    night|       6|        0|            1|                0|             1|                 0|        19|             1|               19|                    1|           NULL|               NULL|\n",
      "| 416678|    201780|1494052647|430548_1007|     1|  0|        0|          11|                1|        5|        NULL|             2|         0|                 NULL|     31|     206758|   32183|107382|2400.0|2017-05-05 23:37:27|2017-05-05 23:37:27|         0|     0.0|  23|    night|       6|        0|            1|                0|             1|                 0|        19|             1|               19|                    1|           NULL|               NULL|\n",
      "| 416678|    288784|1494052647|430548_1007|     1|  0|        0|          11|                1|        5|        NULL|             2|         0|                 NULL|     31|     213355|   30694|  NULL|2900.0|2017-05-05 23:37:27|2017-05-05 18:03:46|     20021|     0.0|  23|    night|       6|        0|            1|                0|             1|                 0|        19|             1|               19|                    1|           NULL|               NULL|\n",
      "|  52311|    290601|1494052657|430548_1007|     1|  0|        0|           9|                1|        3|        NULL|             3|         0|                    3|     31|      94689|  136098|107382|2588.0|2017-05-05 23:37:37|               NULL|      NULL|     0.0|  23|    night|       3|        0|            7|                0|             8|                 0|        20|             1|               20|                    1|           NULL|               NULL|\n",
      "+-------+----------+----------+-----------+------+---+---------+------------+-----------------+---------+------------+--------------+----------+---------------------+-------+-----------+--------+------+------+-------------------+-------------------+----------+--------+----+---------+--------+---------+-------------+-----------------+--------------+------------------+----------+--------------+-----------------+---------------------+---------------+-------------------+\n",
      "only showing top 20 rows\n",
      "\n"
     ]
    },
    {
     "name": "stderr",
     "output_type": "stream",
     "text": [
      "                                                                                \r"
     ]
    }
   ],
   "source": [
    "def ad_window_functions(df):\n",
    "    window = W.partitionBy('cate_id').orderBy('time')\n",
    "    \n",
    "    window_df = (\n",
    "        df\n",
    "        .withColumn(\"female_cate_count\", F.when((F.col(\"final_gender_code\") == 1), F.count('clk').over(window)))\n",
    "        .withColumn(\"female_cate_clk_count\", F.when((F.col(\"final_gender_code\") == 1), F.sum('clk').over(window)))\n",
    "        .withColumn(\"male_cate_count\", F.when((F.col(\"final_gender_code\") == 2), F.count('clk').over(window)))\n",
    "        .withColumn(\"male_cate_clk_count\", F.when((F.col(\"final_gender_code\") == 2), F.sum('clk').over(window)))\n",
    "    )\n",
    "\n",
    "    return window_df\n",
    "    \n",
    "window_df = ad_window_functions(window_df)\n",
    "window_df.show()"
   ]
  },
  {
   "cell_type": "code",
   "execution_count": 61,
   "id": "87c1dfc7-0359-43df-b026-7b090123663a",
   "metadata": {},
   "outputs": [
    {
     "name": "stderr",
     "output_type": "stream",
     "text": [
      "[Stage 697:=====================================================> (33 + 1) / 34]\r"
     ]
    },
    {
     "name": "stdout",
     "output_type": "stream",
     "text": [
      "+-------+----------+----------+-----------+------+---+---------+------------+-----------------+---------+------------+--------------+----------+---------------------+-------+-----------+--------+------+------+-------------------+-------------------+----------+--------+----+---------+--------+---------+-------------+-----------------+--------------+------------------+----------+--------------+-----------------+---------------------+---------------+-------------------+\n",
      "| userid|adgroup_id|time_stamp|        pid|nonclk|clk|cms_segid|cms_group_id|final_gender_code|age_level|pvalue_level|shopping_level|occupation|new_user_class_level |cate_id|campaign_id|customer| brand| price|               time|           last_row|ad_gap_sec|clk_rate|hour|timestamp|ad_count|clk_count|adgroup_count|adgroup_clk_count|campaign_count|campaign_clk_count|cate_count|cate_clk_count|female_cate_count|female_cate_clk_count|male_cate_count|male_cate_clk_count|\n",
      "+-------+----------+----------+-----------+------+---+---------+------------+-----------------+---------+------------+--------------+----------+---------------------+-------+-----------+--------+------+------+-------------------+-------------------+----------+--------+----+---------+--------+---------+-------------+-----------------+--------------+------------------+----------+--------------+-----------------+---------------------+---------------+-------------------+\n",
      "| 862149|    590288|1494003675|430539_1007|     1|  0|        0|          10|                1|        4|        NULL|             3|         0|                    1|     31|     359510|   56319| 49899|5400.0|2017-05-05 10:01:15|2017-05-05 10:01:15|         0|   0.023|  10|    night|       3|        0|            1|                0|             1|                 0|         1|             0|                1|                    0|           NULL|               NULL|\n",
      "| 629123|    290601|1494025619|430548_1007|     1|  0|        0|           2|                2|        2|           1|             3|         0|                 NULL|     31|      94689|  136098|107382|2588.0|2017-05-05 16:06:59|               NULL|      NULL|   0.222|  16|    night|       3|        1|            1|                0|             1|                 0|         2|             0|             NULL|                 NULL|              2|                  0|\n",
      "| 805389|    290601|1494026615|430548_1007|     1|  0|        0|          11|                1|        5|        NULL|             2|         0|                    2|     31|      94689|  136098|107382|2588.0|2017-05-05 16:23:35|2017-05-05 16:23:35|         0|     0.0|  16|    night|       3|        0|            2|                0|             2|                 0|         3|             0|                3|                    0|           NULL|               NULL|\n",
      "| 556456|    396690|1494028006|430548_1007|     1|  0|        0|           9|                1|        3|        NULL|             3|         0|                    4|     31|     280925|   25094|316005|9000.0|2017-05-05 16:46:46|2017-05-05 16:46:46|         0|     0.0|  16|    night|       3|        0|            1|                0|             1|                 0|         5|             0|                5|                    0|           NULL|               NULL|\n",
      "| 556456|    202941|1494028006|430548_1007|     1|  0|        0|           9|                1|        3|        NULL|             3|         0|                    4|     31|     251197|   33039|107382|2899.0|2017-05-05 16:46:46|               NULL|      NULL|     0.0|  16|    night|       3|        0|            1|                0|             1|                 0|         5|             0|                5|                    0|           NULL|               NULL|\n",
      "| 784574|     97583|1494028986|430548_1007|     1|  0|       92|          11|                1|        5|           2|             3|         0|                    3|     31|     141544|   80559| 30908|4080.0|2017-05-05 17:03:06|               NULL|      NULL|     0.0|  17|    night|       2|        0|            1|                0|             1|                 0|         6|             0|                6|                    0|           NULL|               NULL|\n",
      "| 378955|    499645|1494030267|430539_1007|     1|  0|       93|          11|                1|        5|           3|             3|         0|                    2|     31|      94689|  136098|107382|3688.0|2017-05-05 17:24:27|2017-05-05 17:24:27|         0|   0.133|  17|    night|       3|        1|            1|                0|             3|                 0|         7|             0|                7|                    0|           NULL|               NULL|\n",
      "|1033147|    202941|1494030824|430548_1007|     1|  0|        0|          10|                1|        4|        NULL|             3|         0|                 NULL|     31|     251197|   33039|107382|2899.0|2017-05-05 17:33:44|               NULL|      NULL|     0.0|  17|    night|       2|        0|            2|                0|             2|                 0|         8|             0|                8|                    0|           NULL|               NULL|\n",
      "| 107899|    445718|1494032093|430548_1007|     1|  0|        0|           9|                1|        3|        NULL|             3|         0|                    3|     31|     296251|   89033| 72619|9000.0|2017-05-05 17:54:53|2017-05-05 17:54:53|         0|     0.0|  17|    night|       2|        0|            1|                0|             1|                 0|         9|             0|                9|                    0|           NULL|               NULL|\n",
      "|1015113|    290601|1494033961|430539_1007|     1|  0|        0|          11|                1|        5|        NULL|             3|         0|                    2|     31|      94689|  136098|107382|2588.0|2017-05-05 18:26:01|2017-05-05 18:26:01|         0|   0.143|  18|    night|       3|        0|            3|                0|             4|                 0|        10|             0|               10|                    0|           NULL|               NULL|\n",
      "| 600549|    290601|1494035688|430548_1007|     1|  0|       81|          10|                1|        4|           2|             3|         0|                    3|     31|      94689|  136098|107382|2588.0|2017-05-05 18:54:48|2017-05-05 18:54:48|         0|     0.0|  18|    night|       3|        0|            4|                0|             5|                 0|        11|             0|               11|                    0|           NULL|               NULL|\n",
      "| 106059|    290601|1494039579|430539_1007|     1|  0|       67|           9|                1|        3|           2|             3|         0|                    3|     31|      94689|  136098|107382|2588.0|2017-05-05 19:59:39|               NULL|      NULL|     0.0|  19|    night|       1|        0|            5|                0|             6|                 0|        12|             0|               12|                    0|           NULL|               NULL|\n",
      "| 695981|    290601|1494042270|430548_1007|     1|  0|       92|          11|                1|        5|           3|             3|         0|                    4|     31|      94689|  136098|107382|2588.0|2017-05-05 20:44:30|2017-05-05 20:44:30|         0|   0.037|  20|    night|       3|        0|            6|                0|             7|                 0|        13|             0|               13|                    0|           NULL|               NULL|\n",
      "| 756494|    445718|1494047798|430548_1007|     1|  0|       19|           3|                2|        3|           2|             3|         0|                    2|     31|     296251|   89033| 72619|9000.0|2017-05-05 22:16:38|2017-05-05 22:16:38|         0|   0.014|  22|    night|      10|        0|            2|                0|             2|                 0|        15|             0|             NULL|                 NULL|             15|                  0|\n",
      "| 756494|    130666|1494047798|430548_1007|     1|  0|       19|           3|                2|        3|           2|             3|         0|                    2|     31|     237933|   52485|  NULL|1500.0|2017-05-05 22:16:38|               NULL|      NULL|   0.014|  22|    night|      10|        0|            1|                0|             1|                 0|        15|             0|             NULL|                 NULL|             15|                  0|\n",
      "| 801164|    325362|1494049952|430548_1007|     0|  1|        0|          11|                1|        5|        NULL|             3|         0|                    4|     31|     107689|  165992|  NULL|2850.0|2017-05-05 22:52:32|2017-05-05 22:52:32|         0|   0.113|  22|    night|       3|        1|            1|                1|             1|                 1|        16|             1|               16|                    1|           NULL|               NULL|\n",
      "| 416678|    338627|1494052647|430548_1007|     1|  0|        0|          11|                1|        5|        NULL|             2|         0|                 NULL|     31|     116947|  168491|316005|2000.0|2017-05-05 23:37:27|2017-05-05 23:37:27|         0|     0.0|  23|    night|       6|        0|            1|                0|             1|                 0|        19|             1|               19|                    1|           NULL|               NULL|\n",
      "| 416678|    201780|1494052647|430548_1007|     1|  0|        0|          11|                1|        5|        NULL|             2|         0|                 NULL|     31|     206758|   32183|107382|2400.0|2017-05-05 23:37:27|2017-05-05 23:37:27|         0|     0.0|  23|    night|       6|        0|            1|                0|             1|                 0|        19|             1|               19|                    1|           NULL|               NULL|\n",
      "| 416678|    288784|1494052647|430548_1007|     1|  0|        0|          11|                1|        5|        NULL|             2|         0|                 NULL|     31|     213355|   30694|  NULL|2900.0|2017-05-05 23:37:27|2017-05-05 18:03:46|     20021|     0.0|  23|    night|       6|        0|            1|                0|             1|                 0|        19|             1|               19|                    1|           NULL|               NULL|\n",
      "|  52311|    290601|1494052657|430548_1007|     1|  0|        0|           9|                1|        3|        NULL|             3|         0|                    3|     31|      94689|  136098|107382|2588.0|2017-05-05 23:37:37|               NULL|      NULL|     0.0|  23|    night|       3|        0|            7|                0|             8|                 0|        20|             1|               20|                    1|           NULL|               NULL|\n",
      "+-------+----------+----------+-----------+------+---+---------+------------+-----------------+---------+------------+--------------+----------+---------------------+-------+-----------+--------+------+------+-------------------+-------------------+----------+--------+----+---------+--------+---------+-------------+-----------------+--------------+------------------+----------+--------------+-----------------+---------------------+---------------+-------------------+\n",
      "only showing top 20 rows\n",
      "\n"
     ]
    },
    {
     "name": "stderr",
     "output_type": "stream",
     "text": [
      "                                                                                \r"
     ]
    }
   ],
   "source": [
    "def ad_window_functions(df):\n",
    "    window = W.partitionBy('cate_id', 'final_gender_code').orderBy('time')\n",
    "    \n",
    "    window_df = (\n",
    "        df\n",
    "        .withColumn('cat_gender_ad_count', F.count('clk').over(window))\n",
    "        .withColumn('cat_gender_ad_clk_count', F.sum('clk').over(window))\n",
    "    )\n",
    "\n",
    "    return window_df\n",
    "    \n",
    "window_df = ad_window_functions(window_df)\n",
    "window_df.show()"
   ]
  },
  {
   "cell_type": "code",
   "execution_count": 61,
   "id": "1f6a36d4-37a6-41c5-866c-d4bc3d71d4e0",
   "metadata": {},
   "outputs": [
    {
     "name": "stderr",
     "output_type": "stream",
     "text": [
      "[Stage 697:=====================================================> (33 + 1) / 34]\r"
     ]
    },
    {
     "name": "stdout",
     "output_type": "stream",
     "text": [
      "+-------+----------+----------+-----------+------+---+---------+------------+-----------------+---------+------------+--------------+----------+---------------------+-------+-----------+--------+------+------+-------------------+-------------------+----------+--------+----+---------+--------+---------+-------------+-----------------+--------------+------------------+----------+--------------+-----------------+---------------------+---------------+-------------------+\n",
      "| userid|adgroup_id|time_stamp|        pid|nonclk|clk|cms_segid|cms_group_id|final_gender_code|age_level|pvalue_level|shopping_level|occupation|new_user_class_level |cate_id|campaign_id|customer| brand| price|               time|           last_row|ad_gap_sec|clk_rate|hour|timestamp|ad_count|clk_count|adgroup_count|adgroup_clk_count|campaign_count|campaign_clk_count|cate_count|cate_clk_count|female_cate_count|female_cate_clk_count|male_cate_count|male_cate_clk_count|\n",
      "+-------+----------+----------+-----------+------+---+---------+------------+-----------------+---------+------------+--------------+----------+---------------------+-------+-----------+--------+------+------+-------------------+-------------------+----------+--------+----+---------+--------+---------+-------------+-----------------+--------------+------------------+----------+--------------+-----------------+---------------------+---------------+-------------------+\n",
      "| 862149|    590288|1494003675|430539_1007|     1|  0|        0|          10|                1|        4|        NULL|             3|         0|                    1|     31|     359510|   56319| 49899|5400.0|2017-05-05 10:01:15|2017-05-05 10:01:15|         0|   0.023|  10|    night|       3|        0|            1|                0|             1|                 0|         1|             0|                1|                    0|           NULL|               NULL|\n",
      "| 629123|    290601|1494025619|430548_1007|     1|  0|        0|           2|                2|        2|           1|             3|         0|                 NULL|     31|      94689|  136098|107382|2588.0|2017-05-05 16:06:59|               NULL|      NULL|   0.222|  16|    night|       3|        1|            1|                0|             1|                 0|         2|             0|             NULL|                 NULL|              2|                  0|\n",
      "| 805389|    290601|1494026615|430548_1007|     1|  0|        0|          11|                1|        5|        NULL|             2|         0|                    2|     31|      94689|  136098|107382|2588.0|2017-05-05 16:23:35|2017-05-05 16:23:35|         0|     0.0|  16|    night|       3|        0|            2|                0|             2|                 0|         3|             0|                3|                    0|           NULL|               NULL|\n",
      "| 556456|    396690|1494028006|430548_1007|     1|  0|        0|           9|                1|        3|        NULL|             3|         0|                    4|     31|     280925|   25094|316005|9000.0|2017-05-05 16:46:46|2017-05-05 16:46:46|         0|     0.0|  16|    night|       3|        0|            1|                0|             1|                 0|         5|             0|                5|                    0|           NULL|               NULL|\n",
      "| 556456|    202941|1494028006|430548_1007|     1|  0|        0|           9|                1|        3|        NULL|             3|         0|                    4|     31|     251197|   33039|107382|2899.0|2017-05-05 16:46:46|               NULL|      NULL|     0.0|  16|    night|       3|        0|            1|                0|             1|                 0|         5|             0|                5|                    0|           NULL|               NULL|\n",
      "| 784574|     97583|1494028986|430548_1007|     1|  0|       92|          11|                1|        5|           2|             3|         0|                    3|     31|     141544|   80559| 30908|4080.0|2017-05-05 17:03:06|               NULL|      NULL|     0.0|  17|    night|       2|        0|            1|                0|             1|                 0|         6|             0|                6|                    0|           NULL|               NULL|\n",
      "| 378955|    499645|1494030267|430539_1007|     1|  0|       93|          11|                1|        5|           3|             3|         0|                    2|     31|      94689|  136098|107382|3688.0|2017-05-05 17:24:27|2017-05-05 17:24:27|         0|   0.133|  17|    night|       3|        1|            1|                0|             3|                 0|         7|             0|                7|                    0|           NULL|               NULL|\n",
      "|1033147|    202941|1494030824|430548_1007|     1|  0|        0|          10|                1|        4|        NULL|             3|         0|                 NULL|     31|     251197|   33039|107382|2899.0|2017-05-05 17:33:44|               NULL|      NULL|     0.0|  17|    night|       2|        0|            2|                0|             2|                 0|         8|             0|                8|                    0|           NULL|               NULL|\n",
      "| 107899|    445718|1494032093|430548_1007|     1|  0|        0|           9|                1|        3|        NULL|             3|         0|                    3|     31|     296251|   89033| 72619|9000.0|2017-05-05 17:54:53|2017-05-05 17:54:53|         0|     0.0|  17|    night|       2|        0|            1|                0|             1|                 0|         9|             0|                9|                    0|           NULL|               NULL|\n",
      "|1015113|    290601|1494033961|430539_1007|     1|  0|        0|          11|                1|        5|        NULL|             3|         0|                    2|     31|      94689|  136098|107382|2588.0|2017-05-05 18:26:01|2017-05-05 18:26:01|         0|   0.143|  18|    night|       3|        0|            3|                0|             4|                 0|        10|             0|               10|                    0|           NULL|               NULL|\n",
      "| 600549|    290601|1494035688|430548_1007|     1|  0|       81|          10|                1|        4|           2|             3|         0|                    3|     31|      94689|  136098|107382|2588.0|2017-05-05 18:54:48|2017-05-05 18:54:48|         0|     0.0|  18|    night|       3|        0|            4|                0|             5|                 0|        11|             0|               11|                    0|           NULL|               NULL|\n",
      "| 106059|    290601|1494039579|430539_1007|     1|  0|       67|           9|                1|        3|           2|             3|         0|                    3|     31|      94689|  136098|107382|2588.0|2017-05-05 19:59:39|               NULL|      NULL|     0.0|  19|    night|       1|        0|            5|                0|             6|                 0|        12|             0|               12|                    0|           NULL|               NULL|\n",
      "| 695981|    290601|1494042270|430548_1007|     1|  0|       92|          11|                1|        5|           3|             3|         0|                    4|     31|      94689|  136098|107382|2588.0|2017-05-05 20:44:30|2017-05-05 20:44:30|         0|   0.037|  20|    night|       3|        0|            6|                0|             7|                 0|        13|             0|               13|                    0|           NULL|               NULL|\n",
      "| 756494|    445718|1494047798|430548_1007|     1|  0|       19|           3|                2|        3|           2|             3|         0|                    2|     31|     296251|   89033| 72619|9000.0|2017-05-05 22:16:38|2017-05-05 22:16:38|         0|   0.014|  22|    night|      10|        0|            2|                0|             2|                 0|        15|             0|             NULL|                 NULL|             15|                  0|\n",
      "| 756494|    130666|1494047798|430548_1007|     1|  0|       19|           3|                2|        3|           2|             3|         0|                    2|     31|     237933|   52485|  NULL|1500.0|2017-05-05 22:16:38|               NULL|      NULL|   0.014|  22|    night|      10|        0|            1|                0|             1|                 0|        15|             0|             NULL|                 NULL|             15|                  0|\n",
      "| 801164|    325362|1494049952|430548_1007|     0|  1|        0|          11|                1|        5|        NULL|             3|         0|                    4|     31|     107689|  165992|  NULL|2850.0|2017-05-05 22:52:32|2017-05-05 22:52:32|         0|   0.113|  22|    night|       3|        1|            1|                1|             1|                 1|        16|             1|               16|                    1|           NULL|               NULL|\n",
      "| 416678|    338627|1494052647|430548_1007|     1|  0|        0|          11|                1|        5|        NULL|             2|         0|                 NULL|     31|     116947|  168491|316005|2000.0|2017-05-05 23:37:27|2017-05-05 23:37:27|         0|     0.0|  23|    night|       6|        0|            1|                0|             1|                 0|        19|             1|               19|                    1|           NULL|               NULL|\n",
      "| 416678|    201780|1494052647|430548_1007|     1|  0|        0|          11|                1|        5|        NULL|             2|         0|                 NULL|     31|     206758|   32183|107382|2400.0|2017-05-05 23:37:27|2017-05-05 23:37:27|         0|     0.0|  23|    night|       6|        0|            1|                0|             1|                 0|        19|             1|               19|                    1|           NULL|               NULL|\n",
      "| 416678|    288784|1494052647|430548_1007|     1|  0|        0|          11|                1|        5|        NULL|             2|         0|                 NULL|     31|     213355|   30694|  NULL|2900.0|2017-05-05 23:37:27|2017-05-05 18:03:46|     20021|     0.0|  23|    night|       6|        0|            1|                0|             1|                 0|        19|             1|               19|                    1|           NULL|               NULL|\n",
      "|  52311|    290601|1494052657|430548_1007|     1|  0|        0|           9|                1|        3|        NULL|             3|         0|                    3|     31|      94689|  136098|107382|2588.0|2017-05-05 23:37:37|               NULL|      NULL|     0.0|  23|    night|       3|        0|            7|                0|             8|                 0|        20|             1|               20|                    1|           NULL|               NULL|\n",
      "+-------+----------+----------+-----------+------+---+---------+------------+-----------------+---------+------------+--------------+----------+---------------------+-------+-----------+--------+------+------+-------------------+-------------------+----------+--------+----+---------+--------+---------+-------------+-----------------+--------------+------------------+----------+--------------+-----------------+---------------------+---------------+-------------------+\n",
      "only showing top 20 rows\n",
      "\n"
     ]
    },
    {
     "name": "stderr",
     "output_type": "stream",
     "text": [
      "                                                                                \r"
     ]
    }
   ],
   "source": [
    "def ad_window_functions(df):\n",
    "    window = W.partitionBy('cate_id', 'final_gender_code').orderBy('time')\n",
    "    \n",
    "    window_df = (\n",
    "        df\n",
    "        .withColumn('cat_gender_ad_count', F.count('clk').over(window))\n",
    "        .withColumn('cat_gender_ad_clk_count', F.sum('clk').over(window))\n",
    "    )\n",
    "\n",
    "    return window_df\n",
    "    \n",
    "window_df = ad_window_functions(window_df)\n",
    "window_df.show()"
   ]
  },
  {
   "cell_type": "code",
   "execution_count": null,
   "id": "2ee3b7cc-8ebc-402e-8721-cf419f35cbc8",
   "metadata": {},
   "outputs": [],
   "source": []
  },
  {
   "cell_type": "code",
   "execution_count": null,
   "id": "892e6219-c9aa-4ac3-8bd8-46314e21a4eb",
   "metadata": {},
   "outputs": [],
   "source": []
  },
  {
   "cell_type": "code",
   "execution_count": null,
   "id": "97123352-e826-4c33-b50b-85ade53ae01f",
   "metadata": {},
   "outputs": [],
   "source": []
  }
 ],
 "metadata": {
  "kernelspec": {
   "display_name": "Python 3 (ipykernel)",
   "language": "python",
   "name": "python3"
  },
  "language_info": {
   "codemirror_mode": {
    "name": "ipython",
    "version": 3
   },
   "file_extension": ".py",
   "mimetype": "text/x-python",
   "name": "python",
   "nbconvert_exporter": "python",
   "pygments_lexer": "ipython3",
   "version": "3.10.12"
  }
 },
 "nbformat": 4,
 "nbformat_minor": 5
}
