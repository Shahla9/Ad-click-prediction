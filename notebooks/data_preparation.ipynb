{
 "cells": [
  {
   "cell_type": "markdown",
   "id": "97bed70e-3951-4055-9e33-a1a0bad43bad",
   "metadata": {},
   "source": [
    "# init"
   ]
  },
  {
   "cell_type": "markdown",
   "id": "bb75388f-4320-4f89-97a3-5bda43f138ee",
   "metadata": {},
   "source": [
    "## imports"
   ]
  },
  {
   "cell_type": "code",
   "execution_count": 1,
   "id": "98f5668e-4962-4c54-96b7-79325b1e95b0",
   "metadata": {},
   "outputs": [],
   "source": [
    "import matplotlib.pyplot as plt\n",
    "import pandas as pd\n",
    "import warnings\n",
    "\n",
    "from pyspark.sql import functions as F\n",
    "from pyspark.sql import SparkSession\n",
    "from pyspark.sql import types as T\n",
    "from pyspark.sql import Window as W\n",
    "\n",
    "warnings.filterwarnings('ignore')"
   ]
  },
  {
   "cell_type": "markdown",
   "id": "3603e1b4-7127-4a1a-823a-55604286675b",
   "metadata": {},
   "source": [
    "## configs"
   ]
  },
  {
   "cell_type": "code",
   "execution_count": 2,
   "id": "767c8c76-eb97-4ba7-a98b-77531ca3a94a",
   "metadata": {},
   "outputs": [],
   "source": [
    "SPARK_THREADS = 16\n",
    "SPARK_MEMORY = 16\n",
    "SPARK_TIMEZONE = 'America/Vancouver'"
   ]
  },
  {
   "cell_type": "code",
   "execution_count": 3,
   "id": "b53e2760-16f0-4c2f-932d-6d5361ac577f",
   "metadata": {},
   "outputs": [],
   "source": [
    "BASE_PATH = ('/home/shaghayegh/class/ad_click/data/')\n",
    "USER_DATA_PATH = BASE_PATH + 'raw_data/user_profile.csv'\n",
    "AD_CLICK_DATA_PATH = BASE_PATH + 'raw_data/raw_sample.csv'\n",
    "AD_INFO_DATA_PATH = BASE_PATH + 'raw_data/ad_feature.csv'\n",
    "\n",
    "MERGED_DATA_PATH = BASE_PATH + 'merged.parquet'\n",
    "DATASET_PATH = BASE_PATH + 'dataset.parquet'"
   ]
  },
  {
   "cell_type": "markdown",
   "id": "3b5cee49-85c7-43dd-9b51-c0c1bac3afa3",
   "metadata": {},
   "source": [
    "## spark instantiation"
   ]
  },
  {
   "cell_type": "code",
   "execution_count": 4,
   "id": "319ea4d0-6758-4603-8d40-b3b17299e1e0",
   "metadata": {},
   "outputs": [
    {
     "name": "stderr",
     "output_type": "stream",
     "text": [
      "24/04/08 08:59:19 WARN Utils: Your hostname, shaghayegh-ubuntu resolves to a loopback address: 127.0.1.1; using 10.0.0.66 instead (on interface wlp92s0)\n",
      "24/04/08 08:59:19 WARN Utils: Set SPARK_LOCAL_IP if you need to bind to another address\n",
      "Setting default log level to \"WARN\".\n",
      "To adjust logging level use sc.setLogLevel(newLevel). For SparkR, use setLogLevel(newLevel).\n",
      "24/04/08 08:59:19 WARN NativeCodeLoader: Unable to load native-hadoop library for your platform... using builtin-java classes where applicable\n"
     ]
    }
   ],
   "source": [
    "spark = (\n",
    "    SparkSession \n",
    "    .builder \n",
    "    .master('local[{}]'.format(SPARK_THREADS)) \n",
    "    .config('spark.driver.memory', '{}g'.format(SPARK_MEMORY)) \n",
    "    .config('spark.sql.session.timeZone', SPARK_TIMEZONE) \n",
    "    .getOrCreate()\n",
    ")"
   ]
  },
  {
   "cell_type": "markdown",
   "id": "b7f7c8f9-2167-403c-8fb8-c48d0072fbf1",
   "metadata": {},
   "source": [
    "## util"
   ]
  },
  {
   "cell_type": "code",
   "execution_count": 5,
   "id": "3e80140c-24ca-45d6-b0a7-0c0a2f59e1b6",
   "metadata": {},
   "outputs": [],
   "source": [
    "def summerize_df(df):\n",
    "    print(df.count())\n",
    "    df.show(3)"
   ]
  },
  {
   "cell_type": "markdown",
   "id": "2e050424-07ee-4feb-b3da-090e08abad10",
   "metadata": {},
   "source": [
    "# load data"
   ]
  },
  {
   "cell_type": "code",
   "execution_count": 6,
   "id": "2ed14114-57b6-4f19-b249-d2253cb553f3",
   "metadata": {},
   "outputs": [
    {
     "name": "stdout",
     "output_type": "stream",
     "text": [
      "1061768\n",
      "+------+---------+------------+-----------------+---------+------------+--------------+----------+---------------------+\n",
      "|userid|cms_segid|cms_group_id|final_gender_code|age_level|pvalue_level|shopping_level|occupation|new_user_class_level |\n",
      "+------+---------+------------+-----------------+---------+------------+--------------+----------+---------------------+\n",
      "|   234|        0|           5|                2|        5|        NULL|             3|         0|                    3|\n",
      "|   523|        5|           2|                2|        2|           1|             3|         1|                    2|\n",
      "|   612|        0|           8|                1|        2|           2|             3|         0|                 NULL|\n",
      "+------+---------+------------+-----------------+---------+------------+--------------+----------+---------------------+\n",
      "only showing top 3 rows\n",
      "\n"
     ]
    }
   ],
   "source": [
    "user_df = spark.read.csv(USER_DATA_PATH, header = True, inferSchema=True)\n",
    "summerize_df(user_df)"
   ]
  },
  {
   "cell_type": "code",
   "execution_count": 7,
   "id": "70cb8248-9b19-493e-b9b7-182d4c802683",
   "metadata": {},
   "outputs": [
    {
     "name": "stdout",
     "output_type": "stream",
     "text": [
      "846811\n",
      "+----------+-------+-----------+--------+-----+-----+\n",
      "|adgroup_id|cate_id|campaign_id|customer|brand|price|\n",
      "+----------+-------+-----------+--------+-----+-----+\n",
      "|     63133|   6406|      83237|       1|95471|170.0|\n",
      "|    313401|   6406|      83237|       1|87331|199.0|\n",
      "|    248909|    392|      83237|       1|32233| 38.0|\n",
      "+----------+-------+-----------+--------+-----+-----+\n",
      "only showing top 3 rows\n",
      "\n"
     ]
    }
   ],
   "source": [
    "ad_info_df = spark.read.csv(AD_INFO_DATA_PATH, header = True, inferSchema=True)\n",
    "summerize_df(ad_info_df)"
   ]
  },
  {
   "cell_type": "code",
   "execution_count": 8,
   "id": "1020e7a5-4064-4ae9-9ed5-4ef29c1fd495",
   "metadata": {},
   "outputs": [
    {
     "name": "stderr",
     "output_type": "stream",
     "text": [
      "[Stage 14:>                                                       (0 + 16) / 16]\r"
     ]
    },
    {
     "name": "stdout",
     "output_type": "stream",
     "text": [
      "26557961\n",
      "+------+----------+----------+-----------+------+---+\n",
      "|  user|time_stamp|adgroup_id|        pid|nonclk|clk|\n",
      "+------+----------+----------+-----------+------+---+\n",
      "|581738|1494137644|         1|430548_1007|     1|  0|\n",
      "|449818|1494638778|         3|430548_1007|     1|  0|\n",
      "|914836|1494650879|         4|430548_1007|     1|  0|\n",
      "+------+----------+----------+-----------+------+---+\n",
      "only showing top 3 rows\n",
      "\n"
     ]
    },
    {
     "name": "stderr",
     "output_type": "stream",
     "text": [
      "                                                                                \r"
     ]
    }
   ],
   "source": [
    "ad_click_df = spark.read.csv(AD_CLICK_DATA_PATH, header = True, inferSchema=True)\n",
    "summerize_df(ad_click_df)"
   ]
  },
  {
   "cell_type": "markdown",
   "id": "6a59254f-455e-4c4b-9cb5-349f9d6040c9",
   "metadata": {},
   "source": [
    "# join"
   ]
  },
  {
   "cell_type": "code",
   "execution_count": 10,
   "id": "adcbec65-3af0-4959-bf29-b8170453bf72",
   "metadata": {},
   "outputs": [
    {
     "name": "stderr",
     "output_type": "stream",
     "text": [
      "                                                                                \r"
     ]
    },
    {
     "name": "stdout",
     "output_type": "stream",
     "text": [
      "25029435\n"
     ]
    },
    {
     "name": "stderr",
     "output_type": "stream",
     "text": [
      "[Stage 45:====================================================>   (16 + 1) / 17]\r"
     ]
    },
    {
     "name": "stdout",
     "output_type": "stream",
     "text": [
      "+----------+-------+----------+-----------+------+---+---------+------------+-----------------+---------+------------+--------------+----------+---------------------+-------+-----------+--------+------+-----+\n",
      "|adgroup_id| userid|time_stamp|        pid|nonclk|clk|cms_segid|cms_group_id|final_gender_code|age_level|pvalue_level|shopping_level|occupation|new_user_class_level |cate_id|campaign_id|customer| brand|price|\n",
      "+----------+-------+----------+-----------+------+---+---------+------------+-----------------+---------+------------+--------------+----------+---------------------+-------+-----------+--------+------+-----+\n",
      "|        31| 989702|1494097392|430539_1007|     1|  0|       79|          10|                1|        4|           2|             3|         0|                    1|   8633|     398003|   52607|  NULL| 11.0|\n",
      "|        34| 838097|1494478055|430539_1007|     1|  0|       81|          10|                1|        4|           2|             3|         0|                    3|   1607|     103033|     697|351548|316.0|\n",
      "|        53|1140786|1494201762|430548_1007|     1|  0|        0|           4|                2|        4|        NULL|             3|         0|                 NULL|   7214|     140326|   22145|372026| 19.0|\n",
      "+----------+-------+----------+-----------+------+---+---------+------------+-----------------+---------+------------+--------------+----------+---------------------+-------+-----------+--------+------+-----+\n",
      "only showing top 3 rows\n",
      "\n"
     ]
    },
    {
     "name": "stderr",
     "output_type": "stream",
     "text": [
      "                                                                                \r"
     ]
    }
   ],
   "source": [
    "ad_click_df = ad_click_df.withColumnRenamed('user', 'userid')\n",
    "\n",
    "ad_click_user_df = ad_click_df.join(user_df, on='userid')\n",
    "merged_df = ad_click_user_df.join(ad_info_df, on='adgroup_id')\n",
    "\n",
    "merged_df.write.partitionBy('age_level', 'final_gender_code').parquet(MERGED_DATA_PATH)\n",
    "summerize_df(merged_df)"
   ]
  },
  {
   "cell_type": "code",
   "execution_count": 7,
   "id": "8e3469a7-5313-49e9-bcbf-bdbe73f83e7b",
   "metadata": {},
   "outputs": [
    {
     "name": "stderr",
     "output_type": "stream",
     "text": [
      "                                                                                \r"
     ]
    },
    {
     "name": "stdout",
     "output_type": "stream",
     "text": [
      "25029435\n",
      "+----------+------+----------+-----------+------+---+---------+------------+------------+--------------+----------+---------------------+-------+-----------+--------+-----+-----+---------+-----------------+-------------------+\n",
      "|adgroup_id|userid|time_stamp|        pid|nonclk|clk|cms_segid|cms_group_id|pvalue_level|shopping_level|occupation|new_user_class_level |cate_id|campaign_id|customer|brand|price|age_level|final_gender_code|               time|\n",
      "+----------+------+----------+-----------+------+---+---------+------------+------------+--------------+----------+---------------------+-------+-----------+--------+-----+-----+---------+-----------------+-------------------+\n",
      "|       107|753380|1494597575|430548_1007|     1|  0|        0|           3|        NULL|             3|         0|                    4|    619|     115758|    2461| NULL| 33.6|        3|                2|2017-05-12 06:59:35|\n",
      "|       107|479850|1494159370|430539_1007|     1|  0|        0|           3|        NULL|             3|         0|                 NULL|    619|     115758|    2461| NULL| 33.6|        3|                2|2017-05-07 05:16:10|\n",
      "|       107|149701|1494168478|430539_1007|     1|  0|       19|           3|           2|             3|         0|                    2|    619|     115758|    2461| NULL| 33.6|        3|                2|2017-05-07 07:47:58|\n",
      "+----------+------+----------+-----------+------+---+---------+------------+------------+--------------+----------+---------------------+-------+-----------+--------+-----+-----+---------+-----------------+-------------------+\n",
      "only showing top 3 rows\n",
      "\n"
     ]
    }
   ],
   "source": [
    "merged_df = spark.read.parquet(MERGED_DATA_PATH).withColumn('time', F.from_unixtime('time_stamp'))\n",
    "merged_df.persist()\n",
    "summerize_df(merged_df)"
   ]
  },
  {
   "cell_type": "markdown",
   "id": "9bb68661-37f3-4400-9ef5-72eee7413808",
   "metadata": {},
   "source": [
    "# features preparation"
   ]
  },
  {
   "cell_type": "markdown",
   "id": "ba8b64a1-83d3-4eef-8f55-e7b8257f3007",
   "metadata": {},
   "source": [
    "## userid features"
   ]
  },
  {
   "cell_type": "code",
   "execution_count": 8,
   "id": "0999edc2-bfea-4cb3-87bb-4d140731f9a1",
   "metadata": {
    "scrolled": true
   },
   "outputs": [
    {
     "name": "stderr",
     "output_type": "stream",
     "text": [
      "[Stage 8:===========================================>             (13 + 4) / 17]\r"
     ]
    },
    {
     "name": "stdout",
     "output_type": "stream",
     "text": [
      "+------+-------------------+-------------+-----------------+\n",
      "|userid|               time|user_ad_count|user_ad_clk_count|\n",
      "+------+-------------------+-------------+-----------------+\n",
      "|     1|2017-05-10 21:50:36|            0|             NULL|\n",
      "|     1|2017-05-11 23:45:25|            1|                0|\n",
      "|     1|2017-05-11 23:45:25|            2|                0|\n",
      "|     1|2017-05-11 23:45:25|            3|                0|\n",
      "|     2|2017-05-08 06:33:12|            0|             NULL|\n",
      "|     2|2017-05-08 06:33:12|            1|                1|\n",
      "|     2|2017-05-08 06:33:12|            2|                1|\n",
      "|     3|2017-05-07 16:07:35|            0|             NULL|\n",
      "|     3|2017-05-07 16:07:35|            1|                0|\n",
      "|     3|2017-05-07 16:41:33|            2|                1|\n",
      "|     3|2017-05-07 16:41:33|            3|                1|\n",
      "|     3|2017-05-07 16:41:33|            4|                1|\n",
      "|     3|2017-05-10 17:44:04|            5|                1|\n",
      "|     3|2017-05-10 17:44:04|            6|                1|\n",
      "|     3|2017-05-10 17:44:04|            7|                1|\n",
      "|     3|2017-05-10 18:26:43|            8|                1|\n",
      "|     3|2017-05-10 18:26:43|            9|                1|\n",
      "|     3|2017-05-10 18:26:43|           10|                1|\n",
      "|     3|2017-05-11 15:03:46|           11|                1|\n",
      "|     3|2017-05-11 18:03:25|           12|                1|\n",
      "|     3|2017-05-11 18:03:25|           13|                1|\n",
      "|     3|2017-05-11 18:03:25|           14|                1|\n",
      "|     4|2017-05-06 02:15:14|            0|             NULL|\n",
      "|     4|2017-05-06 02:15:14|            1|                0|\n",
      "|     4|2017-05-06 02:15:14|            2|                0|\n",
      "|     4|2017-05-06 02:15:14|            3|                0|\n",
      "|     4|2017-05-06 02:15:14|            4|                0|\n",
      "|     4|2017-05-06 02:15:14|            5|                0|\n",
      "|     4|2017-05-06 02:15:14|            6|                0|\n",
      "|     4|2017-05-06 02:15:14|            7|                0|\n",
      "|     4|2017-05-06 02:15:14|            8|                0|\n",
      "|     4|2017-05-06 02:15:14|            9|                0|\n",
      "|     4|2017-05-06 02:17:20|           10|                0|\n",
      "|     4|2017-05-06 02:17:20|           11|                0|\n",
      "|     4|2017-05-06 02:17:20|           12|                0|\n",
      "|     4|2017-05-06 02:17:20|           13|                0|\n",
      "|     4|2017-05-06 02:17:20|           14|                0|\n",
      "|     4|2017-05-06 02:17:20|           15|                0|\n",
      "|     4|2017-05-06 02:17:20|           16|                0|\n",
      "|     4|2017-05-06 02:17:20|           17|                0|\n",
      "|     4|2017-05-06 02:17:20|           18|                0|\n",
      "|     4|2017-05-06 02:17:20|           19|                0|\n",
      "|     4|2017-05-06 02:19:58|           20|                0|\n",
      "|     4|2017-05-06 02:19:58|           21|                0|\n",
      "|     4|2017-05-06 02:19:58|           22|                0|\n",
      "|     4|2017-05-06 02:19:58|           23|                0|\n",
      "|     4|2017-05-06 02:19:58|           24|                0|\n",
      "|     4|2017-05-06 02:19:58|           25|                0|\n",
      "|     4|2017-05-06 02:19:58|           26|                0|\n",
      "|     4|2017-05-06 02:19:58|           27|                0|\n",
      "+------+-------------------+-------------+-----------------+\n",
      "only showing top 50 rows\n",
      "\n"
     ]
    },
    {
     "name": "stderr",
     "output_type": "stream",
     "text": [
      "                                                                                \r"
     ]
    }
   ],
   "source": [
    "def get_user_features(df):\n",
    "    window = W.partitionBy('userid').orderBy('time').rowsBetween(W.unboundedPreceding,-1)\n",
    "    \n",
    "    return (\n",
    "        df\n",
    "        .withColumn('user_ad_count', F.count('clk').over(window))\n",
    "        .withColumn('user_ad_clk_count', F.sum('clk').over(window))\n",
    "    )\n",
    "    \n",
    "users_features_df = get_user_features(merged_df)\n",
    "users_features_df.select('userid', 'time', 'user_ad_count', 'user_ad_clk_count').sort('userid', 'time').show(50)"
   ]
  },
  {
   "cell_type": "markdown",
   "id": "1a7e0ddd-452d-4ce7-bafa-6958e8ccf882",
   "metadata": {},
   "source": [
    "## adgroup features"
   ]
  },
  {
   "cell_type": "code",
   "execution_count": 9,
   "id": "7184a5c8-3554-4cbc-9631-59a3f9d76072",
   "metadata": {
    "scrolled": true
   },
   "outputs": [
    {
     "name": "stderr",
     "output_type": "stream",
     "text": [
      "[Stage 11:====================================================>   (16 + 1) / 17]\r"
     ]
    },
    {
     "name": "stdout",
     "output_type": "stream",
     "text": [
      "+----------+-------------------+-------------+-----------------+\n",
      "|adgroup_id|               time|adgroup_count|adgroup_clk_count|\n",
      "+----------+-------------------+-------------+-----------------+\n",
      "|         1|2017-05-06 23:14:04|            0|             NULL|\n",
      "|         2|2017-05-08 17:38:53|            0|             NULL|\n",
      "|         2|2017-05-09 05:38:06|            1|                0|\n",
      "|         2|2017-05-10 00:33:38|            2|                0|\n",
      "|         2|2017-05-12 18:08:46|            3|                0|\n",
      "|         2|2017-05-12 18:43:57|            4|                0|\n",
      "|         2|2017-05-12 21:21:21|            5|                0|\n",
      "|         4|2017-05-12 21:47:59|            0|             NULL|\n",
      "|         5|2017-05-12 21:50:29|            0|             NULL|\n",
      "|         6|2017-05-12 23:27:30|            0|             NULL|\n",
      "|         7|2017-05-06 20:57:22|            0|             NULL|\n",
      "|         7|2017-05-09 03:06:09|            1|                0|\n",
      "|         7|2017-05-10 07:03:42|            2|                0|\n",
      "|         7|2017-05-11 16:11:56|            3|                0|\n",
      "|         8|2017-05-08 21:09:18|            0|             NULL|\n",
      "|         9|2017-05-10 17:29:53|            0|             NULL|\n",
      "|         9|2017-05-11 10:48:55|            1|                0|\n",
      "|        10|2017-05-05 15:47:23|            0|             NULL|\n",
      "|        10|2017-05-05 19:44:18|            1|                0|\n",
      "|        10|2017-05-07 04:32:48|            2|                0|\n",
      "|        11|2017-05-05 18:29:04|            0|             NULL|\n",
      "|        11|2017-05-05 19:12:23|            1|                0|\n",
      "|        11|2017-05-06 17:03:07|            2|                0|\n",
      "|        11|2017-05-08 22:18:56|            3|                0|\n",
      "|        11|2017-05-10 14:26:48|            4|                0|\n",
      "|        11|2017-05-12 14:41:41|            5|                0|\n",
      "|        12|2017-05-06 04:39:30|            0|             NULL|\n",
      "|        13|2017-05-06 19:33:16|            0|             NULL|\n",
      "|        13|2017-05-07 03:44:27|            1|                0|\n",
      "|        13|2017-05-07 04:35:49|            2|                0|\n",
      "+----------+-------------------+-------------+-----------------+\n",
      "only showing top 30 rows\n",
      "\n"
     ]
    },
    {
     "name": "stderr",
     "output_type": "stream",
     "text": [
      "                                                                                \r"
     ]
    }
   ],
   "source": [
    "def get_ad_features(df):\n",
    "    window = W.partitionBy('adgroup_id').orderBy('time').rowsBetween(W.unboundedPreceding,-1)\n",
    "    \n",
    "    return (\n",
    "        df\n",
    "        .withColumn('adgroup_count', F.count('clk').over(window))\n",
    "        .withColumn('adgroup_clk_count', F.sum('clk').over(window))\n",
    "    )\n",
    "    \n",
    "ad_features_df = get_ad_features(users_features_df)\n",
    "(\n",
    "    ad_features_df\n",
    "    .select('adgroup_id', 'time', 'adgroup_count', 'adgroup_clk_count')\n",
    "    .sort('adgroup_id', 'time')\n",
    "    .show(30)\n",
    ")"
   ]
  },
  {
   "cell_type": "markdown",
   "id": "5aaa20cd-c2fa-44a3-84d2-c3aed44ee0b9",
   "metadata": {},
   "source": [
    "## campaign features"
   ]
  },
  {
   "cell_type": "code",
   "execution_count": 10,
   "id": "5be8c092-2cdd-4b00-be93-af2a08ba7767",
   "metadata": {
    "scrolled": true
   },
   "outputs": [
    {
     "name": "stderr",
     "output_type": "stream",
     "text": [
      "24/03/28 09:10:56 WARN SparkStringUtils: Truncated the string representation of a plan since it was too large. This behavior can be adjusted by setting 'spark.sql.debug.maxToStringFields'.\n",
      "[Stage 17:======================================================> (32 + 1) / 33]\r"
     ]
    },
    {
     "name": "stdout",
     "output_type": "stream",
     "text": [
      "+----------+-------+----------+-----------+------+---+---------+------------+------------+--------------+----------+---------------------+-------+-----------+--------+-----+-----+---------+-----------------+-------------------+-------------+-----------------+-------------+-----------------+--------------+------------------+\n",
      "|adgroup_id| userid|time_stamp|        pid|nonclk|clk|cms_segid|cms_group_id|pvalue_level|shopping_level|occupation|new_user_class_level |cate_id|campaign_id|customer|brand|price|age_level|final_gender_code|               time|user_ad_count|user_ad_clk_count|adgroup_count|adgroup_clk_count|campaign_count|campaign_clk_count|\n",
      "+----------+-------+----------+-----------+------+---+---------+------------+------------+--------------+----------+---------------------+-------+-----------+--------+-----+-----+---------+-----------------+-------------------+-------------+-----------------+-------------+-----------------+--------------+------------------+\n",
      "|    698868| 803506|1494021093|430548_1007|     1|  0|        0|           5|        NULL|             1|         0|                 NULL|   6423|         31|   15142| NULL|158.0|        5|                2|2017-05-05 14:51:33|            1|                0|            0|             NULL|             0|              NULL|\n",
      "|    698868| 849260|1494031216|430539_1007|     1|  0|        0|           3|        NULL|             3|         0|                    4|   6423|         31|   15142| NULL|158.0|        3|                2|2017-05-05 17:40:16|           17|                0|            1|                0|             1|                 0|\n",
      "|    698868|  97520|1494035999|430548_1007|     1|  0|       16|           3|           1|             3|         0|                    2|   6423|         31|   15142| NULL|158.0|        3|                2|2017-05-05 18:59:59|            2|                1|            2|                0|             2|                 0|\n",
      "|    698868|1077466|1494038468|430548_1007|     1|  0|        0|           2|        NULL|             3|         0|                 NULL|   6423|         31|   15142| NULL|158.0|        2|                2|2017-05-05 19:41:08|            1|                0|            3|                0|             3|                 0|\n",
      "|    698868|  74549|1494046448|430548_1007|     1|  0|        0|           6|        NULL|             2|         0|                 NULL|   6423|         31|   15142| NULL|158.0|        6|                2|2017-05-05 21:54:08|            8|                0|            4|                0|             4|                 0|\n",
      "|    698868| 164855|1494049930|430548_1007|     1|  0|       45|           5|           2|             3|         0|                    4|   6423|         31|   15142| NULL|158.0|        5|                2|2017-05-05 22:52:10|            5|                0|            5|                0|             5|                 0|\n",
      "|    698868| 578355|1494051731|430548_1007|     1|  0|       89|          11|           1|             3|         0|                    3|   6423|         31|   15142| NULL|158.0|        5|                1|2017-05-05 23:22:11|            2|                0|            6|                0|             6|                 0|\n",
      "|    698868|  45619|1494055473|430548_1007|     1|  0|        0|           4|        NULL|             3|         0|                 NULL|   6423|         31|   15142| NULL|158.0|        4|                2|2017-05-06 00:24:33|            2|                0|            7|                0|             7|                 0|\n",
      "|    698868| 950022|1494064163|430548_1007|     1|  0|        0|           4|        NULL|             1|         0|                 NULL|   6423|         31|   15142| NULL|158.0|        4|                2|2017-05-06 02:49:23|            8|                0|            8|                0|             8|                 0|\n",
      "|    698868| 698524|1494086897|430548_1007|     1|  0|        0|           3|        NULL|             3|         0|                 NULL|   6423|         31|   15142| NULL|158.0|        3|                2|2017-05-06 09:08:17|           11|                0|            9|                0|             9|                 0|\n",
      "|    698868| 581832|1494088330|430548_1007|     1|  0|        0|           8|        NULL|             3|         0|                 NULL|   6423|         31|   15142| NULL|158.0|        2|                1|2017-05-06 09:32:10|            2|                0|           10|                0|            10|                 0|\n",
      "|    698868|  12745|1494090168|430548_1007|     1|  0|        0|           3|        NULL|             3|         0|                    4|   6423|         31|   15142| NULL|158.0|        3|                2|2017-05-06 10:02:48|            0|             NULL|           11|                0|            11|                 0|\n",
      "|    698868| 680078|1494092915|430548_1007|     1|  0|        5|           2|           1|             3|         1|                    3|   6423|         31|   15142| NULL|158.0|        2|                2|2017-05-06 10:48:35|            5|                1|           12|                0|            12|                 0|\n",
      "|    698868| 387932|1494108568|430548_1007|     1|  0|        0|           4|        NULL|             3|         0|                    3|   6423|         31|   15142| NULL|158.0|        4|                2|2017-05-06 15:09:28|           77|                0|           13|                0|            13|                 0|\n",
      "|    698868|1055701|1494121495|430548_1007|     0|  1|        0|           3|        NULL|             3|         0|                    3|   6423|         31|   15142| NULL|158.0|        3|                2|2017-05-06 18:44:55|           29|                4|           14|                0|            14|                 0|\n",
      "|    698868| 611099|1494133319|430548_1007|     1|  0|        0|           3|        NULL|             3|         0|                 NULL|   6423|         31|   15142| NULL|158.0|        3|                2|2017-05-06 22:01:59|           41|                0|           15|                1|            15|                 1|\n",
      "|    698868| 319975|1494146993|430548_1007|     1|  0|        5|           2|           1|             3|         1|                    2|   6423|         31|   15142| NULL|158.0|        2|                2|2017-05-07 01:49:53|           28|                0|           16|                1|            16|                 1|\n",
      "|    715332| 931218|1494147546|430548_1007|     1|  0|        0|           4|        NULL|             2|         0|                 NULL|   6432|         31|   15142| NULL|158.0|        4|                2|2017-05-07 01:59:06|           78|                4|            0|             NULL|            17|                 1|\n",
      "|    698868|1099358|1494147787|430548_1007|     1|  0|        7|           2|           1|             3|         0|                    2|   6423|         31|   15142| NULL|158.0|        2|                2|2017-05-07 02:03:07|          284|                8|           17|                1|            18|                 1|\n",
      "|    715332|  46716|1494151505|430548_1007|     1|  0|        0|           5|        NULL|             2|         0|                 NULL|   6432|         31|   15142| NULL|158.0|        5|                2|2017-05-07 03:05:05|           10|                0|            1|                0|            19|                 1|\n",
      "+----------+-------+----------+-----------+------+---+---------+------------+------------+--------------+----------+---------------------+-------+-----------+--------+-----+-----+---------+-----------------+-------------------+-------------+-----------------+-------------+-----------------+--------------+------------------+\n",
      "only showing top 20 rows\n",
      "\n"
     ]
    },
    {
     "name": "stderr",
     "output_type": "stream",
     "text": [
      "                                                                                \r"
     ]
    }
   ],
   "source": [
    "def get_campaign_features(df):\n",
    "    window = W.partitionBy('campaign_id').orderBy('time').rowsBetween(W.unboundedPreceding,-1)\n",
    "    \n",
    "    return (\n",
    "        df\n",
    "        .withColumn('campaign_count', F.count('clk').over(window))\n",
    "        .withColumn('campaign_clk_count', F.sum('clk').over(window))\n",
    "    )\n",
    "    \n",
    "campaign_features_df = get_campaign_features(ad_features_df)\n",
    "campaign_features_df.show()"
   ]
  },
  {
   "cell_type": "markdown",
   "id": "419c298a-691c-42b7-849f-ef390728520f",
   "metadata": {},
   "source": [
    "## category features"
   ]
  },
  {
   "cell_type": "code",
   "execution_count": 11,
   "id": "15c22ff7-b011-4035-814c-458c441dd34b",
   "metadata": {
    "scrolled": true
   },
   "outputs": [
    {
     "name": "stderr",
     "output_type": "stream",
     "text": [
      "                                                                                \r"
     ]
    },
    {
     "name": "stdout",
     "output_type": "stream",
     "text": [
      "+----------+-------+----------+-----------+------+---+---------+------------+------------+--------------+----------+---------------------+-------+-----------+--------+------+------+---------+-----------------+-------------------+-------------+-----------------+-------------+-----------------+--------------+------------------+----------+--------------+\n",
      "|adgroup_id| userid|time_stamp|        pid|nonclk|clk|cms_segid|cms_group_id|pvalue_level|shopping_level|occupation|new_user_class_level |cate_id|campaign_id|customer| brand| price|age_level|final_gender_code|               time|user_ad_count|user_ad_clk_count|adgroup_count|adgroup_clk_count|campaign_count|campaign_clk_count|cate_count|cate_clk_count|\n",
      "+----------+-------+----------+-----------+------+---+---------+------------+------------+--------------+----------+---------------------+-------+-----------+--------+------+------+---------+-----------------+-------------------+-------------+-----------------+-------------+-----------------+--------------+------------------+----------+--------------+\n",
      "|    590288| 862149|1494003675|430539_1007|     1|  0|        0|          10|        NULL|             3|         0|                    1|     31|     359510|   56319| 49899|5400.0|        4|                1|2017-05-05 10:01:15|            1|                0|            0|             NULL|             0|              NULL|         0|          NULL|\n",
      "|    290601| 629123|1494025619|430548_1007|     1|  0|        0|           2|           1|             3|         0|                 NULL|     31|      94689|  136098|107382|2588.0|        2|                2|2017-05-05 16:06:59|            1|                0|            0|             NULL|             0|              NULL|         1|             0|\n",
      "|    290601| 805389|1494026615|430548_1007|     1|  0|        0|          11|        NULL|             2|         0|                    2|     31|      94689|  136098|107382|2588.0|        5|                1|2017-05-05 16:23:35|            2|                0|            1|                0|             1|                 0|         2|             0|\n",
      "|    396690| 556456|1494028006|430548_1007|     1|  0|        0|           9|        NULL|             3|         0|                    4|     31|     280925|   25094|316005|9000.0|        3|                1|2017-05-05 16:46:46|            0|             NULL|            0|             NULL|             0|              NULL|         3|             0|\n",
      "|    202941| 556456|1494028006|430548_1007|     1|  0|        0|           9|        NULL|             3|         0|                    4|     31|     251197|   33039|107382|2899.0|        3|                1|2017-05-05 16:46:46|            1|                0|            0|             NULL|             0|              NULL|         4|             0|\n",
      "|     97583| 784574|1494028986|430548_1007|     1|  0|       92|          11|           2|             3|         0|                    3|     31|     141544|   80559| 30908|4080.0|        5|                1|2017-05-05 17:03:06|            1|                0|            0|             NULL|             0|              NULL|         5|             0|\n",
      "|    499645| 378955|1494030267|430539_1007|     1|  0|       93|          11|           3|             3|         0|                    2|     31|      94689|  136098|107382|3688.0|        5|                1|2017-05-05 17:24:27|            1|                0|            0|             NULL|             2|                 0|         6|             0|\n",
      "|    202941|1033147|1494030824|430548_1007|     1|  0|        0|          10|        NULL|             3|         0|                 NULL|     31|     251197|   33039|107382|2899.0|        4|                1|2017-05-05 17:33:44|            1|                0|            1|                0|             1|                 0|         7|             0|\n",
      "|    445718| 107899|1494032093|430548_1007|     1|  0|        0|           9|        NULL|             3|         0|                    3|     31|     296251|   89033| 72619|9000.0|        3|                1|2017-05-05 17:54:53|            0|             NULL|            0|             NULL|             0|              NULL|         8|             0|\n",
      "|    290601|1015113|1494033961|430539_1007|     1|  0|        0|          11|        NULL|             3|         0|                    2|     31|      94689|  136098|107382|2588.0|        5|                1|2017-05-05 18:26:01|            2|                0|            2|                0|             3|                 0|         9|             0|\n",
      "|    290601| 600549|1494035688|430548_1007|     1|  0|       81|          10|           2|             3|         0|                    3|     31|      94689|  136098|107382|2588.0|        4|                1|2017-05-05 18:54:48|            2|                0|            3|                0|             4|                 0|        10|             0|\n",
      "|    290601| 106059|1494039579|430539_1007|     1|  0|       67|           9|           2|             3|         0|                    3|     31|      94689|  136098|107382|2588.0|        3|                1|2017-05-05 19:59:39|            0|             NULL|            4|                0|             5|                 0|        11|             0|\n",
      "|    290601| 695981|1494042270|430548_1007|     1|  0|       92|          11|           3|             3|         0|                    4|     31|      94689|  136098|107382|2588.0|        5|                1|2017-05-05 20:44:30|            2|                0|            5|                0|             6|                 0|        12|             0|\n",
      "|    445718| 756494|1494047798|430548_1007|     1|  0|       19|           3|           2|             3|         0|                    2|     31|     296251|   89033| 72619|9000.0|        3|                2|2017-05-05 22:16:38|            4|                0|            1|                0|             1|                 0|        13|             0|\n",
      "|    130666| 756494|1494047798|430548_1007|     1|  0|       19|           3|           2|             3|         0|                    2|     31|     237933|   52485|  NULL|1500.0|        3|                2|2017-05-05 22:16:38|            2|                0|            0|             NULL|             0|              NULL|        14|             0|\n",
      "|    325362| 801164|1494049952|430548_1007|     0|  1|        0|          11|        NULL|             3|         0|                    4|     31|     107689|  165992|  NULL|2850.0|        5|                1|2017-05-05 22:52:32|            1|                0|            0|             NULL|             0|              NULL|        15|             0|\n",
      "|    338627| 416678|1494052647|430548_1007|     1|  0|        0|          11|        NULL|             2|         0|                 NULL|     31|     116947|  168491|316005|2000.0|        5|                1|2017-05-05 23:37:27|            5|                0|            0|             NULL|             0|              NULL|        16|             1|\n",
      "|    201780| 416678|1494052647|430548_1007|     1|  0|        0|          11|        NULL|             2|         0|                 NULL|     31|     206758|   32183|107382|2400.0|        5|                1|2017-05-05 23:37:27|            4|                0|            0|             NULL|             0|              NULL|        17|             1|\n",
      "|    288784| 416678|1494052647|430548_1007|     1|  0|        0|          11|        NULL|             2|         0|                 NULL|     31|     213355|   30694|  NULL|2900.0|        5|                1|2017-05-05 23:37:27|            3|                0|            0|             NULL|             0|              NULL|        18|             1|\n",
      "|    290601|  52311|1494052657|430548_1007|     1|  0|        0|           9|        NULL|             3|         0|                    3|     31|      94689|  136098|107382|2588.0|        3|                1|2017-05-05 23:37:37|            1|                0|            6|                0|             7|                 0|        19|             1|\n",
      "+----------+-------+----------+-----------+------+---+---------+------------+------------+--------------+----------+---------------------+-------+-----------+--------+------+------+---------+-----------------+-------------------+-------------+-----------------+-------------+-----------------+--------------+------------------+----------+--------------+\n",
      "only showing top 20 rows\n",
      "\n"
     ]
    }
   ],
   "source": [
    "def get_category_features(df):\n",
    "    window = W.partitionBy('cate_id').orderBy('time').rowsBetween(W.unboundedPreceding,-1)\n",
    "    \n",
    "    return (\n",
    "        df\n",
    "        .withColumn('cate_count', F.count('clk').over(window))\n",
    "        .withColumn('cate_clk_count', F.sum('clk').over(window))\n",
    "    )\n",
    "    \n",
    "category_features_df = get_category_features(campaign_features_df)\n",
    "category_features_df.show()"
   ]
  },
  {
   "cell_type": "markdown",
   "id": "1f7d011f-9358-4330-af83-880d7ce53598",
   "metadata": {},
   "source": [
    "## category & gender features"
   ]
  },
  {
   "cell_type": "code",
   "execution_count": 12,
   "id": "87c1dfc7-0359-43df-b026-7b090123663a",
   "metadata": {
    "scrolled": true
   },
   "outputs": [
    {
     "name": "stderr",
     "output_type": "stream",
     "text": [
      "[Stage 51:>                                                         (0 + 1) / 1]\r"
     ]
    },
    {
     "name": "stdout",
     "output_type": "stream",
     "text": [
      "+----------+-------+----------+-----------+------+---+---------+------------+------------+--------------+----------+---------------------+-------+-----------+--------+------+------+---------+-----------------+-------------------+-------------+-----------------+-------------+-----------------+--------------+------------------+----------+--------------+-------------------+-----------------------+\n",
      "|adgroup_id| userid|time_stamp|        pid|nonclk|clk|cms_segid|cms_group_id|pvalue_level|shopping_level|occupation|new_user_class_level |cate_id|campaign_id|customer| brand| price|age_level|final_gender_code|               time|user_ad_count|user_ad_clk_count|adgroup_count|adgroup_clk_count|campaign_count|campaign_clk_count|cate_count|cate_clk_count|cat_gender_ad_count|cat_gender_ad_clk_count|\n",
      "+----------+-------+----------+-----------+------+---+---------+------------+------------+--------------+----------+---------------------+-------+-----------+--------+------+------+---------+-----------------+-------------------+-------------+-----------------+-------------+-----------------+--------------+------------------+----------+--------------+-------------------+-----------------------+\n",
      "|    590288| 862149|1494003675|430539_1007|     1|  0|        0|          10|        NULL|             3|         0|                    1|     31|     359510|   56319| 49899|5400.0|        4|                1|2017-05-05 10:01:15|            1|                0|            0|             NULL|             0|              NULL|         0|          NULL|                  0|                   NULL|\n",
      "|    290601| 805389|1494026615|430548_1007|     1|  0|        0|          11|        NULL|             2|         0|                    2|     31|      94689|  136098|107382|2588.0|        5|                1|2017-05-05 16:23:35|            2|                0|            1|                0|             1|                 0|         2|             0|                  1|                      0|\n",
      "|    396690| 556456|1494028006|430548_1007|     1|  0|        0|           9|        NULL|             3|         0|                    4|     31|     280925|   25094|316005|9000.0|        3|                1|2017-05-05 16:46:46|            0|             NULL|            0|             NULL|             0|              NULL|         3|             0|                  2|                      0|\n",
      "|    202941| 556456|1494028006|430548_1007|     1|  0|        0|           9|        NULL|             3|         0|                    4|     31|     251197|   33039|107382|2899.0|        3|                1|2017-05-05 16:46:46|            1|                0|            0|             NULL|             0|              NULL|         4|             0|                  3|                      0|\n",
      "|     97583| 784574|1494028986|430548_1007|     1|  0|       92|          11|           2|             3|         0|                    3|     31|     141544|   80559| 30908|4080.0|        5|                1|2017-05-05 17:03:06|            1|                0|            0|             NULL|             0|              NULL|         5|             0|                  4|                      0|\n",
      "|    499645| 378955|1494030267|430539_1007|     1|  0|       93|          11|           3|             3|         0|                    2|     31|      94689|  136098|107382|3688.0|        5|                1|2017-05-05 17:24:27|            1|                0|            0|             NULL|             2|                 0|         6|             0|                  5|                      0|\n",
      "|    202941|1033147|1494030824|430548_1007|     1|  0|        0|          10|        NULL|             3|         0|                 NULL|     31|     251197|   33039|107382|2899.0|        4|                1|2017-05-05 17:33:44|            1|                0|            1|                0|             1|                 0|         7|             0|                  6|                      0|\n",
      "|    445718| 107899|1494032093|430548_1007|     1|  0|        0|           9|        NULL|             3|         0|                    3|     31|     296251|   89033| 72619|9000.0|        3|                1|2017-05-05 17:54:53|            0|             NULL|            0|             NULL|             0|              NULL|         8|             0|                  7|                      0|\n",
      "|    290601|1015113|1494033961|430539_1007|     1|  0|        0|          11|        NULL|             3|         0|                    2|     31|      94689|  136098|107382|2588.0|        5|                1|2017-05-05 18:26:01|            2|                0|            2|                0|             3|                 0|         9|             0|                  8|                      0|\n",
      "|    290601| 600549|1494035688|430548_1007|     1|  0|       81|          10|           2|             3|         0|                    3|     31|      94689|  136098|107382|2588.0|        4|                1|2017-05-05 18:54:48|            2|                0|            3|                0|             4|                 0|        10|             0|                  9|                      0|\n",
      "|    290601| 106059|1494039579|430539_1007|     1|  0|       67|           9|           2|             3|         0|                    3|     31|      94689|  136098|107382|2588.0|        3|                1|2017-05-05 19:59:39|            0|             NULL|            4|                0|             5|                 0|        11|             0|                 10|                      0|\n",
      "|    290601| 695981|1494042270|430548_1007|     1|  0|       92|          11|           3|             3|         0|                    4|     31|      94689|  136098|107382|2588.0|        5|                1|2017-05-05 20:44:30|            2|                0|            5|                0|             6|                 0|        12|             0|                 11|                      0|\n",
      "|    325362| 801164|1494049952|430548_1007|     0|  1|        0|          11|        NULL|             3|         0|                    4|     31|     107689|  165992|  NULL|2850.0|        5|                1|2017-05-05 22:52:32|            1|                0|            0|             NULL|             0|              NULL|        15|             0|                 12|                      0|\n",
      "|    338627| 416678|1494052647|430548_1007|     1|  0|        0|          11|        NULL|             2|         0|                 NULL|     31|     116947|  168491|316005|2000.0|        5|                1|2017-05-05 23:37:27|            5|                0|            0|             NULL|             0|              NULL|        16|             1|                 13|                      1|\n",
      "|    201780| 416678|1494052647|430548_1007|     1|  0|        0|          11|        NULL|             2|         0|                 NULL|     31|     206758|   32183|107382|2400.0|        5|                1|2017-05-05 23:37:27|            4|                0|            0|             NULL|             0|              NULL|        17|             1|                 14|                      1|\n",
      "|    288784| 416678|1494052647|430548_1007|     1|  0|        0|          11|        NULL|             2|         0|                 NULL|     31|     213355|   30694|  NULL|2900.0|        5|                1|2017-05-05 23:37:27|            3|                0|            0|             NULL|             0|              NULL|        18|             1|                 15|                      1|\n",
      "|    290601|  52311|1494052657|430548_1007|     1|  0|        0|           9|        NULL|             3|         0|                    3|     31|      94689|  136098|107382|2588.0|        3|                1|2017-05-05 23:37:37|            1|                0|            6|                0|             7|                 0|        19|             1|                 16|                      1|\n",
      "|    201780| 904816|1494055472|430548_1007|     1|  0|       69|           9|           3|             3|         0|                    3|     31|     206758|   32183|107382|2400.0|        3|                1|2017-05-06 00:24:32|            0|             NULL|            1|                0|             1|                 0|        20|             1|                 17|                      1|\n",
      "|    130666|1033147|1494056420|430548_1007|     1|  0|        0|          10|        NULL|             3|         0|                 NULL|     31|     237933|   52485|  NULL|1500.0|        4|                1|2017-05-06 00:40:20|            2|                0|            1|                0|             1|                 0|        21|             1|                 18|                      1|\n",
      "|    290601|1033147|1494056420|430548_1007|     1|  0|        0|          10|        NULL|             3|         0|                 NULL|     31|      94689|  136098|107382|2588.0|        4|                1|2017-05-06 00:40:20|            4|                0|            7|                0|             8|                 0|        22|             1|                 19|                      1|\n",
      "+----------+-------+----------+-----------+------+---+---------+------------+------------+--------------+----------+---------------------+-------+-----------+--------+------+------+---------+-----------------+-------------------+-------------+-----------------+-------------+-----------------+--------------+------------------+----------+--------------+-------------------+-----------------------+\n",
      "only showing top 20 rows\n",
      "\n"
     ]
    },
    {
     "name": "stderr",
     "output_type": "stream",
     "text": [
      "                                                                                \r"
     ]
    }
   ],
   "source": [
    "def get_cat_gender_features(df):\n",
    "    window = W.partitionBy('cate_id', 'final_gender_code').orderBy('time').rowsBetween(W.unboundedPreceding,-1)\n",
    "    \n",
    "    return (\n",
    "        df\n",
    "        .withColumn('cat_gender_ad_count', F.count('clk').over(window))\n",
    "        .withColumn('cat_gender_ad_clk_count', F.sum('clk').over(window))\n",
    "    )\n",
    "    \n",
    "cat_gender_features_df =  get_cat_gender_features(category_features_df)\n",
    "cat_gender_features_df.show()"
   ]
  },
  {
   "cell_type": "markdown",
   "id": "57367122-6839-4c59-bc57-d66bf6f4e302",
   "metadata": {},
   "source": [
    "## category & age features"
   ]
  },
  {
   "cell_type": "code",
   "execution_count": 13,
   "id": "892e6219-c9aa-4ac3-8bd8-46314e21a4eb",
   "metadata": {
    "scrolled": true
   },
   "outputs": [
    {
     "name": "stderr",
     "output_type": "stream",
     "text": [
      "[Stage 66:>                                                         (0 + 1) / 1]\r"
     ]
    },
    {
     "name": "stdout",
     "output_type": "stream",
     "text": [
      "+----------+-------+----------+-----------+------+---+---------+------------+------------+--------------+----------+---------------------+-------+-----------+--------+------+------+---------+-----------------+-------------------+-------------+-----------------+-------------+-----------------+--------------+------------------+----------+--------------+-------------------+-----------------------+----------------+--------------------+\n",
      "|adgroup_id| userid|time_stamp|        pid|nonclk|clk|cms_segid|cms_group_id|pvalue_level|shopping_level|occupation|new_user_class_level |cate_id|campaign_id|customer| brand| price|age_level|final_gender_code|               time|user_ad_count|user_ad_clk_count|adgroup_count|adgroup_clk_count|campaign_count|campaign_clk_count|cate_count|cate_clk_count|cat_gender_ad_count|cat_gender_ad_clk_count|cat_age_ad_count|cat_age_ad_clk_count|\n",
      "+----------+-------+----------+-----------+------+---+---------+------------+------------+--------------+----------+---------------------+-------+-----------+--------+------+------+---------+-----------------+-------------------+-------------+-----------------+-------------+-----------------+--------------+------------------+----------+--------------+-------------------+-----------------------+----------------+--------------------+\n",
      "|    290601| 665808|1494501124|430539_1007|     1|  0|        0|           7|        NULL|             3|         0|                    1|     31|      94689|  136098|107382|2588.0|        1|                1|2017-05-11 04:12:04|            2|                0|           86|                3|           101|                 3|       231|            12|                193|                     12|               0|                NULL|\n",
      "|    221307| 665808|1494561619|430539_1007|     1|  0|        0|           7|        NULL|             3|         0|                    1|     31|     258735|   60423|125038|3890.0|        1|                1|2017-05-11 21:00:19|            3|                0|            9|                1|             9|                 1|       265|            12|                221|                     12|               1|                   0|\n",
      "|    445718| 326127|1494607845|430548_1007|     1|  0|       51|           7|           3|             3|         0|                 NULL|     31|     296251|   89033| 72619|9000.0|        1|                1|2017-05-12 09:50:45|            0|             NULL|           23|                2|            23|                 2|       307|            16|                260|                     15|               2|                   0|\n",
      "|    290601| 629123|1494025619|430548_1007|     1|  0|        0|           2|           1|             3|         0|                 NULL|     31|      94689|  136098|107382|2588.0|        2|                2|2017-05-05 16:06:59|            1|                0|            0|             NULL|             0|              NULL|         1|             0|                  0|                   NULL|               0|                NULL|\n",
      "|    221307| 155774|1494090472|430539_1007|     1|  0|        0|           2|           2|             3|         0|                 NULL|     31|     258735|   60423|125038|3890.0|        2|                2|2017-05-06 10:07:52|            3|                0|            2|                0|             2|                 0|        41|             2|                  8|                      0|               1|                   0|\n",
      "|    396690| 155774|1494092283|430539_1007|     1|  0|        0|           2|           2|             3|         0|                 NULL|     31|     280925|   25094|316005|9000.0|        2|                2|2017-05-06 10:38:03|            7|                0|            1|                0|             1|                 0|        42|             2|                  9|                      0|               2|                   0|\n",
      "|    290601| 782208|1494136336|430548_1007|     1|  0|        0|           8|        NULL|             3|         0|                    2|     31|      94689|  136098|107382|2588.0|        2|                1|2017-05-06 22:52:16|            1|                0|           14|                0|            19|                 0|        51|             2|                 40|                      2|               3|                   0|\n",
      "|    325362| 567338|1494218597|430548_1007|     1|  0|        0|           2|        NULL|             3|         0|                    2|     31|     107689|  165992|  NULL|2850.0|        2|                2|2017-05-07 21:43:17|            4|                0|            5|                1|             5|                 1|        79|             2|                 14|                      0|               4|                   0|\n",
      "|    290601| 335695|1494220324|430548_1007|     1|  0|        0|           8|        NULL|             3|         1|                    2|     31|      94689|  136098|107382|2588.0|        2|                1|2017-05-07 22:12:04|            8|                0|           25|                0|            32|                 0|        80|             2|                 65|                      2|               5|                   0|\n",
      "|    173201|1053188|1494224814|430548_1007|     1|  0|       55|           8|           2|             2|         0|                    3|     31|     270167|   56319|107382|2950.0|        2|                1|2017-05-07 23:26:54|            3|                0|            2|                1|             2|                 1|        88|             3|                 73|                      3|               6|                   0|\n",
      "|    290601|1053188|1494224814|430548_1007|     1|  0|       55|           8|           2|             2|         0|                    3|     31|      94689|  136098|107382|2588.0|        2|                1|2017-05-07 23:26:54|            4|                0|           28|                0|            36|                 0|        89|             3|                 74|                      3|               7|                   0|\n",
      "|    173201| 678393|1494232174|430548_1007|     1|  0|        0|           8|        NULL|             3|         1|                    4|     31|     270167|   56319|107382|2950.0|        2|                1|2017-05-08 01:29:34|            0|             NULL|            5|                2|             5|                 2|        96|             4|                 80|                      4|               8|                   0|\n",
      "|    290601| 678393|1494232174|430548_1007|     1|  0|        0|           8|        NULL|             3|         1|                    4|     31|      94689|  136098|107382|2588.0|        2|                1|2017-05-08 01:29:34|            1|                0|           30|                0|            38|                 0|        97|             4|                 81|                      4|               9|                   0|\n",
      "|    290601| 741758|1494257689|430548_1007|     1|  0|        0|           8|           2|             3|         0|                 NULL|     31|      94689|  136098|107382|2588.0|        2|                1|2017-05-08 08:34:49|            2|                0|           35|                0|            45|                 0|       109|             4|                 93|                      4|              10|                   0|\n",
      "|    173201| 970948|1494332815|430548_1007|     1|  0|        0|           8|        NULL|             3|         0|                    2|     31|     270167|   56319|107382|2950.0|        2|                1|2017-05-09 05:26:55|            4|                0|            7|                2|             7|                 2|       125|             6|                107|                      6|              11|                   0|\n",
      "|    290601| 970948|1494332815|430548_1007|     1|  0|        0|           8|        NULL|             3|         0|                    2|     31|      94689|  136098|107382|2588.0|        2|                1|2017-05-09 05:26:55|            5|                0|           43|                1|            54|                 1|       126|             6|                108|                      6|              12|                   0|\n",
      "|    173201| 678393|1494405884|430548_1007|     1|  0|        0|           8|        NULL|             3|         1|                    4|     31|     270167|   56319|107382|2950.0|        2|                1|2017-05-10 01:44:44|            8|                0|           10|                2|            10|                 2|       156|             9|                133|                      9|              13|                   0|\n",
      "|    281822| 486616|1494471853|430548_1007|     1|  0|        0|           2|           1|             3|         0|                 NULL|     31|     315955|   56319|107382|2800.0|        2|                2|2017-05-10 20:04:13|           31|                0|            0|             NULL|             0|              NULL|       193|            10|                 29|                      0|              14|                   0|\n",
      "|    290601| 486616|1494471853|430548_1007|     1|  0|        0|           2|           1|             3|         0|                 NULL|     31|      94689|  136098|107382|2588.0|        2|                2|2017-05-10 20:04:13|           32|                0|           78|                3|            92|                 3|       194|            10|                 30|                      0|              15|                   0|\n",
      "|    173201| 486616|1494471956|430548_1007|     1|  0|        0|           2|           1|             3|         0|                 NULL|     31|     270167|   56319|107382|2950.0|        2|                2|2017-05-10 20:05:56|           38|                0|           11|                2|            11|                 2|       195|            10|                 31|                      0|              16|                   0|\n",
      "+----------+-------+----------+-----------+------+---+---------+------------+------------+--------------+----------+---------------------+-------+-----------+--------+------+------+---------+-----------------+-------------------+-------------+-----------------+-------------+-----------------+--------------+------------------+----------+--------------+-------------------+-----------------------+----------------+--------------------+\n",
      "only showing top 20 rows\n",
      "\n"
     ]
    },
    {
     "name": "stderr",
     "output_type": "stream",
     "text": [
      "                                                                                \r"
     ]
    }
   ],
   "source": [
    "def get_cat_age_features(df):\n",
    "    window = W.partitionBy('cate_id', 'age_level').orderBy('time').rowsBetween(W.unboundedPreceding,-1)\n",
    "    \n",
    "    return (\n",
    "        df\n",
    "        .withColumn('cat_age_ad_count', F.count('clk').over(window))\n",
    "        .withColumn('cat_age_ad_clk_count', F.sum('clk').over(window))\n",
    "    )\n",
    "    \n",
    "cat_age_features_df =  get_cat_age_features(cat_gender_features_df)\n",
    "cat_age_features_df.show()"
   ]
  },
  {
   "cell_type": "markdown",
   "id": "7d129987-057c-4cf6-b84e-35ccf57fbdbd",
   "metadata": {},
   "source": [
    "## gender, age & ad features"
   ]
  },
  {
   "cell_type": "code",
   "execution_count": 15,
   "id": "97123352-e826-4c33-b50b-85ade53ae01f",
   "metadata": {
    "scrolled": true
   },
   "outputs": [
    {
     "name": "stderr",
     "output_type": "stream",
     "text": [
      "[Stage 81:======================================================> (29 + 1) / 30]\r"
     ]
    },
    {
     "name": "stdout",
     "output_type": "stream",
     "text": [
      "+----------+-------+----------+-----------+------+---+---------+------------+------------+--------------+----------+---------------------+-------+-----------+--------+------+------+---------+-----------------+-------------------+-------------+-----------------+-------------+-----------------+--------------+------------------+----------+--------------+-------------------+-----------------------+----------------+--------------------+-------------------+-----------------------+\n",
      "|adgroup_id| userid|time_stamp|        pid|nonclk|clk|cms_segid|cms_group_id|pvalue_level|shopping_level|occupation|new_user_class_level |cate_id|campaign_id|customer| brand| price|age_level|final_gender_code|               time|user_ad_count|user_ad_clk_count|adgroup_count|adgroup_clk_count|campaign_count|campaign_clk_count|cate_count|cate_clk_count|cat_gender_ad_count|cat_gender_ad_clk_count|cat_age_ad_count|cat_age_ad_clk_count|gender_age_ad_count|gender_age_ad_clk_count|\n",
      "+----------+-------+----------+-----------+------+---+---------+------------+------------+--------------+----------+---------------------+-------+-----------+--------+------+------+---------+-----------------+-------------------+-------------+-----------------+-------------+-----------------+--------------+------------------+----------+--------------+-------------------+-----------------------+----------------+--------------------+-------------------+-----------------------+\n",
      "|        43| 824392|1494108093|430548_1007|     1|  0|        0|           6|        NULL|             1|         0|                 NULL|   5467|     398528|   53136|  1644|  16.0|        6|                2|2017-05-06 15:01:33|           17|                0|            1|                0|            10|                 2|     15644|           908|               7927|                    426|             311|                  18|                  0|                   NULL|\n",
      "|        69| 729782|1494287274|430548_1007|     1|  0|        0|           8|           2|             3|         0|                 NULL|   8513|     135382|   17427|120333|  80.0|        2|                1|2017-05-08 16:47:54|           93|                3|            1|                0|            30|                 3|      1258|            95|               1057|                     72|              62|                   3|                  0|                   NULL|\n",
      "|        85|  10772|1494393723|430548_1007|     1|  0|        0|           4|        NULL|             3|         0|                    3|   6873|     398858|   53487|443907| 720.0|        4|                2|2017-05-09 22:22:03|           42|                2|            2|                0|            49|                 1|       529|            28|                334|                     15|             138|                   6|                  0|                   NULL|\n",
      "|        96| 765463|1494006071|430539_1007|     1|  0|       35|           4|           2|             3|         0|                    2|   5751|     393401|   44358|427493|  13.5|        4|                2|2017-05-05 10:41:11|           18|                1|            0|             NULL|             0|              NULL|        18|             1|                 13|                      0|               5|                   0|                  0|                   NULL|\n",
      "|       100| 828934|1494321308|430548_1007|     1|  0|        0|          10|           2|             2|         0|                 NULL|  10315|     396716|   51242|  NULL|1400.0|        4|                1|2017-05-09 02:15:08|            7|                0|            2|                0|             4|                 0|      1184|            57|               1066|                     52|             436|                  21|                  0|                   NULL|\n",
      "|       100| 442799|1494258711|430548_1007|     1|  0|       92|          11|           2|             3|         0|                    3|  10315|     396716|   51242|  NULL|1400.0|        5|                1|2017-05-08 08:51:51|           85|                2|            1|                0|             3|                 0|      1026|            49|                929|                     44|             313|                  16|                  0|                   NULL|\n",
      "|       102| 878147|1494002540|430539_1007|     1|  0|        0|          10|        NULL|             3|         0|                    3|    126|     138148|   20107|102457|  98.0|        4|                1|2017-05-05 09:42:20|            1|                0|            1|                0|             1|                 0|         4|             0|                  1|                      0|               2|                   0|                  0|                   NULL|\n",
      "|       102| 476604|1494021349|430548_1007|     1|  0|        0|          10|        NULL|             3|         0|                    4|    126|     138148|   20107|102457|  98.0|        4|                1|2017-05-05 14:55:49|            2|                0|            6|                0|             7|                 0|        20|             0|                  5|                      0|              12|                   0|                  1|                      0|\n",
      "|       102| 443823|1494023814|430548_1007|     1|  0|       81|          10|           2|             3|         0|                    3|    126|     138148|   20107|102457|  98.0|        4|                1|2017-05-05 15:36:54|            6|                0|            9|                0|            10|                 0|        29|             0|                  7|                      0|              18|                   0|                  2|                      0|\n",
      "|       102| 686384|1494065595|430539_1007|     1|  0|        0|          10|        NULL|             3|         0|                    2|    126|     138148|   20107|102457|  98.0|        4|                1|2017-05-06 03:13:15|            4|                0|           34|                1|            36|                 1|       266|            12|                 54|                      2|             109|                   3|                  3|                      0|\n",
      "|       102| 438002|1494075217|430539_1007|     1|  0|        0|          10|        NULL|             3|         0|                    2|    126|     138148|   20107|102457|  98.0|        4|                1|2017-05-06 05:53:37|            1|                0|           41|                1|            43|                 1|       318|            13|                 59|                      2|             129|                   3|                  4|                      0|\n",
      "|       102| 922363|1494111629|430539_1007|     1|  0|        0|          10|        NULL|             1|         0|                 NULL|    126|     138148|   20107|102457|  98.0|        4|                1|2017-05-06 16:00:29|          104|                8|           60|                1|            63|                 1|       466|            17|                 88|                      3|             189|                   6|                  5|                      0|\n",
      "|       102| 129852|1494112188|430539_1007|     1|  0|        0|          10|        NULL|             3|         0|                    1|    126|     138148|   20107|102457|  98.0|        4|                1|2017-05-06 16:09:48|           14|                0|           61|                1|            64|                 1|       469|            17|                 91|                      3|             192|                   6|                  6|                      0|\n",
      "|       102|1062781|1494114301|430548_1007|     1|  0|       81|          10|           2|             3|         0|                    4|    126|     138148|   20107|102457|  98.0|        4|                1|2017-05-06 16:45:01|            2|                0|           63|                1|            67|                 1|       477|            17|                 92|                      3|             194|                   6|                  7|                      0|\n",
      "|       102| 318668|1494122182|430539_1007|     1|  0|        0|          10|        NULL|             3|         0|                    1|    126|     138148|   20107|102457|  98.0|        4|                1|2017-05-06 18:56:22|            3|                0|           72|                1|            76|                 1|       549|            17|                126|                      3|             211|                   6|                  8|                      0|\n",
      "|       102|1128214|1494153562|430548_1007|     1|  0|        0|          10|        NULL|             3|         0|                    2|    126|     138148|   20107|102457|  98.0|        4|                1|2017-05-07 03:39:22|           17|                0|          110|                1|           119|                 2|       799|            29|                160|                      4|             306|                  13|                  9|                      0|\n",
      "|       102| 878147|1494176384|430539_1007|     1|  0|        0|          10|        NULL|             3|         0|                    3|    126|     138148|   20107|102457|  98.0|        4|                1|2017-05-07 09:59:44|           16|                1|          135|                2|           146|                 3|       962|            34|                184|                      4|             365|                  17|                 10|                      0|\n",
      "|       102| 602423|1494197951|430548_1007|     1|  0|       80|          10|           2|             3|         0|                    2|    126|     138148|   20107|102457|  98.0|        4|                1|2017-05-07 15:59:11|            6|                0|          144|                3|           155|                 4|       992|            35|                191|                      4|             375|                  18|                 11|                      0|\n",
      "|       102| 476604|1494208318|430548_1007|     1|  0|        0|          10|        NULL|             3|         0|                    4|    126|     138148|   20107|102457|  98.0|        4|                1|2017-05-07 18:51:58|           22|                0|          151|                4|           168|                 6|      1041|            39|                196|                      4|             397|                  19|                 12|                      0|\n",
      "|       102| 269887|1494212870|430539_1007|     1|  0|        0|          10|        NULL|             3|         0|                    1|    126|     138148|   20107|102457|  98.0|        4|                1|2017-05-07 20:07:50|           11|                0|          157|                4|           174|                 6|      1065|            42|                203|                      5|             405|                  19|                 13|                      0|\n",
      "+----------+-------+----------+-----------+------+---+---------+------------+------------+--------------+----------+---------------------+-------+-----------+--------+------+------+---------+-----------------+-------------------+-------------+-----------------+-------------+-----------------+--------------+------------------+----------+--------------+-------------------+-----------------------+----------------+--------------------+-------------------+-----------------------+\n",
      "only showing top 20 rows\n",
      "\n"
     ]
    },
    {
     "name": "stderr",
     "output_type": "stream",
     "text": [
      "                                                                                \r"
     ]
    }
   ],
   "source": [
    "def get_gender_age_ad_features(df):\n",
    "    window = (\n",
    "        W.partitionBy('adgroup_id', 'age_level', 'final_gender_code')\n",
    "        .orderBy('time')\n",
    "        .rowsBetween(W.unboundedPreceding,-1)\n",
    "    )\n",
    "    return (\n",
    "        df\n",
    "        .withColumn('gender_age_ad_count', F.count('clk').over(window))\n",
    "        .withColumn('gender_age_ad_clk_count', F.sum('clk').over(window))\n",
    "    )\n",
    "    \n",
    "gender_age_ad_features_df =  get_gender_age_ad_features(cat_age_features_df)\n",
    "gender_age_ad_features_df.show()"
   ]
  },
  {
   "cell_type": "markdown",
   "id": "766e0135-6b7f-4c18-b6f0-3d40367dce07",
   "metadata": {},
   "source": [
    "# save dataset"
   ]
  },
  {
   "cell_type": "code",
   "execution_count": 16,
   "id": "b608b4e6-ea3e-4e93-84db-df39bc34855e",
   "metadata": {},
   "outputs": [
    {
     "name": "stderr",
     "output_type": "stream",
     "text": [
      "                                                                                \r"
     ]
    }
   ],
   "source": [
    "gender_age_ad_features_df.write.parquet(DATASET_PATH)"
   ]
  }
 ],
 "metadata": {
  "kernelspec": {
   "display_name": "Python 3 (ipykernel)",
   "language": "python",
   "name": "python3"
  },
  "language_info": {
   "codemirror_mode": {
    "name": "ipython",
    "version": 3
   },
   "file_extension": ".py",
   "mimetype": "text/x-python",
   "name": "python",
   "nbconvert_exporter": "python",
   "pygments_lexer": "ipython3",
   "version": "3.10.12"
  }
 },
 "nbformat": 4,
 "nbformat_minor": 5
}
